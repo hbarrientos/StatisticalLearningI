{
 "cells": [
  {
   "cell_type": "markdown",
   "id": "ce4640df",
   "metadata": {},
   "source": [
    "Universidad Galileo  \n",
    "Maestría en Data Science  \n",
    "Statistical Learning I\n",
    "Sección U  \n",
    "\n",
    "\n",
    "   # **Proyecto final: Clasificación de supervivencia en el Titanic**\n",
    "\n",
    "\n",
    "<p style=\"text-align: right;\">\n",
    "Henry Giovanni<br/>\n",
    "Barrientos García<br/>\n",
    "21001538<br/>\n",
    "Guatemala, 02 de julio de 2022<br/>\n",
    "</p>"
   ]
  },
  {
   "cell_type": "markdown",
   "id": "06078295",
   "metadata": {},
   "source": [
    "# Clasificación de Supervivencia en el naufragio del Titanic\n",
    "\n",
    "<img src=\"images/titanic.jpg\" alt=\"Titanic\" width=\"50%\" height=\"50%\"/>\n",
    "\n",
    "El proyecto consiste en hacer clasificación binaria para determinar si una persona sobrevive (y=1) o no (y=0) del hundimiento del Titanic. En este proyecto se busca crear un modelo con un nivel de exactitud de al menos el **80%** (aunque es posible crear modelos mejores que esto).\n",
    "\n",
    "El proyecto está dividido en 2 partes:\n",
    "1. Entrenamiento, selección y validación.\n",
    "2. Inferencia, predicción y despliegue de modelos"
   ]
  },
  {
   "cell_type": "markdown",
   "id": "9092bb8a",
   "metadata": {},
   "source": [
    "# Parte 1: Entrenamiento, selección y validación"
   ]
  },
  {
   "cell_type": "markdown",
   "id": "f73f034d",
   "metadata": {},
   "source": [
    "### Carga de librerías"
   ]
  },
  {
   "cell_type": "code",
   "execution_count": 1,
   "id": "945d401f",
   "metadata": {},
   "outputs": [
    {
     "name": "stdout",
     "output_type": "stream",
     "text": [
      "WARNING:tensorflow:From C:\\Users\\hbarrientosg\\Anaconda3\\envs\\TareasSLII\\lib\\site-packages\\tensorflow\\python\\compat\\v2_compat.py:61: disable_resource_variables (from tensorflow.python.ops.variable_scope) is deprecated and will be removed in a future version.\n",
      "Instructions for updating:\n",
      "non-resource variables are not supported in the long term\n"
     ]
    },
    {
     "ename": "AttributeError",
     "evalue": "module 'tensorflow._api.v1.compat.v1.compat' has no attribute 'v1'",
     "output_type": "error",
     "traceback": [
      "\u001b[1;31m---------------------------------------------------------------------------\u001b[0m",
      "\u001b[1;31mAttributeError\u001b[0m                            Traceback (most recent call last)",
      "\u001b[1;32mC:\\Users\\HBARRI~1\\AppData\\Local\\Temp/ipykernel_13504/18541377.py\u001b[0m in \u001b[0;36m<module>\u001b[1;34m\u001b[0m\n\u001b[0;32m     21\u001b[0m \u001b[0mget_ipython\u001b[0m\u001b[1;33m(\u001b[0m\u001b[1;33m)\u001b[0m\u001b[1;33m.\u001b[0m\u001b[0mrun_line_magic\u001b[0m\u001b[1;33m(\u001b[0m\u001b[1;34m'load_ext'\u001b[0m\u001b[1;33m,\u001b[0m \u001b[1;34m'tensorboard'\u001b[0m\u001b[1;33m)\u001b[0m\u001b[1;33m\u001b[0m\u001b[1;33m\u001b[0m\u001b[0m\n\u001b[0;32m     22\u001b[0m \u001b[0mtf\u001b[0m\u001b[1;33m.\u001b[0m\u001b[0mdisable_v2_behavior\u001b[0m\u001b[1;33m(\u001b[0m\u001b[1;33m)\u001b[0m\u001b[1;33m\u001b[0m\u001b[1;33m\u001b[0m\u001b[0m\n\u001b[1;32m---> 23\u001b[1;33m \u001b[0mtf\u001b[0m\u001b[1;33m.\u001b[0m\u001b[0mcompat\u001b[0m\u001b[1;33m.\u001b[0m\u001b[0mv1\u001b[0m\u001b[1;33m.\u001b[0m\u001b[0mdisable_eager_execution\u001b[0m\u001b[1;33m(\u001b[0m\u001b[1;33m)\u001b[0m\u001b[1;33m\u001b[0m\u001b[1;33m\u001b[0m\u001b[0m\n\u001b[0m",
      "\u001b[1;31mAttributeError\u001b[0m: module 'tensorflow._api.v1.compat.v1.compat' has no attribute 'v1'"
     ]
    }
   ],
   "source": [
    "import warnings\n",
    "warnings.filterwarnings('ignore')\n",
    "import numpy as np\n",
    "import pandas as pd\n",
    "import seaborn as sns\n",
    "import tensorflow.compat.v1 as tf\n",
    "import matplotlib.pyplot as plt\n",
    "import datetime\n",
    "import scipy\n",
    "import scipy.stats as stats\n",
    "from sklearn.preprocessing import OneHotEncoder, normalize, scale\n",
    "from sklearn.linear_model import LinearRegression\n",
    "from sklearn.model_selection import train_test_split\n",
    "from sklearn.metrics import classification_report\n",
    "from sklearn.metrics import precision_recall_fscore_support\n",
    "from sklearn import metrics\n",
    "from sklearn.tree import DecisionTreeClassifier\n",
    "from sklearn import svm\n",
    "from joblib import dump\n",
    "\n",
    "%load_ext tensorboard\n",
    "tf.disable_v2_behavior()\n",
    "tf.compat.v1.disable_eager_execution()"
   ]
  },
  {
   "cell_type": "markdown",
   "id": "27227608",
   "metadata": {},
   "source": [
    "### Análisis exploratorio de datos"
   ]
  },
  {
   "cell_type": "code",
   "execution_count": 2,
   "id": "61151aa8",
   "metadata": {},
   "outputs": [],
   "source": [
    "sv_titanic = pd.read_csv(\"data/data_titanic_proyecto.csv\")"
   ]
  },
  {
   "cell_type": "code",
   "execution_count": 3,
   "id": "24a8ca50",
   "metadata": {},
   "outputs": [
    {
     "name": "stdout",
     "output_type": "stream",
     "text": [
      "<class 'pandas.core.frame.DataFrame'>\n",
      "RangeIndex: 891 entries, 0 to 890\n",
      "Data columns (total 12 columns):\n",
      " #   Column              Non-Null Count  Dtype  \n",
      "---  ------              --------------  -----  \n",
      " 0   PassengerId         891 non-null    int64  \n",
      " 1   Name                891 non-null    object \n",
      " 2   Age                 714 non-null    float64\n",
      " 3   SibSp               891 non-null    int64  \n",
      " 4   Parch               891 non-null    int64  \n",
      " 5   Ticket              891 non-null    object \n",
      " 6   Fare                891 non-null    float64\n",
      " 7   Cabin               204 non-null    object \n",
      " 8   Embarked            889 non-null    object \n",
      " 9   passenger_class     891 non-null    object \n",
      " 10  passenger_sex       891 non-null    object \n",
      " 11  passenger_survived  891 non-null    object \n",
      "dtypes: float64(2), int64(3), object(7)\n",
      "memory usage: 83.7+ KB\n"
     ]
    }
   ],
   "source": [
    "sv_titanic.info()"
   ]
  },
  {
   "cell_type": "markdown",
   "id": "947df531",
   "metadata": {},
   "source": [
    "Observamos que el total de personas/registros de sobrevivientes del titanic son 891, distribuidos en 12 columnas. Las columnas son de distintos tipos y vemos que algunas presentan datos *nulos*."
   ]
  },
  {
   "cell_type": "code",
   "execution_count": 4,
   "id": "cba282b7",
   "metadata": {},
   "outputs": [
    {
     "data": {
      "text/html": [
       "<div>\n",
       "<style scoped>\n",
       "    .dataframe tbody tr th:only-of-type {\n",
       "        vertical-align: middle;\n",
       "    }\n",
       "\n",
       "    .dataframe tbody tr th {\n",
       "        vertical-align: top;\n",
       "    }\n",
       "\n",
       "    .dataframe thead th {\n",
       "        text-align: right;\n",
       "    }\n",
       "</style>\n",
       "<table border=\"1\" class=\"dataframe\">\n",
       "  <thead>\n",
       "    <tr style=\"text-align: right;\">\n",
       "      <th></th>\n",
       "      <th>PassengerId</th>\n",
       "      <th>Age</th>\n",
       "      <th>SibSp</th>\n",
       "      <th>Parch</th>\n",
       "      <th>Fare</th>\n",
       "    </tr>\n",
       "  </thead>\n",
       "  <tbody>\n",
       "    <tr>\n",
       "      <th>count</th>\n",
       "      <td>891.000000</td>\n",
       "      <td>714.000000</td>\n",
       "      <td>891.000000</td>\n",
       "      <td>891.000000</td>\n",
       "      <td>891.000000</td>\n",
       "    </tr>\n",
       "    <tr>\n",
       "      <th>mean</th>\n",
       "      <td>446.000000</td>\n",
       "      <td>29.699118</td>\n",
       "      <td>0.523008</td>\n",
       "      <td>0.381594</td>\n",
       "      <td>32.204208</td>\n",
       "    </tr>\n",
       "    <tr>\n",
       "      <th>std</th>\n",
       "      <td>257.353842</td>\n",
       "      <td>14.526497</td>\n",
       "      <td>1.102743</td>\n",
       "      <td>0.806057</td>\n",
       "      <td>49.693429</td>\n",
       "    </tr>\n",
       "    <tr>\n",
       "      <th>min</th>\n",
       "      <td>1.000000</td>\n",
       "      <td>0.420000</td>\n",
       "      <td>0.000000</td>\n",
       "      <td>0.000000</td>\n",
       "      <td>0.000000</td>\n",
       "    </tr>\n",
       "    <tr>\n",
       "      <th>25%</th>\n",
       "      <td>223.500000</td>\n",
       "      <td>20.125000</td>\n",
       "      <td>0.000000</td>\n",
       "      <td>0.000000</td>\n",
       "      <td>7.910400</td>\n",
       "    </tr>\n",
       "    <tr>\n",
       "      <th>50%</th>\n",
       "      <td>446.000000</td>\n",
       "      <td>28.000000</td>\n",
       "      <td>0.000000</td>\n",
       "      <td>0.000000</td>\n",
       "      <td>14.454200</td>\n",
       "    </tr>\n",
       "    <tr>\n",
       "      <th>75%</th>\n",
       "      <td>668.500000</td>\n",
       "      <td>38.000000</td>\n",
       "      <td>1.000000</td>\n",
       "      <td>0.000000</td>\n",
       "      <td>31.000000</td>\n",
       "    </tr>\n",
       "    <tr>\n",
       "      <th>max</th>\n",
       "      <td>891.000000</td>\n",
       "      <td>80.000000</td>\n",
       "      <td>8.000000</td>\n",
       "      <td>6.000000</td>\n",
       "      <td>512.329200</td>\n",
       "    </tr>\n",
       "  </tbody>\n",
       "</table>\n",
       "</div>"
      ],
      "text/plain": [
       "       PassengerId         Age       SibSp       Parch        Fare\n",
       "count   891.000000  714.000000  891.000000  891.000000  891.000000\n",
       "mean    446.000000   29.699118    0.523008    0.381594   32.204208\n",
       "std     257.353842   14.526497    1.102743    0.806057   49.693429\n",
       "min       1.000000    0.420000    0.000000    0.000000    0.000000\n",
       "25%     223.500000   20.125000    0.000000    0.000000    7.910400\n",
       "50%     446.000000   28.000000    0.000000    0.000000   14.454200\n",
       "75%     668.500000   38.000000    1.000000    0.000000   31.000000\n",
       "max     891.000000   80.000000    8.000000    6.000000  512.329200"
      ]
     },
     "execution_count": 4,
     "metadata": {},
     "output_type": "execute_result"
    }
   ],
   "source": [
    "# Análisis estadístico rápido de los datos\n",
    "sv_titanic.describe()"
   ]
  },
  {
   "cell_type": "markdown",
   "id": "306937ef",
   "metadata": {},
   "source": [
    "Al analizar la distribución de las variables numéricas y vemos que las escalas numéricas son distintas y que existe mucha diferencia entre las distribuciones de estas."
   ]
  },
  {
   "cell_type": "code",
   "execution_count": 5,
   "id": "b41b920d",
   "metadata": {},
   "outputs": [
    {
     "data": {
      "text/html": [
       "<div>\n",
       "<style scoped>\n",
       "    .dataframe tbody tr th:only-of-type {\n",
       "        vertical-align: middle;\n",
       "    }\n",
       "\n",
       "    .dataframe tbody tr th {\n",
       "        vertical-align: top;\n",
       "    }\n",
       "\n",
       "    .dataframe thead th {\n",
       "        text-align: right;\n",
       "    }\n",
       "</style>\n",
       "<table border=\"1\" class=\"dataframe\">\n",
       "  <thead>\n",
       "    <tr style=\"text-align: right;\">\n",
       "      <th></th>\n",
       "      <th>PassengerId</th>\n",
       "      <th>Name</th>\n",
       "      <th>Age</th>\n",
       "      <th>SibSp</th>\n",
       "      <th>Parch</th>\n",
       "      <th>Ticket</th>\n",
       "      <th>Fare</th>\n",
       "      <th>Cabin</th>\n",
       "      <th>Embarked</th>\n",
       "      <th>passenger_class</th>\n",
       "      <th>passenger_sex</th>\n",
       "      <th>passenger_survived</th>\n",
       "    </tr>\n",
       "  </thead>\n",
       "  <tbody>\n",
       "    <tr>\n",
       "      <th>0</th>\n",
       "      <td>1</td>\n",
       "      <td>Braund, Mr. Owen Harris</td>\n",
       "      <td>22.0</td>\n",
       "      <td>1</td>\n",
       "      <td>0</td>\n",
       "      <td>A/5 21171</td>\n",
       "      <td>7.2500</td>\n",
       "      <td>NaN</td>\n",
       "      <td>S</td>\n",
       "      <td>Lower</td>\n",
       "      <td>M</td>\n",
       "      <td>N</td>\n",
       "    </tr>\n",
       "    <tr>\n",
       "      <th>1</th>\n",
       "      <td>2</td>\n",
       "      <td>Cumings, Mrs. John Bradley (Florence Briggs Th...</td>\n",
       "      <td>38.0</td>\n",
       "      <td>1</td>\n",
       "      <td>0</td>\n",
       "      <td>PC 17599</td>\n",
       "      <td>71.2833</td>\n",
       "      <td>C85</td>\n",
       "      <td>C</td>\n",
       "      <td>Upper</td>\n",
       "      <td>F</td>\n",
       "      <td>Y</td>\n",
       "    </tr>\n",
       "    <tr>\n",
       "      <th>2</th>\n",
       "      <td>3</td>\n",
       "      <td>Heikkinen, Miss. Laina</td>\n",
       "      <td>26.0</td>\n",
       "      <td>0</td>\n",
       "      <td>0</td>\n",
       "      <td>STON/O2. 3101282</td>\n",
       "      <td>7.9250</td>\n",
       "      <td>NaN</td>\n",
       "      <td>S</td>\n",
       "      <td>Lower</td>\n",
       "      <td>F</td>\n",
       "      <td>Y</td>\n",
       "    </tr>\n",
       "    <tr>\n",
       "      <th>3</th>\n",
       "      <td>4</td>\n",
       "      <td>Futrelle, Mrs. Jacques Heath (Lily May Peel)</td>\n",
       "      <td>35.0</td>\n",
       "      <td>1</td>\n",
       "      <td>0</td>\n",
       "      <td>113803</td>\n",
       "      <td>53.1000</td>\n",
       "      <td>C123</td>\n",
       "      <td>S</td>\n",
       "      <td>Upper</td>\n",
       "      <td>F</td>\n",
       "      <td>Y</td>\n",
       "    </tr>\n",
       "    <tr>\n",
       "      <th>4</th>\n",
       "      <td>5</td>\n",
       "      <td>Allen, Mr. William Henry</td>\n",
       "      <td>35.0</td>\n",
       "      <td>0</td>\n",
       "      <td>0</td>\n",
       "      <td>373450</td>\n",
       "      <td>8.0500</td>\n",
       "      <td>NaN</td>\n",
       "      <td>S</td>\n",
       "      <td>Lower</td>\n",
       "      <td>M</td>\n",
       "      <td>N</td>\n",
       "    </tr>\n",
       "  </tbody>\n",
       "</table>\n",
       "</div>"
      ],
      "text/plain": [
       "   PassengerId                                               Name   Age  \\\n",
       "0            1                            Braund, Mr. Owen Harris  22.0   \n",
       "1            2  Cumings, Mrs. John Bradley (Florence Briggs Th...  38.0   \n",
       "2            3                             Heikkinen, Miss. Laina  26.0   \n",
       "3            4       Futrelle, Mrs. Jacques Heath (Lily May Peel)  35.0   \n",
       "4            5                           Allen, Mr. William Henry  35.0   \n",
       "\n",
       "   SibSp  Parch            Ticket     Fare Cabin Embarked passenger_class  \\\n",
       "0      1      0         A/5 21171   7.2500   NaN        S           Lower   \n",
       "1      1      0          PC 17599  71.2833   C85        C           Upper   \n",
       "2      0      0  STON/O2. 3101282   7.9250   NaN        S           Lower   \n",
       "3      1      0            113803  53.1000  C123        S           Upper   \n",
       "4      0      0            373450   8.0500   NaN        S           Lower   \n",
       "\n",
       "  passenger_sex passenger_survived  \n",
       "0             M                  N  \n",
       "1             F                  Y  \n",
       "2             F                  Y  \n",
       "3             F                  Y  \n",
       "4             M                  N  "
      ]
     },
     "execution_count": 5,
     "metadata": {},
     "output_type": "execute_result"
    }
   ],
   "source": [
    "# Previsualización de algunos datos\n",
    "sv_titanic.head()"
   ]
  },
  {
   "cell_type": "markdown",
   "id": "b441694a",
   "metadata": {},
   "source": [
    "Al validar algunos de los datos del dataset vemos que algunas columnas no son necesarias para realizar el análisis, por lo cual estas las eliminaremos del conjunto de datos. Las columnas a eliminar son: **PassengerId, Name, Ticket, Cabin**."
   ]
  },
  {
   "cell_type": "code",
   "execution_count": 6,
   "id": "cbbb003b",
   "metadata": {},
   "outputs": [
    {
     "name": "stdout",
     "output_type": "stream",
     "text": [
      "Columna\t\t\t% de Null\n",
      "\n",
      "PassengerId            0.00\n",
      "Name                   0.00\n",
      "Age                   19.87\n",
      "SibSp                  0.00\n",
      "Parch                  0.00\n",
      "Ticket                 0.00\n",
      "Fare                   0.00\n",
      "Cabin                 77.10\n",
      "Embarked               0.22\n",
      "passenger_class        0.00\n",
      "passenger_sex          0.00\n",
      "passenger_survived     0.00\n",
      "dtype: float64\n"
     ]
    }
   ],
   "source": [
    "# Validamos el porcentaje de valoes null para cada columna\n",
    "#print(\"% de Null en cada columna\\n\", round(sv_titanic.isnull().sum() / len(sv_titanic.index) * 100, 2))\n",
    "print(\"Columna\\t\\t\\t% de Null\\n\")\n",
    "print(round(sv_titanic.isnull().sum() / len(sv_titanic.index) * 100, 2))\n"
   ]
  },
  {
   "cell_type": "markdown",
   "id": "30d11cdb",
   "metadata": {},
   "source": [
    "### Feature Engineering\n",
    "\n",
    "Vemos que la columna **Age** (edad) del dataset tiene una cantidad considerable de valores null con casi el 20% de su contenido, por lo cual vemos necesario realizar featuring engineering a esta columna, por lo que aplicaremos la técnica de imputación **\"median\"** a las edades que tenga un valor null."
   ]
  },
  {
   "cell_type": "code",
   "execution_count": 7,
   "id": "4cc4518d",
   "metadata": {},
   "outputs": [],
   "source": [
    "medianaAge = sv_titanic['Age'].median()\n",
    "sv_titanic['Age'] = sv_titanic['Age'].fillna(medianaAge)"
   ]
  },
  {
   "cell_type": "markdown",
   "id": "2ccf0eab",
   "metadata": {},
   "source": [
    "Para la columnas **passenger_sex y passenger_survived** se reemplazan sus valores tipo cadena por valores numéricos de la forma siguiente:\n",
    "1. passenger_sex:      F = 0 y M = 1\n",
    "2. passenger_survived: N = 0 y Y = 1"
   ]
  },
  {
   "cell_type": "code",
   "execution_count": 8,
   "id": "baa33c4e",
   "metadata": {},
   "outputs": [],
   "source": [
    "sv_titanic['passenger_sex'] = sv_titanic['passenger_sex'].replace('F', 0)\n",
    "sv_titanic['passenger_sex'] = sv_titanic['passenger_sex'].replace('M', 1)\n",
    "sv_titanic['passenger_survived'] = sv_titanic['passenger_survived'].replace('N', 0)\n",
    "sv_titanic['passenger_survived'] = sv_titanic['passenger_survived'].replace('Y', 1)"
   ]
  },
  {
   "cell_type": "markdown",
   "id": "386d8b82",
   "metadata": {},
   "source": [
    "Las columnas **passenger_class y Embarked** son candidatas a aplicarles One Hot Encoding, lo vemos a continuación:"
   ]
  },
  {
   "cell_type": "code",
   "execution_count": 9,
   "id": "49aecb9b",
   "metadata": {},
   "outputs": [],
   "source": [
    "def get_classes(columnName):\n",
    "    classes = np.array(sv_titanic[columnName]).reshape(-1,1)\n",
    "    clases = OneHotEncoder(categories='auto')\n",
    "    clases.fit(classes)\n",
    "    classes = clases.transform(classes).toarray()\n",
    "    return classes"
   ]
  },
  {
   "cell_type": "markdown",
   "id": "202b4ec1",
   "metadata": {},
   "source": [
    "**passenger_class**"
   ]
  },
  {
   "cell_type": "code",
   "execution_count": 10,
   "id": "abe0610c",
   "metadata": {},
   "outputs": [],
   "source": [
    "ohe_classes = get_classes(\"passenger_class\")\n",
    "sv_titanic['LClass'], sv_titanic['MClass'], sv_titanic['UClass'] = [ohe_classes.T[0], ohe_classes.T[1], ohe_classes.T[2]]"
   ]
  },
  {
   "cell_type": "markdown",
   "id": "b66f37dc",
   "metadata": {},
   "source": [
    "**Embarked**"
   ]
  },
  {
   "cell_type": "code",
   "execution_count": 11,
   "id": "00e73b25",
   "metadata": {},
   "outputs": [],
   "source": [
    "ohe_classes = get_classes(\"Embarked\")\n",
    "sv_titanic['EmbarkedC'], sv_titanic['EmbarkedQ'], sv_titanic['EmbarkedS'] = [ohe_classes.T[0], ohe_classes.T[1], ohe_classes.T[2]]"
   ]
  },
  {
   "cell_type": "markdown",
   "id": "313f2960",
   "metadata": {},
   "source": [
    "#### Visualización de variables"
   ]
  },
  {
   "cell_type": "code",
   "execution_count": 12,
   "id": "7635ad2f",
   "metadata": {},
   "outputs": [
    {
     "data": {
      "image/png": "[encoded data removed]",
      "text/plain": [
       "<Figure size 432x288 with 1 Axes>"
      ]
     },
     "metadata": {},
     "output_type": "display_data"
    }
   ],
   "source": [
    "# Age\n",
    "sns.set_theme(style = \"whitegrid\")\n",
    "sns.kdeplot(sv_titanic[\"Age\"], shade = True, color = \"orange\")\n",
    "plt.show()"
   ]
  },
  {
   "cell_type": "markdown",
   "id": "a81e3c1e",
   "metadata": {},
   "source": [
    "La mayor parte de las personas que abordaronel Titanic tenían aproximadamente 30 años, la persona con más pequeña tenía 0.5 años (6 meses) y la de mayor edad tenía 80 años."
   ]
  },
  {
   "cell_type": "code",
   "execution_count": 13,
   "id": "8c76ef2a",
   "metadata": {},
   "outputs": [
    {
     "data": {
      "image/png": "[encoded data removed]",
      "text/plain": [
       "<Figure size 432x288 with 1 Axes>"
      ]
     },
     "metadata": {},
     "output_type": "display_data"
    }
   ],
   "source": [
    "# SibSp\n",
    "sns.kdeplot(sv_titanic[\"SibSp\"], shade = True, color = \"orange\")\n",
    "plt.show()"
   ]
  },
  {
   "cell_type": "markdown",
   "id": "9a92adfe",
   "metadata": {},
   "source": [
    "La gran mayoría de pasajeros no viajaban acompañados o con sus parientes. Hubieron algunas personas que iban acompañadas con 4 y la persona que llevaba mas acompañantes iba con 8 personas."
   ]
  },
  {
   "cell_type": "code",
   "execution_count": 14,
   "id": "8c06f00b",
   "metadata": {},
   "outputs": [
    {
     "data": {
      "image/png": "[encoded data removed]",
      "text/plain": [
       "<Figure size 432x288 with 1 Axes>"
      ]
     },
     "metadata": {},
     "output_type": "display_data"
    }
   ],
   "source": [
    "# Parch\n",
    "sns.kdeplot(sv_titanic[\"Parch\"], shade = True, color = \"orange\")\n",
    "plt.show()"
   ]
  },
  {
   "cell_type": "markdown",
   "id": "29743513",
   "metadata": {},
   "source": [
    "La mayoría de pasajeros no viajaban acompañados de sus hijos o padres. El pasajero con más hijos o padres en el Titanic iba acompañada por 6 personas."
   ]
  },
  {
   "cell_type": "code",
   "execution_count": 15,
   "id": "10a7b914",
   "metadata": {},
   "outputs": [
    {
     "data": {
      "image/png": "[encoded data removed]",
      "text/plain": [
       "<Figure size 432x288 with 1 Axes>"
      ]
     },
     "metadata": {},
     "output_type": "display_data"
    }
   ],
   "source": [
    "# Fare\n",
    "sns.kdeplot(sv_titanic[\"Fare\"], shade = True, color = \"orange\")\n",
    "plt.show()"
   ]
  },
  {
   "cell_type": "markdown",
   "id": "8d1eb8b3",
   "metadata": {},
   "source": [
    "Según los datos se observa que aproximadamente 75% de los pasajeros pagó 31 como precio de boleto. Así mismo algunos no pagaron tarifa y unos pocos pagaron una tarifa alta."
   ]
  },
  {
   "cell_type": "code",
   "execution_count": 16,
   "id": "85422ee7",
   "metadata": {},
   "outputs": [
    {
     "data": {
      "image/png": "[encoded data removed]",
      "text/plain": [
       "<Figure size 432x288 with 1 Axes>"
      ]
     },
     "metadata": {},
     "output_type": "display_data"
    }
   ],
   "source": [
    "# Cantidad de pasajeros por clase categorizados por sexo, recordemos que passenger_sex: F = 0 y M = 1\n",
    "sns.countplot(x = 'passenger_class', hue = 'passenger_sex', data = sv_titanic, palette = 'rocket')\n",
    "plt.show()"
   ]
  },
  {
   "cell_type": "markdown",
   "id": "32dae2ca",
   "metadata": {},
   "source": [
    "No importando el nivel social, la cantidad de hombres es mayor respecto de la cantidad de mujeres."
   ]
  },
  {
   "cell_type": "code",
   "execution_count": 17,
   "id": "dcde0326",
   "metadata": {},
   "outputs": [
    {
     "data": {
      "image/png": "[encoded data removed]",
      "text/plain": [
       "<Figure size 432x288 with 1 Axes>"
      ]
     },
     "metadata": {},
     "output_type": "display_data"
    }
   ],
   "source": [
    "# Pasajeros sobrevivientes categorizados por sexo, recordemos que passenger_sex: F = 0 y M = 1\n",
    "sns.countplot(x = 'passenger_survived', hue = 'passenger_sex', data = sv_titanic, palette = 'rocket')\n",
    "plt.show()"
   ]
  },
  {
   "cell_type": "markdown",
   "id": "e8fa78cd",
   "metadata": {},
   "source": [
    "De los datos se observa que hubo una mayor cantidad de sobrevivients mujeres, y en complemento a esto la mayor cantidad de pasajeros que fallecieron fueron hombres."
   ]
  },
  {
   "cell_type": "markdown",
   "id": "ded260e7",
   "metadata": {},
   "source": [
    "#### Normalización de variables\n",
    "Por otro lado vemos que los valores de las variables numéricas están en distintas escalas numéricas, por ello se procede a normalizar algunas variables."
   ]
  },
  {
   "cell_type": "code",
   "execution_count": 18,
   "id": "371c6603",
   "metadata": {},
   "outputs": [],
   "source": [
    "sv_titanic[['Age', 'SibSp', 'Parch', 'Fare']] = normalize(sv_titanic[['Age', 'SibSp', 'Parch', 'Fare']])"
   ]
  },
  {
   "cell_type": "code",
   "execution_count": 19,
   "id": "0929aa6c",
   "metadata": {},
   "outputs": [
    {
     "data": {
      "text/html": [
       "<div>\n",
       "<style scoped>\n",
       "    .dataframe tbody tr th:only-of-type {\n",
       "        vertical-align: middle;\n",
       "    }\n",
       "\n",
       "    .dataframe tbody tr th {\n",
       "        vertical-align: top;\n",
       "    }\n",
       "\n",
       "    .dataframe thead th {\n",
       "        text-align: right;\n",
       "    }\n",
       "</style>\n",
       "<table border=\"1\" class=\"dataframe\">\n",
       "  <thead>\n",
       "    <tr style=\"text-align: right;\">\n",
       "      <th></th>\n",
       "      <th>Age</th>\n",
       "      <th>SibSp</th>\n",
       "      <th>Parch</th>\n",
       "      <th>Fare</th>\n",
       "      <th>passenger_sex</th>\n",
       "      <th>passenger_survived</th>\n",
       "      <th>LClass</th>\n",
       "      <th>MClass</th>\n",
       "      <th>UClass</th>\n",
       "      <th>EmbarkedC</th>\n",
       "      <th>EmbarkedQ</th>\n",
       "      <th>EmbarkedS</th>\n",
       "    </tr>\n",
       "  </thead>\n",
       "  <tbody>\n",
       "    <tr>\n",
       "      <th>0</th>\n",
       "      <td>0.948873</td>\n",
       "      <td>0.043131</td>\n",
       "      <td>0.000000</td>\n",
       "      <td>0.312697</td>\n",
       "      <td>1</td>\n",
       "      <td>0</td>\n",
       "      <td>1.0</td>\n",
       "      <td>0.0</td>\n",
       "      <td>0.0</td>\n",
       "      <td>0.0</td>\n",
       "      <td>0.0</td>\n",
       "      <td>1.0</td>\n",
       "    </tr>\n",
       "    <tr>\n",
       "      <th>1</th>\n",
       "      <td>0.470381</td>\n",
       "      <td>0.012378</td>\n",
       "      <td>0.000000</td>\n",
       "      <td>0.882377</td>\n",
       "      <td>0</td>\n",
       "      <td>1</td>\n",
       "      <td>0.0</td>\n",
       "      <td>0.0</td>\n",
       "      <td>1.0</td>\n",
       "      <td>1.0</td>\n",
       "      <td>0.0</td>\n",
       "      <td>0.0</td>\n",
       "    </tr>\n",
       "    <tr>\n",
       "      <th>2</th>\n",
       "      <td>0.956551</td>\n",
       "      <td>0.000000</td>\n",
       "      <td>0.000000</td>\n",
       "      <td>0.291564</td>\n",
       "      <td>0</td>\n",
       "      <td>1</td>\n",
       "      <td>1.0</td>\n",
       "      <td>0.0</td>\n",
       "      <td>0.0</td>\n",
       "      <td>0.0</td>\n",
       "      <td>0.0</td>\n",
       "      <td>1.0</td>\n",
       "    </tr>\n",
       "    <tr>\n",
       "      <th>3</th>\n",
       "      <td>0.550270</td>\n",
       "      <td>0.015722</td>\n",
       "      <td>0.000000</td>\n",
       "      <td>0.834839</td>\n",
       "      <td>0</td>\n",
       "      <td>1</td>\n",
       "      <td>0.0</td>\n",
       "      <td>0.0</td>\n",
       "      <td>1.0</td>\n",
       "      <td>0.0</td>\n",
       "      <td>0.0</td>\n",
       "      <td>1.0</td>\n",
       "    </tr>\n",
       "    <tr>\n",
       "      <th>4</th>\n",
       "      <td>0.974555</td>\n",
       "      <td>0.000000</td>\n",
       "      <td>0.000000</td>\n",
       "      <td>0.224148</td>\n",
       "      <td>1</td>\n",
       "      <td>0</td>\n",
       "      <td>1.0</td>\n",
       "      <td>0.0</td>\n",
       "      <td>0.0</td>\n",
       "      <td>0.0</td>\n",
       "      <td>0.0</td>\n",
       "      <td>1.0</td>\n",
       "    </tr>\n",
       "    <tr>\n",
       "      <th>...</th>\n",
       "      <td>...</td>\n",
       "      <td>...</td>\n",
       "      <td>...</td>\n",
       "      <td>...</td>\n",
       "      <td>...</td>\n",
       "      <td>...</td>\n",
       "      <td>...</td>\n",
       "      <td>...</td>\n",
       "      <td>...</td>\n",
       "      <td>...</td>\n",
       "      <td>...</td>\n",
       "      <td>...</td>\n",
       "    </tr>\n",
       "    <tr>\n",
       "      <th>886</th>\n",
       "      <td>0.901002</td>\n",
       "      <td>0.000000</td>\n",
       "      <td>0.000000</td>\n",
       "      <td>0.433816</td>\n",
       "      <td>1</td>\n",
       "      <td>0</td>\n",
       "      <td>0.0</td>\n",
       "      <td>1.0</td>\n",
       "      <td>0.0</td>\n",
       "      <td>0.0</td>\n",
       "      <td>0.0</td>\n",
       "      <td>1.0</td>\n",
       "    </tr>\n",
       "    <tr>\n",
       "      <th>887</th>\n",
       "      <td>0.535052</td>\n",
       "      <td>0.000000</td>\n",
       "      <td>0.000000</td>\n",
       "      <td>0.844819</td>\n",
       "      <td>0</td>\n",
       "      <td>1</td>\n",
       "      <td>0.0</td>\n",
       "      <td>0.0</td>\n",
       "      <td>1.0</td>\n",
       "      <td>0.0</td>\n",
       "      <td>0.0</td>\n",
       "      <td>1.0</td>\n",
       "    </tr>\n",
       "    <tr>\n",
       "      <th>888</th>\n",
       "      <td>0.765215</td>\n",
       "      <td>0.027329</td>\n",
       "      <td>0.054658</td>\n",
       "      <td>0.640868</td>\n",
       "      <td>0</td>\n",
       "      <td>0</td>\n",
       "      <td>1.0</td>\n",
       "      <td>0.0</td>\n",
       "      <td>0.0</td>\n",
       "      <td>0.0</td>\n",
       "      <td>0.0</td>\n",
       "      <td>1.0</td>\n",
       "    </tr>\n",
       "    <tr>\n",
       "      <th>889</th>\n",
       "      <td>0.654931</td>\n",
       "      <td>0.000000</td>\n",
       "      <td>0.000000</td>\n",
       "      <td>0.755689</td>\n",
       "      <td>1</td>\n",
       "      <td>1</td>\n",
       "      <td>0.0</td>\n",
       "      <td>0.0</td>\n",
       "      <td>1.0</td>\n",
       "      <td>1.0</td>\n",
       "      <td>0.0</td>\n",
       "      <td>0.0</td>\n",
       "    </tr>\n",
       "    <tr>\n",
       "      <th>890</th>\n",
       "      <td>0.971903</td>\n",
       "      <td>0.000000</td>\n",
       "      <td>0.000000</td>\n",
       "      <td>0.235383</td>\n",
       "      <td>1</td>\n",
       "      <td>0</td>\n",
       "      <td>1.0</td>\n",
       "      <td>0.0</td>\n",
       "      <td>0.0</td>\n",
       "      <td>0.0</td>\n",
       "      <td>1.0</td>\n",
       "      <td>0.0</td>\n",
       "    </tr>\n",
       "  </tbody>\n",
       "</table>\n",
       "<p>891 rows × 12 columns</p>\n",
       "</div>"
      ],
      "text/plain": [
       "          Age     SibSp     Parch      Fare  passenger_sex  \\\n",
       "0    0.948873  0.043131  0.000000  0.312697              1   \n",
       "1    0.470381  0.012378  0.000000  0.882377              0   \n",
       "2    0.956551  0.000000  0.000000  0.291564              0   \n",
       "3    0.550270  0.015722  0.000000  0.834839              0   \n",
       "4    0.974555  0.000000  0.000000  0.224148              1   \n",
       "..        ...       ...       ...       ...            ...   \n",
       "886  0.901002  0.000000  0.000000  0.433816              1   \n",
       "887  0.535052  0.000000  0.000000  0.844819              0   \n",
       "888  0.765215  0.027329  0.054658  0.640868              0   \n",
       "889  0.654931  0.000000  0.000000  0.755689              1   \n",
       "890  0.971903  0.000000  0.000000  0.235383              1   \n",
       "\n",
       "     passenger_survived  LClass  MClass  UClass  EmbarkedC  EmbarkedQ  \\\n",
       "0                     0     1.0     0.0     0.0        0.0        0.0   \n",
       "1                     1     0.0     0.0     1.0        1.0        0.0   \n",
       "2                     1     1.0     0.0     0.0        0.0        0.0   \n",
       "3                     1     0.0     0.0     1.0        0.0        0.0   \n",
       "4                     0     1.0     0.0     0.0        0.0        0.0   \n",
       "..                  ...     ...     ...     ...        ...        ...   \n",
       "886                   0     0.0     1.0     0.0        0.0        0.0   \n",
       "887                   1     0.0     0.0     1.0        0.0        0.0   \n",
       "888                   0     1.0     0.0     0.0        0.0        0.0   \n",
       "889                   1     0.0     0.0     1.0        1.0        0.0   \n",
       "890                   0     1.0     0.0     0.0        0.0        1.0   \n",
       "\n",
       "     EmbarkedS  \n",
       "0          1.0  \n",
       "1          0.0  \n",
       "2          1.0  \n",
       "3          1.0  \n",
       "4          1.0  \n",
       "..         ...  \n",
       "886        1.0  \n",
       "887        1.0  \n",
       "888        1.0  \n",
       "889        0.0  \n",
       "890        0.0  \n",
       "\n",
       "[891 rows x 12 columns]"
      ]
     },
     "execution_count": 19,
     "metadata": {},
     "output_type": "execute_result"
    }
   ],
   "source": [
    "# Columnas que no se usaran para el análisis\n",
    "sv_titanic = sv_titanic.drop(['PassengerId', 'Name', 'Ticket', 'Cabin', 'Embarked', 'passenger_class'], axis = 1)\n",
    "sv_titanic"
   ]
  },
  {
   "cell_type": "markdown",
   "id": "809405dd",
   "metadata": {},
   "source": [
    "### Split de datos"
   ]
  },
  {
   "cell_type": "code",
   "execution_count": 20,
   "id": "81f178e8",
   "metadata": {},
   "outputs": [],
   "source": [
    "y = sv_titanic['passenger_survived']\n",
    "x = sv_titanic.drop(columns=['passenger_survived'])"
   ]
  },
  {
   "cell_type": "code",
   "execution_count": 21,
   "id": "fb2b8dfb",
   "metadata": {},
   "outputs": [],
   "source": [
    "# Train y Test\n",
    "xTrain, xTest, yTrain, yTest = train_test_split(x, y, test_size=0.20, random_state=1987)"
   ]
  },
  {
   "cell_type": "code",
   "execution_count": 22,
   "id": "1c37ede6",
   "metadata": {},
   "outputs": [],
   "source": [
    "# Validation\n",
    "xTrain, xVal, yTrain, yVal = train_test_split(xTrain, yTrain, test_size=0.20, random_state=1987)"
   ]
  },
  {
   "cell_type": "code",
   "execution_count": 23,
   "id": "920b14cc",
   "metadata": {},
   "outputs": [
    {
     "name": "stdout",
     "output_type": "stream",
     "text": [
      "% Train = 63.86\n",
      "% Validation = 16.05\n",
      "% Test = 20.09\n"
     ]
    }
   ],
   "source": [
    "print('% Train =', round((len(xTrain.index) / len(y.index)) * 100, 2 ))\n",
    "print('% Validation =', round((len(xVal.index) / len(y.index)) * 100, 2 ))\n",
    "print('% Test =', round((len(xTest.index) / len(y.index)) * 100, 2 ))"
   ]
  },
  {
   "cell_type": "markdown",
   "id": "c24fe401",
   "metadata": {},
   "source": [
    "### Construcción de modelos de entrenamiento\n",
    "\n",
    "#### Árbol de decisión\n",
    "\n",
    "Para el árbol de decisión se tomó como parámetro de configuración **max_depth**"
   ]
  },
  {
   "cell_type": "code",
   "execution_count": 24,
   "id": "f5dbfb08",
   "metadata": {},
   "outputs": [],
   "source": [
    "def train_modelDecisionTreeClassifier(xTrain, yTrain, xVal, yVal, max_depth = None):\n",
    "    model = DecisionTreeClassifier(max_depth = max_depth)\n",
    "    model.fit(xTrain, yTrain)\n",
    "    trainAccuracy = model.score(xTrain, yTrain)\n",
    "    valAccuracy = model.score(xVal, yVal)\n",
    "    return model, trainAccuracy,valAccuracy"
   ]
  },
  {
   "cell_type": "markdown",
   "id": "777152b6",
   "metadata": {},
   "source": [
    "##### Experimento 1"
   ]
  },
  {
   "cell_type": "code",
   "execution_count": 25,
   "id": "a584f43a",
   "metadata": {},
   "outputs": [
    {
     "name": "stdout",
     "output_type": "stream",
     "text": [
      "---------- max_depth=None----------\n",
      "Train Accuracy =  0.98\n",
      "Validation Accuracy =  0.71\n"
     ]
    }
   ],
   "source": [
    "model, trainAccuracy,valAccuracy = train_modelDecisionTreeClassifier(xTrain, yTrain, xVal, yVal)\n",
    "\n",
    "print('---------- max_depth=None----------')\n",
    "print('Train Accuracy = ', round(trainAccuracy, 2))\n",
    "print('Validation Accuracy = ', round(valAccuracy, 2))"
   ]
  },
  {
   "cell_type": "markdown",
   "id": "9023b2bb",
   "metadata": {},
   "source": [
    "##### Experimento 2 - 9"
   ]
  },
  {
   "cell_type": "code",
   "execution_count": 26,
   "id": "1cd7c1bf",
   "metadata": {},
   "outputs": [
    {
     "name": "stdout",
     "output_type": "stream",
     "text": [
      "---------- max_depth = 1 ----------\n",
      "Train Accuracy =  0.77\n",
      "Validation Accuracy =  0.77\n",
      "---------- max_depth = 2 ----------\n",
      "Train Accuracy =  0.78\n",
      "Validation Accuracy =  0.78\n",
      "---------- max_depth = 3 ----------\n",
      "Train Accuracy =  0.81\n",
      "Validation Accuracy =  0.83\n",
      "---------- max_depth = 4 ----------\n",
      "Train Accuracy =  0.82\n",
      "Validation Accuracy =  0.78\n",
      "---------- max_depth = 5 ----------\n",
      "Train Accuracy =  0.85\n",
      "Validation Accuracy =  0.79\n",
      "---------- max_depth = 6 ----------\n",
      "Train Accuracy =  0.86\n",
      "Validation Accuracy =  0.78\n",
      "---------- max_depth = 7 ----------\n",
      "Train Accuracy =  0.88\n",
      "Validation Accuracy =  0.76\n",
      "---------- max_depth = 8 ----------\n",
      "Train Accuracy =  0.91\n",
      "Validation Accuracy =  0.73\n",
      "---------- max_depth = 9 ----------\n",
      "Train Accuracy =  0.92\n",
      "Validation Accuracy =  0.73\n",
      "---------- max_depth = 10 ----------\n",
      "Train Accuracy =  0.93\n",
      "Validation Accuracy =  0.72\n"
     ]
    }
   ],
   "source": [
    "for i in range (1,11):\n",
    "    model, trainAccuracy,valAccuracy = train_modelDecisionTreeClassifier(xTrain, yTrain, xVal, yVal, max_depth=i)\n",
    "    print('---------- max_depth =',i ,'----------')\n",
    "    print('Train Accuracy = ', round(trainAccuracy, 2))\n",
    "    print('Validation Accuracy = ', round(valAccuracy, 2))"
   ]
  },
  {
   "cell_type": "markdown",
   "id": "d2c6adf6",
   "metadata": {},
   "source": [
    "Despues de los pasos de experimentación determinamos que el mejor modelo se encuentra al utilizar el parámetro max_depth = 3"
   ]
  },
  {
   "cell_type": "code",
   "execution_count": 27,
   "id": "eb03d8eb",
   "metadata": {},
   "outputs": [],
   "source": [
    "# Seleccionando el mejor modelDecisionTreeClassifier\n",
    "bestModelDecisionTreeClassifier, trainAccuracyTree,valAccuracyTree = train_modelDecisionTreeClassifier(xTrain,\n",
    "                                                                                                       yTrain,\n",
    "                                                                                                       xVal,\n",
    "                                                                                                       yVal,\n",
    "                                                                                                       max_depth=3)"
   ]
  },
  {
   "cell_type": "code",
   "execution_count": 28,
   "id": "526f9ea6",
   "metadata": {},
   "outputs": [
    {
     "data": {
      "text/plain": [
       "['models/modelDecisionTreeClassifier(max_depth=3).joblib']"
      ]
     },
     "execution_count": 28,
     "metadata": {},
     "output_type": "execute_result"
    }
   ],
   "source": [
    "# Almacenar modelo\n",
    "dump(bestModelDecisionTreeClassifier, \"models/modelDecisionTreeClassifier(max_depth=3).joblib\")"
   ]
  },
  {
   "cell_type": "markdown",
   "id": "3739dc8c",
   "metadata": {},
   "source": [
    "#### SVM\n",
    "\n",
    "Para el modelo SVM se tomarán en cuenta los parámetros de configuración **C y Kernel**."
   ]
  },
  {
   "cell_type": "code",
   "execution_count": 29,
   "id": "1087a1c5",
   "metadata": {},
   "outputs": [],
   "source": [
    "def train_modelSVM(xTrain, yTrain, xVal, yVal, C = 1.0, kernel = 'rbf'):\n",
    "    model = svm.SVC(C = C, kernel = kernel)\n",
    "    model.fit(xTrain, yTrain)\n",
    "    trainAccuracy = model.score(xTrain, yTrain)\n",
    "    valAccuracy = model.score(xVal, yVal)\n",
    "    return model, trainAccuracy,valAccuracy"
   ]
  },
  {
   "cell_type": "markdown",
   "id": "f634217c",
   "metadata": {},
   "source": [
    "##### Experimento 1"
   ]
  },
  {
   "cell_type": "code",
   "execution_count": 30,
   "id": "c8a68138",
   "metadata": {},
   "outputs": [
    {
     "name": "stdout",
     "output_type": "stream",
     "text": [
      "---------- C= 1 kernel=rbf----------\n",
      "Train Accuracy =  0.8\n",
      "Validation Accuracy =  0.83\n",
      "---------- C= 2 kernel=rbf----------\n",
      "Train Accuracy =  0.8\n",
      "Validation Accuracy =  0.83\n",
      "---------- C= 3 kernel=rbf----------\n",
      "Train Accuracy =  0.81\n",
      "Validation Accuracy =  0.81\n",
      "---------- C= 4 kernel=rbf----------\n",
      "Train Accuracy =  0.81\n",
      "Validation Accuracy =  0.82\n"
     ]
    }
   ],
   "source": [
    "for i in range(1, 5):\n",
    "    model, trainAccuracy,valAccuracy = train_modelSVM(xTrain, yTrain, xVal, yVal, C= i)\n",
    "    print('---------- C=',i,'kernel=rbf----------')\n",
    "    print('Train Accuracy = ', round(trainAccuracy, 2))\n",
    "    print('Validation Accuracy = ', round(valAccuracy, 2))"
   ]
  },
  {
   "cell_type": "markdown",
   "id": "56cb039f",
   "metadata": {},
   "source": [
    "##### Experimento 2"
   ]
  },
  {
   "cell_type": "code",
   "execution_count": 31,
   "id": "e32510f1",
   "metadata": {},
   "outputs": [
    {
     "name": "stdout",
     "output_type": "stream",
     "text": [
      "---------- C= 1 kernel=linear----------\n",
      "Train Accuracy =  0.77\n",
      "Validation Accuracy =  0.77\n",
      "---------- C= 2 kernel=linear----------\n",
      "Train Accuracy =  0.77\n",
      "Validation Accuracy =  0.77\n",
      "---------- C= 3 kernel=linear----------\n",
      "Train Accuracy =  0.77\n",
      "Validation Accuracy =  0.77\n",
      "---------- C= 4 kernel=linear----------\n",
      "Train Accuracy =  0.77\n",
      "Validation Accuracy =  0.77\n"
     ]
    }
   ],
   "source": [
    "for i in range(1, 5):\n",
    "    model, trainAccuracy,valAccuracy = train_modelSVM(xTrain, yTrain, xVal, yVal, C= i, kernel = 'linear')\n",
    "    print('---------- C=',i,'kernel=linear----------')\n",
    "    print('Train Accuracy = ', round(trainAccuracy, 2))\n",
    "    print('Validation Accuracy = ', round(valAccuracy, 2))"
   ]
  },
  {
   "cell_type": "code",
   "execution_count": 32,
   "id": "6a911a6e",
   "metadata": {},
   "outputs": [
    {
     "name": "stdout",
     "output_type": "stream",
     "text": [
      "---------- C= 1 kernel=poly----------\n",
      "Train Accuracy =  0.81\n",
      "Validation Accuracy =  0.81\n",
      "---------- C= 2 kernel=poly----------\n",
      "Train Accuracy =  0.81\n",
      "Validation Accuracy =  0.8\n",
      "---------- C= 3 kernel=poly----------\n",
      "Train Accuracy =  0.81\n",
      "Validation Accuracy =  0.82\n",
      "---------- C= 4 kernel=poly----------\n",
      "Train Accuracy =  0.81\n",
      "Validation Accuracy =  0.82\n"
     ]
    }
   ],
   "source": [
    "for i in range(1, 5):\n",
    "    model, trainAccuracy,valAccuracy = train_modelSVM(xTrain, yTrain, xVal, yVal, C= i, kernel = 'poly')\n",
    "    print('---------- C=',i,'kernel=poly----------')\n",
    "    print('Train Accuracy = ', round(trainAccuracy, 2))\n",
    "    print('Validation Accuracy = ', round(valAccuracy, 2))"
   ]
  },
  {
   "cell_type": "code",
   "execution_count": 33,
   "id": "b8625c88",
   "metadata": {},
   "outputs": [
    {
     "name": "stdout",
     "output_type": "stream",
     "text": [
      "---------- C= 1 kernel=sigmoid----------\n",
      "Train Accuracy =  0.68\n",
      "Validation Accuracy =  0.74\n",
      "---------- C= 2 kernel=sigmoid----------\n",
      "Train Accuracy =  0.67\n",
      "Validation Accuracy =  0.74\n",
      "---------- C= 3 kernel=sigmoid----------\n",
      "Train Accuracy =  0.6\n",
      "Validation Accuracy =  0.71\n",
      "---------- C= 4 kernel=sigmoid----------\n",
      "Train Accuracy =  0.67\n",
      "Validation Accuracy =  0.73\n"
     ]
    }
   ],
   "source": [
    "for i in range(1, 5):\n",
    "    model, trainAccuracy,valAccuracy = train_modelSVM(xTrain, yTrain, xVal, yVal, C= i, kernel = 'sigmoid')\n",
    "    print('---------- C=',i,'kernel=sigmoid----------')\n",
    "    print('Train Accuracy = ', round(trainAccuracy, 2))\n",
    "    print('Validation Accuracy = ', round(valAccuracy, 2))"
   ]
  },
  {
   "cell_type": "markdown",
   "id": "d28a3382",
   "metadata": {},
   "source": [
    "Determinamos que el mejor modelo es el del parámetro C=2 y kernel=rbf"
   ]
  },
  {
   "cell_type": "code",
   "execution_count": 34,
   "id": "a5a952f1",
   "metadata": {},
   "outputs": [],
   "source": [
    "bestModelSVM, trainAccuracySVM,valAccuracySVM = train_modelSVM(xTrain,\n",
    "                                                               yTrain,\n",
    "                                                               xVal,\n",
    "                                                               yVal,\n",
    "                                                               C=2,\n",
    "                                                               kernel='rbf')"
   ]
  },
  {
   "cell_type": "code",
   "execution_count": 35,
   "id": "373844b1",
   "metadata": {},
   "outputs": [
    {
     "data": {
      "text/plain": [
       "['models/modelSVM(C=2,kernel=rbf).joblib']"
      ]
     },
     "execution_count": 35,
     "metadata": {},
     "output_type": "execute_result"
    }
   ],
   "source": [
    "dump(bestModelSVM, \"models/modelSVM(C=2,kernel=rbf).joblib\")"
   ]
  },
  {
   "cell_type": "markdown",
   "id": "b23ad75a",
   "metadata": {},
   "source": [
    "#### Naive Bayes\n",
    "\n",
    "Para este algoritmo se implementan todos los pasos, según el siguiente código"
   ]
  },
  {
   "cell_type": "code",
   "execution_count": 36,
   "id": "a03a10f0",
   "metadata": {},
   "outputs": [],
   "source": [
    "def train_NaiveBayes(xTrain):\n",
    "    \n",
    "    # Separamos la columnas en las que el resultado es 0 y 1 (no sobrevivió o sobrevivió)\n",
    "    xTrain0 = xTrain[yTrain == 0]\n",
    "    xTrain1 = xTrain[yTrain == 1]\n",
    "    # Estas son las medidas que nos serviran para normalizar cada columna y calcular su valor correspondiente\n",
    "    xTrainMean0 = np.mean(xTrain0)\n",
    "    xTrainStd0 = np.std(xTrain0)\n",
    "    xTrainMedidas0 = np.stack((xTrainMean0, xTrainStd0), axis=0)\n",
    "    xTrainMedidas0 = xTrainMedidas0.T\n",
    "\n",
    "\n",
    "    xTrainMean1 = np.mean(xTrain1)\n",
    "    xTrainStd1 = np.std(xTrain1)\n",
    "    xTrainMedidas1 = np.stack((xTrainMean1, xTrainStd1), axis=0)\n",
    "    xTrainMedidas1 = xTrainMedidas1.T\n",
    "\n",
    "    # Training\n",
    "    temp0 = []\n",
    "    temp1 = []\n",
    "\n",
    "    for i in range(0, xTrainMedidas0.shape[0]):\n",
    "        # Se calculan las probabilidades con base a las medidas mean y std para cada columna tanto para valores 0 y 1\n",
    "        valor0 = stats.norm(xTrainMedidas0[i][0], xTrainMedidas0[i][1]).cdf(xTrain.iloc[:, [i]])\n",
    "        valor1 = stats.norm (xTrainMedidas1[i][0], xTrainMedidas0[i][1]).cdf(xTrain.iloc[:, [i]])\n",
    "        temp0.append(valor0)\n",
    "        temp1.append(valor1)\n",
    "    \n",
    "    xTrainVal0 = np.array(temp0).T.squeeze()\n",
    "    xTrainVal1 = np.array(temp1).T.squeeze()\n",
    "    \n",
    "    # Cálculo de la probabilidad para los sobrevivientes y no sobrevivientes\n",
    "    Probabilidad0 = 1-np.mean(yTrain) #No sobrevivientes\n",
    "    Probabilidad1 = np.mean(yTrain) #Sobrevivientes\n",
    "    \n",
    "    # Agregando las probabilidades como columna extra\n",
    "    x0 = np.concatenate((xTrainVal0, np.full_like(xTrainVal0[:,0],Probabilidad0).reshape(-1,1)), axis = 1)\n",
    "    x1 = np.concatenate((xTrainVal1, np.full_like(xTrainVal1[:,0],Probabilidad1).reshape(-1,1)), axis = 1)\n",
    "    \n",
    "    # Calculando valores para y\n",
    "    y0 = np.prod(x0,axis=1).reshape(-1,1)\n",
    "    y1 = np.prod(x1,axis=1).reshape(-1,1)\n",
    "    \n",
    "    # Unificando valores\n",
    "    y01 = np.concatenate((y0,y1), axis=1)\n",
    "    \n",
    "    # Calculando predicciones\n",
    "    predictions = np.argmax(y01, axis = 1)\n",
    "    \n",
    "    # Calculando Accuracy\n",
    "    trainAccuracy = np.mean(predictions == yTrain)\n",
    "    \n",
    "    # ------Validation---------#\n",
    "    # Cálculo de los valores correspondientes (normalización)\n",
    "    temp0Val = []\n",
    "    temp1Val = []\n",
    "\n",
    "    for i in range(0, xTrainMedidas0.shape[0]):\n",
    "        # Se calculan las probabilidades con base a las medidas mean y std para cada columna tanto para valores 0 y 1\n",
    "        valor0Val = stats.norm(xTrainMedidas0[i][0], xTrainMedidas0[i][1]).cdf(xVal.iloc[:, [i]])\n",
    "        valor1Val = stats.norm (xTrainMedidas1[i][0], xTrainMedidas0[i][1]).cdf(xVal.iloc[:, [i]])\n",
    "        temp0Val.append(valor0Val)\n",
    "        temp1Val.append(valor1Val)\n",
    "    \n",
    "    xValVal0 = np.array(temp0Val).T.squeeze()\n",
    "    xValVal1 = np.array(temp1Val).T.squeeze()\n",
    "    \n",
    "    # Agregando las probabilidades como columna extra\n",
    "    x0Val = np.concatenate((xValVal0, np.full_like(xValVal0[:,0],Probabilidad0).reshape(-1,1)), axis = 1)\n",
    "    x1Val = np.concatenate((xValVal1, np.full_like(xValVal1[:,0],Probabilidad1).reshape(-1,1)), axis = 1)\n",
    "    \n",
    "    # Calculando valores para y\n",
    "    y0Val = np.prod(x0Val,axis=1).reshape(-1,1)\n",
    "    y1Val = np.prod(x1Val,axis=1).reshape(-1,1)\n",
    "    \n",
    "    # Unificando valores\n",
    "    y01Val = np.concatenate((y0Val,y1Val), axis=1)\n",
    "    \n",
    "    # Calculando predicciones\n",
    "    prediccionesVal = np.argmax(y01Val, axis = 1)\n",
    "    \n",
    "    # Calculando Accuracy\n",
    "    valAccuracy = np.mean(prediccionesVal == yVal)\n",
    "    \n",
    "    model = {\"nb0\": xTrainMedidas0, \"nb1\":xTrainMedidas1}\n",
    "    \n",
    "    return model, trainAccuracy, valAccuracy"
   ]
  },
  {
   "cell_type": "markdown",
   "id": "54beae0a",
   "metadata": {},
   "source": [
    "##### Experimento 1"
   ]
  },
  {
   "cell_type": "code",
   "execution_count": 37,
   "id": "6f5a5cea",
   "metadata": {},
   "outputs": [
    {
     "name": "stdout",
     "output_type": "stream",
     "text": [
      "---------- Todas las columnas----------\n",
      "Train Accuracy =  0.74\n",
      "Validation Accuracy =  0.75\n"
     ]
    }
   ],
   "source": [
    "model,trainAccuracy,valAccuracy = train_NaiveBayes(xTrain)\n",
    "print('---------- Todas las columnas----------')\n",
    "print('Train Accuracy = ', round(trainAccuracy, 2))\n",
    "print('Validation Accuracy = ', round(valAccuracy, 2))"
   ]
  },
  {
   "cell_type": "code",
   "execution_count": 38,
   "id": "86874d62",
   "metadata": {},
   "outputs": [
    {
     "name": "stdout",
     "output_type": "stream",
     "text": [
      "------ Sin Age -------\n",
      "Train Accuracy =  0.77\n",
      "Validation Accuracy =  0.57\n",
      "------ Sin SibSp -------\n",
      "Train Accuracy =  0.74\n",
      "Validation Accuracy =  0.68\n",
      "------ Sin Parch -------\n",
      "Train Accuracy =  0.74\n",
      "Validation Accuracy =  0.71\n",
      "------ Sin Fare -------\n",
      "Train Accuracy =  0.71\n",
      "Validation Accuracy =  0.43\n",
      "------ Sin passenger_sex -------\n",
      "Train Accuracy =  0.7\n",
      "Validation Accuracy =  0.71\n",
      "------ Sin LClass -------\n",
      "Train Accuracy =  0.75\n",
      "Validation Accuracy =  0.73\n",
      "------ Sin MClass -------\n",
      "Train Accuracy =  0.75\n",
      "Validation Accuracy =  0.72\n",
      "------ Sin UClass -------\n",
      "Train Accuracy =  0.72\n",
      "Validation Accuracy =  0.71\n",
      "------ Sin EmbarkedC -------\n",
      "Train Accuracy =  0.74\n",
      "Validation Accuracy =  0.73\n",
      "------ Sin EmbarkedQ -------\n",
      "Train Accuracy =  0.75\n",
      "Validation Accuracy =  0.71\n",
      "------ Sin EmbarkedS -------\n",
      "Train Accuracy =  0.74\n",
      "Validation Accuracy =  0.76\n"
     ]
    }
   ],
   "source": [
    "for col in xTrain.columns:\n",
    "    model,trainAccuracy,valAccuracy = train_NaiveBayes(xTrain.drop(columns = col))\n",
    "    print('------ Sin',col,'-------')\n",
    "    print('Train Accuracy = ', round(trainAccuracy, 2))\n",
    "    print('Validation Accuracy = ', round(valAccuracy, 2))"
   ]
  },
  {
   "cell_type": "markdown",
   "id": "7446c7c1",
   "metadata": {},
   "source": [
    "Luego de la experimentación encontramos que el mejor modelo es aquel en el que se excluye la variable **EmbarkedS**"
   ]
  },
  {
   "cell_type": "code",
   "execution_count": 39,
   "id": "fea29cdc",
   "metadata": {},
   "outputs": [],
   "source": [
    "bestModelNaiveBayes, trainAccuracyNaiveBayes,valAccuracyNaiveBayes = train_NaiveBayes(xTrain.drop(columns =['EmbarkedS']))"
   ]
  },
  {
   "cell_type": "code",
   "execution_count": 40,
   "id": "e5fe55ea",
   "metadata": {},
   "outputs": [
    {
     "data": {
      "text/plain": [
       "['models/modelNaiveBayes(sinVariable=EmbarkedS).joblib']"
      ]
     },
     "execution_count": 40,
     "metadata": {},
     "output_type": "execute_result"
    }
   ],
   "source": [
    "dump(bestModelNaiveBayes, \"models/modelNaiveBayes(sinVariable=EmbarkedS).joblib\")"
   ]
  },
  {
   "cell_type": "markdown",
   "id": "d3b71862",
   "metadata": {},
   "source": [
    "#### Regresión Logística\n",
    "\n",
    "Para este algoritmo se usó como base el algorito del laboratorio anterior."
   ]
  },
  {
   "cell_type": "code",
   "execution_count": 41,
   "id": "851e3014",
   "metadata": {},
   "outputs": [],
   "source": [
    "# Convertir arreglos en formato tensorflow\n",
    "yTrainTF = np.array(yTrain).reshape(-1,1)\n",
    "yValTF = np.array(yVal).reshape(-1,1)\n",
    "\n",
    "xTrainTF = np.insert(np.array(xTrain),0, np.ones(len(xTrain)), axis = 1)\n",
    "xValTF = np.insert(np.array(xVal),0, np.ones(len(xVal)), axis = 1)"
   ]
  },
  {
   "cell_type": "code",
   "execution_count": 42,
   "id": "978befcf",
   "metadata": {},
   "outputs": [],
   "source": [
    "class MRL:\n",
    "    def __init__(self, x, parameters, regularizacion):\n",
    "        self.parametros = tf.get_variable(\"parametros\", dtype = tf.float32,\n",
    "                                          shape = [1, x.shape[1]],\n",
    "                                          initializer = tf.zeros_initializer())\n",
    "        self.parameters = tf.constant(parameters, dtype = tf.float32)\n",
    "        self.regularizacion = regularizacion\n",
    "                                            \n",
    "    # Cálculo de predicciones\n",
    "    def getPrediction(self, x):\n",
    "        sigmoid = tf.nn.sigmoid(self.logits(x))\n",
    "        return tf.round(sigmoid)\n",
    "    \n",
    "    # Cálculo de accuracy\n",
    "    def getAccuracy(self, predictions, labels):\n",
    "        a = tf.equal(predictions, labels)\n",
    "        a = tf.cast(a, tf.int32)\n",
    "        a = tf.divide(tf.reduce_sum(a), tf.shape(labels)[0])\n",
    "        return a\n",
    "    \n",
    "    # Cálculo de logits\n",
    "    def logits(self, x):\n",
    "        return tf.matmul(x, tf.transpose(self.parametros))\n",
    "    \n",
    "    # Cálculo función de costo\n",
    "    def loss(self, x, y):\n",
    "        cross_entropy = tf.reduce_mean(tf.nn.sigmoid_cross_entropy_with_logits(labels = y, logits = self.logits(x)))\n",
    "        if self.regularizacion == 'lasso':\n",
    "            error = tf.add(cross_entropy,tf.multiply(self.parameters, tf.reduce_sum(tf.abs(self.parametros))))\n",
    "        if self.regularizacion == 'ridge':\n",
    "            error = tf.add(cross_entropy, tf.multiply(self.parameters, tf.sqrt(tf.reduce_sum(tf.square(self.parametros)))))\n",
    "        return error\n",
    "    \n",
    "    # Cálculo de parámetro por medio de gradient descent\n",
    "    def gradient_descent(self, xtrain, ytrain, xtest, ytest, lr):\n",
    "        \n",
    "        # Para Error\n",
    "        with tf.name_scope(\"error\"):\n",
    "            train_error = self.loss(xtrain, ytrain)\n",
    "            train_error_summary = tf.summary.scalar(\"TrainError\", train_error)\n",
    "            test_error = self.loss(xtest, ytest)\n",
    "            test_error_summary = tf.summary.scalar(\"ValError\", test_error)\n",
    "            \n",
    "        # Para Accuracy\n",
    "        with tf.name_scope(\"accuracy\"):\n",
    "            train_accuracy = self.getAccuracy(self.getPrediction(xtrain), ytrain)\n",
    "            train_accuracy_summary = tf.summary.scalar(\"TrainAccuracy\", train_accuracy)\n",
    "            test_accuracy = self.getAccuracy(self.getPrediction(xtest), ytest)\n",
    "            test_accuracy_summary = tf.summary.scalar(\"ValtAccuracy\", test_accuracy)\n",
    "        \n",
    "        # Cálculo de nuevos parámetros con Gradient Descent\n",
    "        gradiente = tf.gradients(train_error, [self.parametros])\n",
    "        new_parametros = tf.assign(self.parametros, self.parametros - lr * gradiente[0])\n",
    "        return new_parametros, train_error, test_error, train_accuracy, test_accuracy, train_error_summary, test_error_summary, train_accuracy_summary, test_accuracy_summary"
   ]
  },
  {
   "cell_type": "code",
   "execution_count": 43,
   "id": "8115e3a0",
   "metadata": {},
   "outputs": [],
   "source": [
    "def train_LogisticRegression(lr, epochs, printl, xtrain, xtest, labels_train, labels_test, batchSize, parameters, regularizacion):\n",
    "    \n",
    "    # Tensorboard\n",
    "    directory = './experiments/LogRegression'+ datetime.datetime.now().strftime(\"%Y%m%d-%H%M%S\") +\"_lr=\"+str(lr)+ \"_epochs=\"+str(epochs) + \"_batchSize=\" \\\n",
    "    + str(batchSize) + '_parameters=' + str(parameters) + \"_regularizacion=\" + regularizacion\n",
    "\n",
    "    # Definición del grafo\n",
    "    graph = tf.Graph()\n",
    "    with graph.as_default():\n",
    "        \n",
    "         # Creación de los tensores input\n",
    "        with tf.name_scope(\"train_tensors\"):\n",
    "            tensor_x_train = tf.placeholder(tf.float32, [None,xtrain.shape[1]], \"tensor_x_train\")\n",
    "            tensor_labels_train = tf.placeholder(tf.float32, [None,labels_train.shape[1]], \"tensor_labels_train\")\n",
    "        with tf.name_scope(\"test_tensors\"):\n",
    "            tensor_x_test = tf.placeholder(tf.float32, [xtest.shape[0], xtest.shape[1]], \"tensor_x_test\")\n",
    "            tensor_labels_test = tf.placeholder(tf.float32, [labels_test.shape[0], labels_test.shape[1]], \"tensor_labels_test\")\n",
    "        \n",
    "        # Creación del nodo para el cálculo de los nuevos parámetros según Regresion Logística\n",
    "        mrl = MRL(xtrain, parameters, regularizacion)\n",
    "        nuevos_parametros = mrl.gradient_descent(tensor_x_train, tensor_labels_train, tensor_x_test, tensor_labels_test, lr)\n",
    "    \n",
    "        tboardW = tf.summary.FileWriter(directory, graph)\n",
    "        \n",
    "        # batch\n",
    "        batch_size = 32\n",
    "        total_steps = int((labels_train.shape[0] / batch_size) * epochs)  \n",
    "        \n",
    "        # Ejecución del grafo\n",
    "        with tf.train.MonitoredSession() as session:\n",
    "            for i in range(total_steps + 1):\n",
    "                offset = (i * batch_size) % (labels_train.shape[0] - batch_size)\n",
    "                batch_data = xtrain[offset:(offset + batch_size),]\n",
    "                batch_labels = labels_train[offset:(offset + batch_size),]\n",
    "                \n",
    "                # Paso de valores a los tensores input\n",
    "                feed_dict = {tensor_x_train:batch_data, tensor_labels_train:batch_labels,tensor_x_test:xtest, tensor_labels_test:labels_test}\n",
    "                # Entrenamiento del modelo para cálculo de los nuevos parámetros\n",
    "                entrenamiento = session.run(nuevos_parametros, feed_dict = feed_dict)\n",
    "\n",
    "                if i % printl == 0:\n",
    "                    parametros = session.run(mrl.parametros, feed_dict = feed_dict)\n",
    "                    tboardW.add_summary(entrenamiento[5], i)\n",
    "                    tboardW.add_summary(entrenamiento[6], i)\n",
    "                    tboardW.add_summary(entrenamiento[7], i)\n",
    "                    tboardW.add_summary(entrenamiento[8], i)\n",
    "                    \n",
    "                    print(\"Mini-batch:\", i, \"Epoch:\", int(i//(labels_train.shape[0] / batch_size)+1))\n",
    "                    print(\"train error:\", entrenamiento[1], \"train accuracy:\", entrenamiento[3])\n",
    "                    print(\"validation error:\", entrenamiento[2], \"validation accuracy:\", entrenamiento[4])\n",
    "                    print(\"-------------------------------------------------------------------------\")\n",
    "            \n",
    "            return parametros\n",
    "\n",
    "            tboardW.close()"
   ]
  },
  {
   "cell_type": "code",
   "execution_count": 44,
   "id": "4a43b396",
   "metadata": {},
   "outputs": [
    {
     "name": "stdout",
     "output_type": "stream",
     "text": [
      "WARNING:tensorflow:From C:\\Users\\hbarrientosg\\Anaconda3\\envs\\TareasSLII\\lib\\site-packages\\tensorflow\\python\\ops\\nn_impl.py:180: add_dispatch_support.<locals>.wrapper (from tensorflow.python.ops.array_ops) is deprecated and will be removed in a future version.\n",
      "Instructions for updating:\n",
      "Use tf.where in 2.0, which has the same broadcast rule as np.where\n",
      "INFO:tensorflow:Graph was finalized.\n",
      "INFO:tensorflow:Running local_init_op.\n",
      "INFO:tensorflow:Done running local_init_op.\n",
      "Mini-batch: 0 Epoch: 1\n",
      "train error: 0.6931472 train accuracy: 0.71875\n",
      "validation error: 0.6931473 validation accuracy: 0.5664335664335665\n",
      "-------------------------------------------------------------------------\n",
      "Mini-batch: 1000 Epoch: 57\n",
      "train error: 0.56768656 train accuracy: 0.78125\n",
      "validation error: 0.5347889 validation accuracy: 0.7902097902097902\n",
      "-------------------------------------------------------------------------\n",
      "Mini-batch: 2000 Epoch: 113\n",
      "train error: 0.47200888 train accuracy: 0.8125\n",
      "validation error: 0.49339673 validation accuracy: 0.7832167832167832\n",
      "-------------------------------------------------------------------------\n",
      "Mini-batch: 3000 Epoch: 169\n",
      "train error: 0.53206766 train accuracy: 0.6875\n",
      "validation error: 0.47695383 validation accuracy: 0.7832167832167832\n",
      "-------------------------------------------------------------------------\n",
      "Mini-batch: 4000 Epoch: 225\n",
      "train error: 0.52137506 train accuracy: 0.6875\n",
      "validation error: 0.469342 validation accuracy: 0.8041958041958042\n",
      "-------------------------------------------------------------------------\n",
      "Mini-batch: 5000 Epoch: 282\n",
      "train error: 0.3524958 train accuracy: 0.84375\n",
      "validation error: 0.46539333 validation accuracy: 0.8041958041958042\n",
      "-------------------------------------------------------------------------\n",
      "Mini-batch: 6000 Epoch: 338\n",
      "train error: 0.4828388 train accuracy: 0.75\n",
      "validation error: 0.46342292 validation accuracy: 0.8041958041958042\n",
      "-------------------------------------------------------------------------\n",
      "Mini-batch: 7000 Epoch: 394\n",
      "train error: 0.43192682 train accuracy: 0.875\n",
      "validation error: 0.46222773 validation accuracy: 0.8041958041958042\n",
      "-------------------------------------------------------------------------\n",
      "Mini-batch: 8000 Epoch: 450\n",
      "train error: 0.468098 train accuracy: 0.8125\n",
      "validation error: 0.46156526 validation accuracy: 0.8181818181818182\n",
      "-------------------------------------------------------------------------\n",
      "Mini-batch: 9000 Epoch: 507\n",
      "train error: 0.59550816 train accuracy: 0.625\n",
      "validation error: 0.46105024 validation accuracy: 0.8181818181818182\n",
      "-------------------------------------------------------------------------\n",
      "Mini-batch: 10000 Epoch: 563\n",
      "train error: 0.55708456 train accuracy: 0.78125\n",
      "validation error: 0.46083724 validation accuracy: 0.8111888111888111\n",
      "-------------------------------------------------------------------------\n",
      "Mini-batch: 11000 Epoch: 619\n",
      "train error: 0.3736887 train accuracy: 0.8125\n",
      "validation error: 0.46077195 validation accuracy: 0.8111888111888111\n",
      "-------------------------------------------------------------------------\n",
      "Mini-batch: 12000 Epoch: 675\n",
      "train error: 0.50411046 train accuracy: 0.75\n",
      "validation error: 0.46057522 validation accuracy: 0.8111888111888111\n",
      "-------------------------------------------------------------------------\n",
      "Mini-batch: 13000 Epoch: 732\n",
      "train error: 0.37223256 train accuracy: 0.8125\n",
      "validation error: 0.46055502 validation accuracy: 0.8111888111888111\n",
      "-------------------------------------------------------------------------\n",
      "Mini-batch: 14000 Epoch: 788\n",
      "train error: 0.58134675 train accuracy: 0.78125\n",
      "validation error: 0.4604636 validation accuracy: 0.8111888111888111\n",
      "-------------------------------------------------------------------------\n",
      "Mini-batch: 15000 Epoch: 844\n",
      "train error: 0.5707171 train accuracy: 0.6875\n",
      "validation error: 0.46044052 validation accuracy: 0.8041958041958042\n",
      "-------------------------------------------------------------------------\n",
      "Mini-batch: 16000 Epoch: 900\n",
      "train error: 0.4668223 train accuracy: 0.75\n",
      "validation error: 0.46053123 validation accuracy: 0.8111888111888111\n",
      "-------------------------------------------------------------------------\n",
      "Mini-batch: 17000 Epoch: 957\n",
      "train error: 0.37404376 train accuracy: 0.84375\n",
      "validation error: 0.4604634 validation accuracy: 0.8111888111888111\n",
      "-------------------------------------------------------------------------\n"
     ]
    }
   ],
   "source": [
    "betsModelLogisticRegression = train_LogisticRegression(0.01, 1000, 1000, xTrainTF, xValTF, yTrainTF, yValTF, 32, 0, 'lasso')"
   ]
  },
  {
   "cell_type": "code",
   "execution_count": 45,
   "id": "0a365537",
   "metadata": {},
   "outputs": [
    {
     "name": "stdout",
     "output_type": "stream",
     "text": [
      "INFO:tensorflow:Graph was finalized.\n",
      "INFO:tensorflow:Running local_init_op.\n",
      "INFO:tensorflow:Done running local_init_op.\n",
      "Mini-batch: 0 Epoch: 1\n",
      "train error: 0.6931472 train accuracy: 0.71875\n",
      "validation error: 0.6931473 validation accuracy: 0.5664335664335665\n",
      "-------------------------------------------------------------------------\n",
      "Mini-batch: 1000 Epoch: 57\n",
      "train error: 0.6638305 train accuracy: 0.53125\n",
      "validation error: 0.64623 validation accuracy: 0.5664335664335665\n",
      "-------------------------------------------------------------------------\n",
      "Mini-batch: 2000 Epoch: 113\n",
      "train error: 0.5930826 train accuracy: 0.65625\n",
      "validation error: 0.62437767 validation accuracy: 0.6153846153846154\n",
      "-------------------------------------------------------------------------\n",
      "Mini-batch: 3000 Epoch: 169\n",
      "train error: 0.65533733 train accuracy: 0.59375\n",
      "validation error: 0.607791 validation accuracy: 0.6363636363636364\n",
      "-------------------------------------------------------------------------\n",
      "Mini-batch: 4000 Epoch: 225\n",
      "train error: 0.5822415 train accuracy: 0.6875\n",
      "validation error: 0.5933075 validation accuracy: 0.6923076923076923\n",
      "-------------------------------------------------------------------------\n",
      "Mini-batch: 5000 Epoch: 282\n",
      "train error: 0.5240965 train accuracy: 0.6875\n",
      "validation error: 0.5803943 validation accuracy: 0.7062937062937062\n",
      "-------------------------------------------------------------------------\n",
      "Mini-batch: 6000 Epoch: 338\n",
      "train error: 0.5325594 train accuracy: 0.75\n",
      "validation error: 0.56896985 validation accuracy: 0.7272727272727273\n",
      "-------------------------------------------------------------------------\n",
      "Mini-batch: 7000 Epoch: 394\n",
      "train error: 0.54571664 train accuracy: 0.71875\n",
      "validation error: 0.55881065 validation accuracy: 0.7342657342657343\n",
      "-------------------------------------------------------------------------\n",
      "Mini-batch: 8000 Epoch: 450\n",
      "train error: 0.5785424 train accuracy: 0.65625\n",
      "validation error: 0.54983807 validation accuracy: 0.7482517482517482\n",
      "-------------------------------------------------------------------------\n",
      "Mini-batch: 9000 Epoch: 507\n",
      "train error: 0.60141194 train accuracy: 0.6875\n",
      "validation error: 0.54185766 validation accuracy: 0.7762237762237763\n",
      "-------------------------------------------------------------------------\n",
      "Mini-batch: 10000 Epoch: 563\n",
      "train error: 0.5734369 train accuracy: 0.8125\n",
      "validation error: 0.5347679 validation accuracy: 0.7902097902097902\n",
      "-------------------------------------------------------------------------\n",
      "Mini-batch: 11000 Epoch: 619\n",
      "train error: 0.49511608 train accuracy: 0.75\n",
      "validation error: 0.52846664 validation accuracy: 0.7832167832167832\n",
      "-------------------------------------------------------------------------\n",
      "Mini-batch: 12000 Epoch: 675\n",
      "train error: 0.5203805 train accuracy: 0.8125\n",
      "validation error: 0.5227848 validation accuracy: 0.7832167832167832\n",
      "-------------------------------------------------------------------------\n",
      "Mini-batch: 13000 Epoch: 732\n",
      "train error: 0.4727735 train accuracy: 0.78125\n",
      "validation error: 0.5177294 validation accuracy: 0.7832167832167832\n",
      "-------------------------------------------------------------------------\n",
      "Mini-batch: 14000 Epoch: 788\n",
      "train error: 0.5644623 train accuracy: 0.75\n",
      "validation error: 0.513151 validation accuracy: 0.7902097902097902\n",
      "-------------------------------------------------------------------------\n",
      "Mini-batch: 15000 Epoch: 844\n",
      "train error: 0.580937 train accuracy: 0.75\n",
      "validation error: 0.50902486 validation accuracy: 0.7832167832167832\n",
      "-------------------------------------------------------------------------\n",
      "Mini-batch: 16000 Epoch: 900\n",
      "train error: 0.5561589 train accuracy: 0.75\n",
      "validation error: 0.50531834 validation accuracy: 0.7832167832167832\n",
      "-------------------------------------------------------------------------\n",
      "Mini-batch: 17000 Epoch: 957\n",
      "train error: 0.4399042 train accuracy: 0.8125\n",
      "validation error: 0.5019183 validation accuracy: 0.7762237762237763\n",
      "-------------------------------------------------------------------------\n"
     ]
    },
    {
     "data": {
      "text/plain": [
       "array([[ 0.21644759, -0.24526277, -0.00459432,  0.01364677,  0.5136945 ,\n",
       "        -1.1700159 , -0.49039957,  0.25955585,  0.44729275,  0.22887298,\n",
       "         0.09484984, -0.11332816]], dtype=float32)"
      ]
     },
     "execution_count": 45,
     "metadata": {},
     "output_type": "execute_result"
    }
   ],
   "source": [
    "train_LogisticRegression(0.001, 1000, 1000, xTrainTF, xValTF, yTrainTF, yValTF, 32, 0, 'lasso')"
   ]
  },
  {
   "cell_type": "code",
   "execution_count": 46,
   "id": "3a364d1f",
   "metadata": {},
   "outputs": [
    {
     "name": "stdout",
     "output_type": "stream",
     "text": [
      "INFO:tensorflow:Graph was finalized.\n",
      "INFO:tensorflow:Running local_init_op.\n",
      "INFO:tensorflow:Done running local_init_op.\n",
      "Mini-batch: 0 Epoch: 1\n",
      "train error: 0.6931472 train accuracy: 0.71875\n",
      "validation error: 0.6931473 validation accuracy: 0.5664335664335665\n",
      "-------------------------------------------------------------------------\n",
      "Mini-batch: 1000 Epoch: 57\n",
      "train error: 0.6949767 train accuracy: 0.53125\n",
      "validation error: 0.694886 validation accuracy: 0.5664335664335665\n",
      "-------------------------------------------------------------------------\n",
      "Mini-batch: 2000 Epoch: 113\n",
      "train error: 0.6946006 train accuracy: 0.34375\n",
      "validation error: 0.6945618 validation accuracy: 0.45454545454545453\n",
      "-------------------------------------------------------------------------\n",
      "Mini-batch: 3000 Epoch: 169\n",
      "train error: 0.6945415 train accuracy: 0.59375\n",
      "validation error: 0.6944801 validation accuracy: 0.6643356643356644\n",
      "-------------------------------------------------------------------------\n",
      "Mini-batch: 4000 Epoch: 225\n",
      "train error: 0.69470924 train accuracy: 0.71875\n",
      "validation error: 0.69471556 validation accuracy: 0.6853146853146853\n",
      "-------------------------------------------------------------------------\n",
      "Mini-batch: 5000 Epoch: 282\n",
      "train error: 0.6940666 train accuracy: 0.625\n",
      "validation error: 0.69412774 validation accuracy: 0.5664335664335665\n",
      "-------------------------------------------------------------------------\n",
      "Mini-batch: 6000 Epoch: 338\n",
      "train error: 0.69466704 train accuracy: 0.71875\n",
      "validation error: 0.6946608 validation accuracy: 0.6923076923076923\n",
      "-------------------------------------------------------------------------\n",
      "Mini-batch: 7000 Epoch: 394\n",
      "train error: 0.69450754 train accuracy: 0.65625\n",
      "validation error: 0.69452685 validation accuracy: 0.6153846153846154\n",
      "-------------------------------------------------------------------------\n",
      "Mini-batch: 8000 Epoch: 450\n",
      "train error: 0.694448 train accuracy: 0.71875\n",
      "validation error: 0.69446373 validation accuracy: 0.7482517482517482\n",
      "-------------------------------------------------------------------------\n",
      "Mini-batch: 9000 Epoch: 507\n",
      "train error: 0.69447887 train accuracy: 0.5625\n",
      "validation error: 0.6944801 validation accuracy: 0.4125874125874126\n",
      "-------------------------------------------------------------------------\n",
      "Mini-batch: 10000 Epoch: 563\n",
      "train error: 0.6944074 train accuracy: 0.59375\n",
      "validation error: 0.6944063 validation accuracy: 0.5734265734265734\n",
      "-------------------------------------------------------------------------\n",
      "Mini-batch: 11000 Epoch: 619\n",
      "train error: 0.69447035 train accuracy: 0.5625\n",
      "validation error: 0.69447213 validation accuracy: 0.5664335664335665\n",
      "-------------------------------------------------------------------------\n",
      "Mini-batch: 12000 Epoch: 675\n",
      "train error: 0.6946375 train accuracy: 0.5625\n",
      "validation error: 0.6946812 validation accuracy: 0.5594405594405595\n",
      "-------------------------------------------------------------------------\n",
      "Mini-batch: 13000 Epoch: 732\n",
      "train error: 0.6943152 train accuracy: 0.59375\n",
      "validation error: 0.6943574 validation accuracy: 0.5664335664335665\n",
      "-------------------------------------------------------------------------\n",
      "Mini-batch: 14000 Epoch: 788\n",
      "train error: 0.6944 train accuracy: 0.65625\n",
      "validation error: 0.6944028 validation accuracy: 0.5874125874125874\n",
      "-------------------------------------------------------------------------\n",
      "Mini-batch: 15000 Epoch: 844\n",
      "train error: 0.6948335 train accuracy: 0.53125\n",
      "validation error: 0.6947928 validation accuracy: 0.6363636363636364\n",
      "-------------------------------------------------------------------------\n",
      "Mini-batch: 16000 Epoch: 900\n",
      "train error: 0.69491965 train accuracy: 0.46875\n",
      "validation error: 0.6949035 validation accuracy: 0.5664335664335665\n",
      "-------------------------------------------------------------------------\n",
      "Mini-batch: 17000 Epoch: 957\n",
      "train error: 0.6946725 train accuracy: 0.6875\n",
      "validation error: 0.69473016 validation accuracy: 0.5524475524475524\n",
      "-------------------------------------------------------------------------\n"
     ]
    },
    {
     "data": {
      "text/plain": [
       "array([[-7.7467412e-05,  1.9726186e-04,  4.1398878e-04,  1.8680177e-05,\n",
       "         2.0581414e-04, -4.8214867e-04, -2.8789183e-04, -2.2672469e-04,\n",
       "         4.3715051e-04, -2.9582251e-04,  1.2696086e-04,  1.6906013e-04]],\n",
       "      dtype=float32)"
      ]
     },
     "execution_count": 46,
     "metadata": {},
     "output_type": "execute_result"
    }
   ],
   "source": [
    "train_LogisticRegression(0.001, 1000, 1000, xTrainTF, xValTF, yTrainTF, yValTF, 32, 0.5, 'lasso')"
   ]
  },
  {
   "cell_type": "code",
   "execution_count": 47,
   "id": "f596ad30",
   "metadata": {},
   "outputs": [
    {
     "name": "stdout",
     "output_type": "stream",
     "text": [
      "INFO:tensorflow:Graph was finalized.\n",
      "INFO:tensorflow:Running local_init_op.\n",
      "INFO:tensorflow:Done running local_init_op.\n",
      "Mini-batch: 0 Epoch: 1\n",
      "train error: 0.6931472 train accuracy: 0.71875\n",
      "validation error: 0.6931473 validation accuracy: 0.5664335664335665\n",
      "-------------------------------------------------------------------------\n",
      "Mini-batch: 1000 Epoch: 57\n",
      "train error: 0.56768656 train accuracy: 0.78125\n",
      "validation error: 0.5347889 validation accuracy: 0.7902097902097902\n",
      "-------------------------------------------------------------------------\n",
      "Mini-batch: 2000 Epoch: 113\n",
      "train error: 0.47200888 train accuracy: 0.8125\n",
      "validation error: 0.49339673 validation accuracy: 0.7832167832167832\n",
      "-------------------------------------------------------------------------\n",
      "Mini-batch: 3000 Epoch: 169\n",
      "train error: 0.53206766 train accuracy: 0.6875\n",
      "validation error: 0.47695383 validation accuracy: 0.7832167832167832\n",
      "-------------------------------------------------------------------------\n",
      "Mini-batch: 4000 Epoch: 225\n",
      "train error: 0.52137506 train accuracy: 0.6875\n",
      "validation error: 0.469342 validation accuracy: 0.8041958041958042\n",
      "-------------------------------------------------------------------------\n",
      "Mini-batch: 5000 Epoch: 282\n",
      "train error: 0.3524958 train accuracy: 0.84375\n",
      "validation error: 0.46539333 validation accuracy: 0.8041958041958042\n",
      "-------------------------------------------------------------------------\n",
      "Mini-batch: 6000 Epoch: 338\n",
      "train error: 0.4828388 train accuracy: 0.75\n",
      "validation error: 0.46342292 validation accuracy: 0.8041958041958042\n",
      "-------------------------------------------------------------------------\n",
      "Mini-batch: 7000 Epoch: 394\n",
      "train error: 0.43192682 train accuracy: 0.875\n",
      "validation error: 0.46222773 validation accuracy: 0.8041958041958042\n",
      "-------------------------------------------------------------------------\n",
      "Mini-batch: 8000 Epoch: 450\n",
      "train error: 0.468098 train accuracy: 0.8125\n",
      "validation error: 0.46156526 validation accuracy: 0.8181818181818182\n",
      "-------------------------------------------------------------------------\n",
      "Mini-batch: 9000 Epoch: 507\n",
      "train error: 0.59550816 train accuracy: 0.625\n",
      "validation error: 0.46105024 validation accuracy: 0.8181818181818182\n",
      "-------------------------------------------------------------------------\n",
      "Mini-batch: 10000 Epoch: 563\n",
      "train error: 0.55708456 train accuracy: 0.78125\n",
      "validation error: 0.46083724 validation accuracy: 0.8111888111888111\n",
      "-------------------------------------------------------------------------\n",
      "Mini-batch: 11000 Epoch: 619\n",
      "train error: 0.3736887 train accuracy: 0.8125\n",
      "validation error: 0.46077195 validation accuracy: 0.8111888111888111\n",
      "-------------------------------------------------------------------------\n",
      "Mini-batch: 12000 Epoch: 675\n",
      "train error: 0.50411046 train accuracy: 0.75\n",
      "validation error: 0.46057522 validation accuracy: 0.8111888111888111\n",
      "-------------------------------------------------------------------------\n",
      "Mini-batch: 13000 Epoch: 732\n",
      "train error: 0.37223256 train accuracy: 0.8125\n",
      "validation error: 0.46055502 validation accuracy: 0.8111888111888111\n",
      "-------------------------------------------------------------------------\n",
      "Mini-batch: 14000 Epoch: 788\n",
      "train error: 0.58134675 train accuracy: 0.78125\n",
      "validation error: 0.4604636 validation accuracy: 0.8111888111888111\n",
      "-------------------------------------------------------------------------\n",
      "Mini-batch: 15000 Epoch: 844\n",
      "train error: 0.5707171 train accuracy: 0.6875\n",
      "validation error: 0.46044052 validation accuracy: 0.8041958041958042\n",
      "-------------------------------------------------------------------------\n",
      "Mini-batch: 16000 Epoch: 900\n",
      "train error: 0.4668223 train accuracy: 0.75\n",
      "validation error: 0.46053123 validation accuracy: 0.8111888111888111\n",
      "-------------------------------------------------------------------------\n",
      "Mini-batch: 17000 Epoch: 957\n",
      "train error: 0.37404376 train accuracy: 0.84375\n",
      "validation error: 0.4604634 validation accuracy: 0.8111888111888111\n",
      "-------------------------------------------------------------------------\n"
     ]
    },
    {
     "data": {
      "text/plain": [
       "array([[ 0.7170142 , -0.41005585, -0.14376368, -0.01914219,  0.90599257,\n",
       "        -2.329814  , -0.63442105,  0.55720705,  0.7942174 ,  0.2912104 ,\n",
       "         0.50648797, -0.10532594]], dtype=float32)"
      ]
     },
     "execution_count": 47,
     "metadata": {},
     "output_type": "execute_result"
    }
   ],
   "source": [
    "train_LogisticRegression(0.01, 1000, 1000, xTrainTF, xValTF, yTrainTF, yValTF, 32, 0, 'ridge')"
   ]
  },
  {
   "cell_type": "code",
   "execution_count": 48,
   "id": "00f5665e",
   "metadata": {},
   "outputs": [
    {
     "name": "stdout",
     "output_type": "stream",
     "text": [
      "INFO:tensorflow:Graph was finalized.\n",
      "INFO:tensorflow:Running local_init_op.\n",
      "INFO:tensorflow:Done running local_init_op.\n",
      "Mini-batch: 0 Epoch: 1\n",
      "train error: 0.6931472 train accuracy: 0.71875\n",
      "validation error: 0.6931473 validation accuracy: 0.5664335664335665\n",
      "-------------------------------------------------------------------------\n",
      "Mini-batch: 1000 Epoch: 57\n",
      "train error: 0.6638305 train accuracy: 0.53125\n",
      "validation error: 0.64623 validation accuracy: 0.5664335664335665\n",
      "-------------------------------------------------------------------------\n",
      "Mini-batch: 2000 Epoch: 113\n",
      "train error: 0.5930826 train accuracy: 0.65625\n",
      "validation error: 0.62437767 validation accuracy: 0.6153846153846154\n",
      "-------------------------------------------------------------------------\n",
      "Mini-batch: 3000 Epoch: 169\n",
      "train error: 0.65533733 train accuracy: 0.59375\n",
      "validation error: 0.607791 validation accuracy: 0.6363636363636364\n",
      "-------------------------------------------------------------------------\n",
      "Mini-batch: 4000 Epoch: 225\n",
      "train error: 0.5822415 train accuracy: 0.6875\n",
      "validation error: 0.5933075 validation accuracy: 0.6923076923076923\n",
      "-------------------------------------------------------------------------\n",
      "Mini-batch: 5000 Epoch: 282\n",
      "train error: 0.5240965 train accuracy: 0.6875\n",
      "validation error: 0.5803943 validation accuracy: 0.7062937062937062\n",
      "-------------------------------------------------------------------------\n",
      "Mini-batch: 6000 Epoch: 338\n",
      "train error: 0.5325594 train accuracy: 0.75\n",
      "validation error: 0.56896985 validation accuracy: 0.7272727272727273\n",
      "-------------------------------------------------------------------------\n",
      "Mini-batch: 7000 Epoch: 394\n",
      "train error: 0.54571664 train accuracy: 0.71875\n",
      "validation error: 0.55881065 validation accuracy: 0.7342657342657343\n",
      "-------------------------------------------------------------------------\n",
      "Mini-batch: 8000 Epoch: 450\n",
      "train error: 0.5785424 train accuracy: 0.65625\n",
      "validation error: 0.54983807 validation accuracy: 0.7482517482517482\n",
      "-------------------------------------------------------------------------\n",
      "Mini-batch: 9000 Epoch: 507\n",
      "train error: 0.60141194 train accuracy: 0.6875\n",
      "validation error: 0.54185766 validation accuracy: 0.7762237762237763\n",
      "-------------------------------------------------------------------------\n",
      "Mini-batch: 10000 Epoch: 563\n",
      "train error: 0.5734369 train accuracy: 0.8125\n",
      "validation error: 0.5347679 validation accuracy: 0.7902097902097902\n",
      "-------------------------------------------------------------------------\n",
      "Mini-batch: 11000 Epoch: 619\n",
      "train error: 0.49511608 train accuracy: 0.75\n",
      "validation error: 0.52846664 validation accuracy: 0.7832167832167832\n",
      "-------------------------------------------------------------------------\n",
      "Mini-batch: 12000 Epoch: 675\n",
      "train error: 0.5203805 train accuracy: 0.8125\n",
      "validation error: 0.5227848 validation accuracy: 0.7832167832167832\n",
      "-------------------------------------------------------------------------\n",
      "Mini-batch: 13000 Epoch: 732\n",
      "train error: 0.4727735 train accuracy: 0.78125\n",
      "validation error: 0.5177294 validation accuracy: 0.7832167832167832\n",
      "-------------------------------------------------------------------------\n",
      "Mini-batch: 14000 Epoch: 788\n",
      "train error: 0.5644623 train accuracy: 0.75\n",
      "validation error: 0.513151 validation accuracy: 0.7902097902097902\n",
      "-------------------------------------------------------------------------\n",
      "Mini-batch: 15000 Epoch: 844\n",
      "train error: 0.580937 train accuracy: 0.75\n",
      "validation error: 0.50902486 validation accuracy: 0.7832167832167832\n",
      "-------------------------------------------------------------------------\n",
      "Mini-batch: 16000 Epoch: 900\n",
      "train error: 0.5561589 train accuracy: 0.75\n",
      "validation error: 0.50531834 validation accuracy: 0.7832167832167832\n",
      "-------------------------------------------------------------------------\n",
      "Mini-batch: 17000 Epoch: 957\n",
      "train error: 0.4399042 train accuracy: 0.8125\n",
      "validation error: 0.5019183 validation accuracy: 0.7762237762237763\n",
      "-------------------------------------------------------------------------\n"
     ]
    },
    {
     "data": {
      "text/plain": [
       "array([[ 0.21644759, -0.24526277, -0.00459432,  0.01364677,  0.5136945 ,\n",
       "        -1.1700159 , -0.49039957,  0.25955585,  0.44729275,  0.22887298,\n",
       "         0.09484984, -0.11332816]], dtype=float32)"
      ]
     },
     "execution_count": 48,
     "metadata": {},
     "output_type": "execute_result"
    }
   ],
   "source": [
    "train_LogisticRegression(0.001, 1000, 1000, xTrainTF, xValTF, yTrainTF, yValTF, 32, 0, 'ridge')"
   ]
  },
  {
   "cell_type": "code",
   "execution_count": 49,
   "id": "d86bc885",
   "metadata": {},
   "outputs": [
    {
     "name": "stdout",
     "output_type": "stream",
     "text": [
      "INFO:tensorflow:Graph was finalized.\n",
      "INFO:tensorflow:Running local_init_op.\n",
      "INFO:tensorflow:Done running local_init_op.\n",
      "Mini-batch: 0 Epoch: 1\n",
      "train error: 0.6931472 train accuracy: 0.71875\n",
      "validation error: 0.6931473 validation accuracy: 0.5664335664335665\n",
      "-------------------------------------------------------------------------\n",
      "Mini-batch: 1000 Epoch: 57\n",
      "train error: nan train accuracy: 0.0\n",
      "validation error: nan validation accuracy: 0.0\n",
      "-------------------------------------------------------------------------\n",
      "Mini-batch: 2000 Epoch: 113\n",
      "train error: nan train accuracy: 0.0\n",
      "validation error: nan validation accuracy: 0.0\n",
      "-------------------------------------------------------------------------\n",
      "Mini-batch: 3000 Epoch: 169\n",
      "train error: nan train accuracy: 0.0\n",
      "validation error: nan validation accuracy: 0.0\n",
      "-------------------------------------------------------------------------\n",
      "Mini-batch: 4000 Epoch: 225\n",
      "train error: nan train accuracy: 0.0\n",
      "validation error: nan validation accuracy: 0.0\n",
      "-------------------------------------------------------------------------\n",
      "Mini-batch: 5000 Epoch: 282\n",
      "train error: nan train accuracy: 0.0\n",
      "validation error: nan validation accuracy: 0.0\n",
      "-------------------------------------------------------------------------\n",
      "Mini-batch: 6000 Epoch: 338\n",
      "train error: nan train accuracy: 0.0\n",
      "validation error: nan validation accuracy: 0.0\n",
      "-------------------------------------------------------------------------\n",
      "Mini-batch: 7000 Epoch: 394\n",
      "train error: nan train accuracy: 0.0\n",
      "validation error: nan validation accuracy: 0.0\n",
      "-------------------------------------------------------------------------\n",
      "Mini-batch: 8000 Epoch: 450\n",
      "train error: nan train accuracy: 0.0\n",
      "validation error: nan validation accuracy: 0.0\n",
      "-------------------------------------------------------------------------\n",
      "Mini-batch: 9000 Epoch: 507\n",
      "train error: nan train accuracy: 0.0\n",
      "validation error: nan validation accuracy: 0.0\n",
      "-------------------------------------------------------------------------\n",
      "Mini-batch: 10000 Epoch: 563\n",
      "train error: nan train accuracy: 0.0\n",
      "validation error: nan validation accuracy: 0.0\n",
      "-------------------------------------------------------------------------\n",
      "Mini-batch: 11000 Epoch: 619\n",
      "train error: nan train accuracy: 0.0\n",
      "validation error: nan validation accuracy: 0.0\n",
      "-------------------------------------------------------------------------\n",
      "Mini-batch: 12000 Epoch: 675\n",
      "train error: nan train accuracy: 0.0\n",
      "validation error: nan validation accuracy: 0.0\n",
      "-------------------------------------------------------------------------\n",
      "Mini-batch: 13000 Epoch: 732\n",
      "train error: nan train accuracy: 0.0\n",
      "validation error: nan validation accuracy: 0.0\n",
      "-------------------------------------------------------------------------\n",
      "Mini-batch: 14000 Epoch: 788\n",
      "train error: nan train accuracy: 0.0\n",
      "validation error: nan validation accuracy: 0.0\n",
      "-------------------------------------------------------------------------\n",
      "Mini-batch: 15000 Epoch: 844\n",
      "train error: nan train accuracy: 0.0\n",
      "validation error: nan validation accuracy: 0.0\n",
      "-------------------------------------------------------------------------\n",
      "Mini-batch: 16000 Epoch: 900\n",
      "train error: nan train accuracy: 0.0\n",
      "validation error: nan validation accuracy: 0.0\n",
      "-------------------------------------------------------------------------\n",
      "Mini-batch: 17000 Epoch: 957\n",
      "train error: nan train accuracy: 0.0\n",
      "validation error: nan validation accuracy: 0.0\n",
      "-------------------------------------------------------------------------\n"
     ]
    },
    {
     "data": {
      "text/plain": [
       "array([[nan, nan, nan, nan, nan, nan, nan, nan, nan, nan, nan, nan]],\n",
       "      dtype=float32)"
      ]
     },
     "execution_count": 49,
     "metadata": {},
     "output_type": "execute_result"
    }
   ],
   "source": [
    "train_LogisticRegression(0.001, 1000, 1000, xTrainTF, xValTF, yTrainTF, yValTF, 32, 0.5, 'ridge')"
   ]
  },
  {
   "cell_type": "markdown",
   "id": "ce2e6148",
   "metadata": {},
   "source": [
    "Basados en la experimentación se determina que el mejor modelo de regresión logística con **lr=0.01, regularization=lasso, epochs=1000, bachSize=32**"
   ]
  },
  {
   "cell_type": "code",
   "execution_count": 50,
   "id": "8e6d3e84",
   "metadata": {},
   "outputs": [
    {
     "data": {
      "text/plain": [
       "['models/modelLogisticRegression(lr=0.01,regularization=lasso,epochs=1000,bachSize=32).joblib']"
      ]
     },
     "execution_count": 50,
     "metadata": {},
     "output_type": "execute_result"
    }
   ],
   "source": [
    "# Almacenar el modelo\n",
    "dump(betsModelLogisticRegression, \"models/modelLogisticRegression(lr=0.01,regularization=lasso,epochs=1000,bachSize=32).joblib\")"
   ]
  },
  {
   "cell_type": "markdown",
   "id": "534b9e5a",
   "metadata": {},
   "source": [
    "### Predicciones y test con modelos de entrenamiento"
   ]
  },
  {
   "cell_type": "code",
   "execution_count": 51,
   "id": "9de5372b",
   "metadata": {},
   "outputs": [],
   "source": [
    "def predictNB(Medidas0, Medidas1):\n",
    "    temp0 = []\n",
    "    temp1 = []\n",
    "\n",
    "    for i in range(0, Medidas0.shape[0]):\n",
    "\n",
    "        predictions0 = stats.norm(Medidas0[i][0], Medidas0[i][1]).cdf(xTest.iloc[:, [i]])\n",
    "        predictions1 = stats.norm(Medidas1[i][0], Medidas1[i][1]).cdf(xTest.iloc[:, [i]])\n",
    "        temp0.append(predictions0)\n",
    "        temp1.append(predictions1)\n",
    "    \n",
    "    x0probabilities = np.array(temp0).T.squeeze()\n",
    "    x1probabilities = np.array(temp1).T.squeeze()\n",
    "    \n",
    "    # Cálculo de la probabilidad para los sobrevivientes y no sobrevivientes\n",
    "    Probabilidad0 = 1-np.mean(yTrain) #No sobrevivientes\n",
    "    Probabilidad1 = np.mean(yTrain) #Sobrevivientes\n",
    "    \n",
    "    x0 = np.concatenate((x0probabilities, np.full_like(x0probabilities[:,0],Probabilidad0).reshape(-1,1)), axis = 1)\n",
    "    x1 = np.concatenate((x1probabilities, np.full_like(x1probabilities[:,0],Probabilidad1).reshape(-1,1)), axis = 1)\n",
    "    \n",
    "    y0 = np.prod(x0, axis = 1).reshape(-1,1)\n",
    "    y1 = np.prod(x1, axis = 1).reshape(-1,1)\n",
    "    y01 = np.concatenate((y0, y1), axis = 1)\n",
    "    \n",
    "    predictions = np.argmax(y01, axis = 1)\n",
    "    accuracy = np.mean(predictions == yTest)\n",
    "    return predictions, accuracy\n",
    "\n",
    "def predicMRL(xTest, parametros):\n",
    "    tf.reset_default_graph()\n",
    "    \n",
    "    tensor_w = tf.placeholder(tf.float32, shape = [None, None], name = \"tensor_w\")\n",
    "    tensor_x = tf.placeholder(tf.float32, shape = [None, None], name = \"tensor_x\")\n",
    "    \n",
    "    logits = tf.matmul(tensor_x, tf.transpose(tensor_w))\n",
    "    sigmoid = tf.nn.sigmoid(logits)\n",
    "    prediction = tf.round(sigmoid)\n",
    "    \n",
    "    with tf.train.MonitoredSession() as session:\n",
    "        feed_dictionary = {tensor_x: xTest, tensor_w:parametros}\n",
    "        predictions = session.run(prediction, feed_dict= feed_dictionary)\n",
    "        return predictions.T"
   ]
  },
  {
   "cell_type": "markdown",
   "id": "e1cebfc5",
   "metadata": {},
   "source": [
    "##### Predicciones"
   ]
  },
  {
   "cell_type": "code",
   "execution_count": 52,
   "id": "8fb34468",
   "metadata": {},
   "outputs": [
    {
     "name": "stdout",
     "output_type": "stream",
     "text": [
      "INFO:tensorflow:Graph was finalized.\n",
      "INFO:tensorflow:Running local_init_op.\n",
      "INFO:tensorflow:Done running local_init_op.\n"
     ]
    }
   ],
   "source": [
    "pTree = bestModelDecisionTreeClassifier.predict(xTest)\n",
    "pSVM = bestModelSVM.predict(xTest)\n",
    "pNB,a = predictNB(bestModelNaiveBayes['nb0'],bestModelNaiveBayes['nb1'])\n",
    "\n",
    "xTestTF = np.insert(np.array(xTest),0, np.ones(len(xTest)), axis = 1)\n",
    "pMRL = predicMRL(xTestTF, betsModelLogisticRegression).squeeze()"
   ]
  },
  {
   "cell_type": "markdown",
   "id": "a83b0d1b",
   "metadata": {},
   "source": [
    "##### Predicciones Totales"
   ]
  },
  {
   "cell_type": "code",
   "execution_count": 53,
   "id": "048c72f4",
   "metadata": {},
   "outputs": [],
   "source": [
    "predicciones = np.stack((pTree, pSVM, pNB, pMRL)).T"
   ]
  },
  {
   "cell_type": "code",
   "execution_count": 54,
   "id": "f6dcde42",
   "metadata": {},
   "outputs": [],
   "source": [
    "# Calculamos la moda de los valores de las predicciones\n",
    "prediccionFinal = stats.mode(predicciones.T)[0].squeeze()"
   ]
  },
  {
   "cell_type": "code",
   "execution_count": 55,
   "id": "25b0f81b",
   "metadata": {},
   "outputs": [
    {
     "data": {
      "text/plain": [
       "array([0., 0., 0., 0., 0., 0., 0., 0., 0., 0., 0., 0., 0., 0., 0., 0., 0.,\n",
       "       0., 0., 0., 0., 0., 0., 1., 0., 1., 0., 0., 0., 0., 0., 0., 0., 0.,\n",
       "       0., 0., 1., 0., 0., 0., 1., 0., 0., 0., 0., 0., 0., 0., 0., 1., 1.,\n",
       "       0., 1., 0., 0., 0., 1., 0., 0., 0., 0., 0., 0., 0., 1., 1., 0., 1.,\n",
       "       0., 0., 0., 1., 0., 0., 0., 0., 0., 0., 1., 0., 0., 0., 1., 0., 1.,\n",
       "       1., 0., 0., 0., 1., 0., 0., 1., 0., 1., 0., 0., 0., 1., 0., 1., 0.,\n",
       "       0., 0., 0., 0., 0., 1., 0., 0., 0., 0., 1., 1., 0., 0., 0., 1., 1.,\n",
       "       0., 0., 0., 1., 1., 0., 0., 0., 0., 0., 0., 0., 0., 0., 0., 0., 1.,\n",
       "       0., 0., 0., 0., 0., 0., 1., 0., 0., 0., 1., 1., 0., 0., 1., 0., 0.,\n",
       "       1., 0., 0., 1., 0., 1., 0., 0., 0., 0., 0., 0., 0., 1., 0., 0., 0.,\n",
       "       1., 0., 0., 0., 0., 0., 0., 1., 1.])"
      ]
     },
     "execution_count": 55,
     "metadata": {},
     "output_type": "execute_result"
    }
   ],
   "source": [
    "prediccionFinal"
   ]
  },
  {
   "cell_type": "code",
   "execution_count": 56,
   "id": "7d255e10",
   "metadata": {},
   "outputs": [
    {
     "data": {
      "text/html": [
       "<div>\n",
       "<style scoped>\n",
       "    .dataframe tbody tr th:only-of-type {\n",
       "        vertical-align: middle;\n",
       "    }\n",
       "\n",
       "    .dataframe tbody tr th {\n",
       "        vertical-align: top;\n",
       "    }\n",
       "\n",
       "    .dataframe thead th {\n",
       "        text-align: right;\n",
       "    }\n",
       "</style>\n",
       "<table border=\"1\" class=\"dataframe\">\n",
       "  <thead>\n",
       "    <tr style=\"text-align: right;\">\n",
       "      <th></th>\n",
       "      <th>Age</th>\n",
       "      <th>SibSp</th>\n",
       "      <th>Parch</th>\n",
       "      <th>Fare</th>\n",
       "      <th>passenger_sex</th>\n",
       "      <th>LClass</th>\n",
       "      <th>MClass</th>\n",
       "      <th>UClass</th>\n",
       "      <th>EmbarkedC</th>\n",
       "      <th>EmbarkedQ</th>\n",
       "      <th>EmbarkedS</th>\n",
       "      <th>passenger_survived</th>\n",
       "      <th>survivedP</th>\n",
       "    </tr>\n",
       "  </thead>\n",
       "  <tbody>\n",
       "    <tr>\n",
       "      <th>461</th>\n",
       "      <td>0.973097</td>\n",
       "      <td>0.0</td>\n",
       "      <td>0.000000</td>\n",
       "      <td>0.230395</td>\n",
       "      <td>1</td>\n",
       "      <td>1.0</td>\n",
       "      <td>0.0</td>\n",
       "      <td>0.0</td>\n",
       "      <td>0.0</td>\n",
       "      <td>0.0</td>\n",
       "      <td>1.0</td>\n",
       "      <td>0</td>\n",
       "      <td>0.0</td>\n",
       "    </tr>\n",
       "    <tr>\n",
       "      <th>624</th>\n",
       "      <td>0.793606</td>\n",
       "      <td>0.0</td>\n",
       "      <td>0.000000</td>\n",
       "      <td>0.608432</td>\n",
       "      <td>1</td>\n",
       "      <td>1.0</td>\n",
       "      <td>0.0</td>\n",
       "      <td>0.0</td>\n",
       "      <td>0.0</td>\n",
       "      <td>0.0</td>\n",
       "      <td>1.0</td>\n",
       "      <td>0</td>\n",
       "      <td>0.0</td>\n",
       "    </tr>\n",
       "    <tr>\n",
       "      <th>731</th>\n",
       "      <td>0.505263</td>\n",
       "      <td>0.0</td>\n",
       "      <td>0.000000</td>\n",
       "      <td>0.862966</td>\n",
       "      <td>1</td>\n",
       "      <td>1.0</td>\n",
       "      <td>0.0</td>\n",
       "      <td>0.0</td>\n",
       "      <td>1.0</td>\n",
       "      <td>0.0</td>\n",
       "      <td>0.0</td>\n",
       "      <td>0</td>\n",
       "      <td>0.0</td>\n",
       "    </tr>\n",
       "    <tr>\n",
       "      <th>281</th>\n",
       "      <td>0.962837</td>\n",
       "      <td>0.0</td>\n",
       "      <td>0.000000</td>\n",
       "      <td>0.270083</td>\n",
       "      <td>1</td>\n",
       "      <td>1.0</td>\n",
       "      <td>0.0</td>\n",
       "      <td>0.0</td>\n",
       "      <td>0.0</td>\n",
       "      <td>0.0</td>\n",
       "      <td>1.0</td>\n",
       "      <td>0</td>\n",
       "      <td>0.0</td>\n",
       "    </tr>\n",
       "    <tr>\n",
       "      <th>659</th>\n",
       "      <td>0.455702</td>\n",
       "      <td>0.0</td>\n",
       "      <td>0.015714</td>\n",
       "      <td>0.889994</td>\n",
       "      <td>1</td>\n",
       "      <td>0.0</td>\n",
       "      <td>0.0</td>\n",
       "      <td>1.0</td>\n",
       "      <td>1.0</td>\n",
       "      <td>0.0</td>\n",
       "      <td>0.0</td>\n",
       "      <td>0</td>\n",
       "      <td>0.0</td>\n",
       "    </tr>\n",
       "    <tr>\n",
       "      <th>...</th>\n",
       "      <td>...</td>\n",
       "      <td>...</td>\n",
       "      <td>...</td>\n",
       "      <td>...</td>\n",
       "      <td>...</td>\n",
       "      <td>...</td>\n",
       "      <td>...</td>\n",
       "      <td>...</td>\n",
       "      <td>...</td>\n",
       "      <td>...</td>\n",
       "      <td>...</td>\n",
       "      <td>...</td>\n",
       "      <td>...</td>\n",
       "    </tr>\n",
       "    <tr>\n",
       "      <th>784</th>\n",
       "      <td>0.962463</td>\n",
       "      <td>0.0</td>\n",
       "      <td>0.000000</td>\n",
       "      <td>0.271414</td>\n",
       "      <td>1</td>\n",
       "      <td>1.0</td>\n",
       "      <td>0.0</td>\n",
       "      <td>0.0</td>\n",
       "      <td>0.0</td>\n",
       "      <td>0.0</td>\n",
       "      <td>1.0</td>\n",
       "      <td>0</td>\n",
       "      <td>0.0</td>\n",
       "    </tr>\n",
       "    <tr>\n",
       "      <th>422</th>\n",
       "      <td>0.965051</td>\n",
       "      <td>0.0</td>\n",
       "      <td>0.000000</td>\n",
       "      <td>0.262061</td>\n",
       "      <td>1</td>\n",
       "      <td>1.0</td>\n",
       "      <td>0.0</td>\n",
       "      <td>0.0</td>\n",
       "      <td>0.0</td>\n",
       "      <td>0.0</td>\n",
       "      <td>1.0</td>\n",
       "      <td>0</td>\n",
       "      <td>0.0</td>\n",
       "    </tr>\n",
       "    <tr>\n",
       "      <th>527</th>\n",
       "      <td>0.125257</td>\n",
       "      <td>0.0</td>\n",
       "      <td>0.000000</td>\n",
       "      <td>0.992124</td>\n",
       "      <td>1</td>\n",
       "      <td>0.0</td>\n",
       "      <td>0.0</td>\n",
       "      <td>1.0</td>\n",
       "      <td>0.0</td>\n",
       "      <td>0.0</td>\n",
       "      <td>1.0</td>\n",
       "      <td>0</td>\n",
       "      <td>0.0</td>\n",
       "    </tr>\n",
       "    <tr>\n",
       "      <th>325</th>\n",
       "      <td>0.256539</td>\n",
       "      <td>0.0</td>\n",
       "      <td>0.000000</td>\n",
       "      <td>0.966534</td>\n",
       "      <td>0</td>\n",
       "      <td>0.0</td>\n",
       "      <td>0.0</td>\n",
       "      <td>1.0</td>\n",
       "      <td>1.0</td>\n",
       "      <td>0.0</td>\n",
       "      <td>0.0</td>\n",
       "      <td>1</td>\n",
       "      <td>1.0</td>\n",
       "    </tr>\n",
       "    <tr>\n",
       "      <th>651</th>\n",
       "      <td>0.615947</td>\n",
       "      <td>0.0</td>\n",
       "      <td>0.034219</td>\n",
       "      <td>0.787044</td>\n",
       "      <td>0</td>\n",
       "      <td>0.0</td>\n",
       "      <td>1.0</td>\n",
       "      <td>0.0</td>\n",
       "      <td>0.0</td>\n",
       "      <td>0.0</td>\n",
       "      <td>1.0</td>\n",
       "      <td>1</td>\n",
       "      <td>1.0</td>\n",
       "    </tr>\n",
       "  </tbody>\n",
       "</table>\n",
       "<p>179 rows × 13 columns</p>\n",
       "</div>"
      ],
      "text/plain": [
       "          Age  SibSp     Parch      Fare  passenger_sex  LClass  MClass  \\\n",
       "461  0.973097    0.0  0.000000  0.230395              1     1.0     0.0   \n",
       "624  0.793606    0.0  0.000000  0.608432              1     1.0     0.0   \n",
       "731  0.505263    0.0  0.000000  0.862966              1     1.0     0.0   \n",
       "281  0.962837    0.0  0.000000  0.270083              1     1.0     0.0   \n",
       "659  0.455702    0.0  0.015714  0.889994              1     0.0     0.0   \n",
       "..        ...    ...       ...       ...            ...     ...     ...   \n",
       "784  0.962463    0.0  0.000000  0.271414              1     1.0     0.0   \n",
       "422  0.965051    0.0  0.000000  0.262061              1     1.0     0.0   \n",
       "527  0.125257    0.0  0.000000  0.992124              1     0.0     0.0   \n",
       "325  0.256539    0.0  0.000000  0.966534              0     0.0     0.0   \n",
       "651  0.615947    0.0  0.034219  0.787044              0     0.0     1.0   \n",
       "\n",
       "     UClass  EmbarkedC  EmbarkedQ  EmbarkedS  passenger_survived  survivedP  \n",
       "461     0.0        0.0        0.0        1.0                   0        0.0  \n",
       "624     0.0        0.0        0.0        1.0                   0        0.0  \n",
       "731     0.0        1.0        0.0        0.0                   0        0.0  \n",
       "281     0.0        0.0        0.0        1.0                   0        0.0  \n",
       "659     1.0        1.0        0.0        0.0                   0        0.0  \n",
       "..      ...        ...        ...        ...                 ...        ...  \n",
       "784     0.0        0.0        0.0        1.0                   0        0.0  \n",
       "422     0.0        0.0        0.0        1.0                   0        0.0  \n",
       "527     1.0        0.0        0.0        1.0                   0        0.0  \n",
       "325     1.0        1.0        0.0        0.0                   1        1.0  \n",
       "651     0.0        0.0        0.0        1.0                   1        1.0  \n",
       "\n",
       "[179 rows x 13 columns]"
      ]
     },
     "execution_count": 56,
     "metadata": {},
     "output_type": "execute_result"
    }
   ],
   "source": [
    "# Construyendo el dataset final\n",
    "xTest['passenger_survived'] = yTest\n",
    "xTest['survivedP'] = prediccionFinal\n",
    "xTest"
   ]
  },
  {
   "cell_type": "markdown",
   "id": "c7bb771c",
   "metadata": {},
   "source": [
    "#### Métricas de evaluación"
   ]
  },
  {
   "cell_type": "code",
   "execution_count": 57,
   "id": "b5b7268f",
   "metadata": {},
   "outputs": [],
   "source": [
    "# Validamos coincidencias entre predicciones y valores de prueba\n",
    "accuracy = np.mean(prediccionFinal == yTest)"
   ]
  },
  {
   "cell_type": "code",
   "execution_count": 58,
   "id": "2aa3f824",
   "metadata": {},
   "outputs": [
    {
     "data": {
      "text/html": [
       "<div>\n",
       "<style scoped>\n",
       "    .dataframe tbody tr th:only-of-type {\n",
       "        vertical-align: middle;\n",
       "    }\n",
       "\n",
       "    .dataframe tbody tr th {\n",
       "        vertical-align: top;\n",
       "    }\n",
       "\n",
       "    .dataframe thead th {\n",
       "        text-align: right;\n",
       "    }\n",
       "</style>\n",
       "<table border=\"1\" class=\"dataframe\">\n",
       "  <thead>\n",
       "    <tr style=\"text-align: right;\">\n",
       "      <th></th>\n",
       "      <th>metrica</th>\n",
       "      <th>valores</th>\n",
       "    </tr>\n",
       "  </thead>\n",
       "  <tbody>\n",
       "    <tr>\n",
       "      <th>0</th>\n",
       "      <td>accuracy</td>\n",
       "      <td>0.832402</td>\n",
       "    </tr>\n",
       "    <tr>\n",
       "      <th>1</th>\n",
       "      <td>precision</td>\n",
       "      <td>0.583333</td>\n",
       "    </tr>\n",
       "    <tr>\n",
       "      <th>2</th>\n",
       "      <td>recall</td>\n",
       "      <td>0.875000</td>\n",
       "    </tr>\n",
       "    <tr>\n",
       "      <th>3</th>\n",
       "      <td>f1score</td>\n",
       "      <td>0.700000</td>\n",
       "    </tr>\n",
       "    <tr>\n",
       "      <th>4</th>\n",
       "      <td>error</td>\n",
       "      <td>0.167598</td>\n",
       "    </tr>\n",
       "  </tbody>\n",
       "</table>\n",
       "</div>"
      ],
      "text/plain": [
       "     metrica   valores\n",
       "0   accuracy  0.832402\n",
       "1  precision  0.583333\n",
       "2     recall  0.875000\n",
       "3    f1score  0.700000\n",
       "4      error  0.167598"
      ]
     },
     "execution_count": 58,
     "metadata": {},
     "output_type": "execute_result"
    }
   ],
   "source": [
    "# Métricas\n",
    "data = {'metrica':['accuracy','precision','recall','f1score','error'],\n",
    "       'valores':[metrics.accuracy_score(prediccionFinal, yTest), \n",
    "                  metrics.precision_score(prediccionFinal, yTest), \n",
    "                  metrics.recall_score(prediccionFinal, yTest),\n",
    "                  metrics.f1_score(prediccionFinal, yTest), \n",
    "                  1 - accuracy]}\n",
    "metricas = pd.DataFrame(data)\n",
    "metricas"
   ]
  },
  {
   "cell_type": "code",
   "execution_count": 59,
   "id": "fe648733",
   "metadata": {},
   "outputs": [
    {
     "data": {
      "text/plain": [
       "['data/yTest.joblib']"
      ]
     },
     "execution_count": 59,
     "metadata": {},
     "output_type": "execute_result"
    }
   ],
   "source": [
    "# Almacenamos los datos para el deploy\n",
    "dump(xTest, 'data/xTest.joblib')\n",
    "dump(yTest, 'data/yTest.joblib')"
   ]
  },
  {
   "cell_type": "markdown",
   "id": "2dcd8c89",
   "metadata": {},
   "source": [
    "## Conclusiones\n",
    "\n",
    "1. El modelo podría mejorar si se aplican métodos como Kfolds o validación cruzada, para utilizar de forma exhausitiva los conjuntos de datos y tener un mejor porcentaje de exactitud.\n",
    "\n",
    "2. Al verificar la métrica de exactitud (accuracy) del ensamble es aproximandamente 0.78. Si observamos las métricas de exactitud de los modelos correspondientes la mayoría tuvo un nivel de exactitud arriba del 80%, excepto el algoritmo de Naive Bayes que obtuvi 78%, lo cual pudo haber impactado al momento de realizar el ensamble correspondiente.\n",
    "\n",
    "3. Con un 78% de exactitud de modelo final pordría indicar que es un alto porcentaje de confiabilidad."
   ]
  },
  {
   "cell_type": "markdown",
   "id": "f5d40f83",
   "metadata": {},
   "source": [
    "## Recomendaciones\n",
    "\n",
    "1. Aplicar otros valores a los parámetros de los métodos calculados podría dar mejores resultados.\n",
    "\n",
    "2. Aplicando más ingeniería de características se podrían mejorar los resultados, por ejemplo en lugar de imputar con la mediana los valores faltantes de las edades, se podría hacer una regresión lineal para calcular estos.\n",
    "\n",
    "3. Para verificar si el método de Naive Bayes impacta en el ensamble valdría la pena quitarlo y volver a calcular el ensamble para que posiblemente mejore el modelo final."
   ]
  },
  {
   "cell_type": "markdown",
   "id": "4627e88c",
   "metadata": {},
   "source": [
    "## KFolds\n",
    "\n",
    "¿cómo se debe hacer un división adecuada de los datos para el análisis?\n",
    "\n",
    "La validación cruzada con KFolds es un procedimiento que nos permite dividir el dataset en varios fragmentos y entrenar en diversos conjuntos de test.\n",
    "\n",
    "Una traducción de K-Folds al español podría ser algo como K-Dobleces. Esto es así porque hacemos k particiones del conjunto de datos, de base de tamaño N antes de dividirla en p particiones de entrenamiento y prueba.  \n",
    "\n",
    "$$ Size(p_i) = \\frac{N}{k} $$\n",
    "\n",
    "La validación cruzada K-fold mejora el modelo mediante la validación de los datos. El método de validación cruzada K-fold divide el conjunto de datos en subconjuntos como número K. Por lo tanto, repite el método de validación cruzada k veces.\n",
    "\n",
    "### Funcionamiento\n",
    "\n",
    "dividimos el conjunto de datos en k pliegues, k-1 para entrenar el modelo y el restante para evaluarlo. Seguimos repitiendo esta operación k veces.\n",
    "\n",
    "<img src=\"https://external-content.duckduckgo.com/iu/?u=https%3A%2F%2Fmiro.medium.com%2Fmax%2F1104%2F0*W7JGxNLP1Jvlz3Hu.png&f=1&nofb=1\" width=\"50%\" height=\"50%\"/>\n",
    "\n",
    "### ¿Cómo se pudo haber aplicado al proyecto?\n",
    "\n",
    "La primera vez que procesé todo el ensamble de modelos obtuve un modelo final con 79% de precisión, lo cual no cumplía con los parámetros de evaluación del proyecto y tuve que volver a revisar los experimentos. Dado lo anterior antes de hacer cambios en la variables o modificaciones en los algoritmos, mejor opté por recalcular los datos de entrenamiento, validación y pruebas. Con esto la segunda vez que lo ejecuté el proceso obtuve un 80% de exactitud y la última que lo ejecuté 83%.\n",
    "\n",
    "Al analizar la situación me dí cuenta que con los mismos algoritmos y operaciones en los datos obtenía Accuracy distinto, lo que provocaba esto son los conjuntos de datos y esa aleatoriedad que crea la función de split, porque cada vez que se hace split tenemos solo ciertas porciones de la data.\n",
    "\n",
    "Y para finalizar aplicar Cross Validation con K-folds permitiría usar todos los datos y tener un mejor rendimiento sin depender de fragmentos o porciones del conjunto de datos."
   ]
  }
 ],
 "metadata": {
  "kernelspec": {
   "display_name": "Python 3 (ipykernel)",
   "language": "python",
   "name": "python3"
  },
  "language_info": {
   "codemirror_mode": {
    "name": "ipython",
    "version": 3
   },
   "file_extension": ".py",
   "mimetype": "text/x-python",
   "name": "python",
   "nbconvert_exporter": "python",
   "pygments_lexer": "ipython3",
   "version": "3.7.11"
  }
 },
 "nbformat": 4,
 "nbformat_minor": 5
}
