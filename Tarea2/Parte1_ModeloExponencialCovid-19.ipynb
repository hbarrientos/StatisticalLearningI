{
 "cells": [
  {
   "cell_type": "markdown",
   "id": "cae4c62d",
   "metadata": {},
   "source": [
    "Universidad Galileo  \n",
    "Maestría en Data Science  \n",
    "Statistical Learning I\n",
    "Sección U  \n",
    "\n",
    "\n",
    "   # **Tarea 2: Parte 1 - Modelo exponencial de Covid-19**\n",
    "\n",
    "\n",
    "<p style=\"text-align: right;\">\n",
    "Henry Giovanni<br/>\n",
    "Barrientos García<br/>\n",
    "21001538<br/>\n",
    "Guatemala, 06 de junio de 2022<br/>\n",
    "</p>"
   ]
  },
  {
   "cell_type": "markdown",
   "id": "f2cba13f",
   "metadata": {},
   "source": [
    "## Descripción\n",
    "\n",
    "Usando el ejemplo de covid-19 en el notebook de feature-eng (https://colab.research.google.com/drive/1sJV2HG7tQgCGKES3-dIclzHQJ9qAWB3b?usp=sharing) crear un modelo de covid-19 para Guatemala.\n",
    "\n",
    "* Convertir la fecha a un entero \"número de día\", por ejemplo si se usan datos desde el 22 de abril, este es el día 0, el 23 es el día 1.\n",
    "* Aplicar regresión lineal sobre la variable \"Confirmed\" transformada.\n",
    "* Una vez entrenado el modelo usarlo para aproximar la cantidad de casos confirmados para el 30 de mayo. Se debe reportar la cantidad de casos, no la cantidad transformada obtenida."
   ]
  },
  {
   "cell_type": "code",
   "execution_count": 1,
   "id": "8b00c211",
   "metadata": {},
   "outputs": [
    {
     "name": "stdout",
     "output_type": "stream",
     "text": [
      "WARNING:tensorflow:From C:\\Users\\hbarrientosg\\Anaconda3\\envs\\TareasSLII\\lib\\site-packages\\tensorflow\\python\\compat\\v2_compat.py:61: disable_resource_variables (from tensorflow.python.ops.variable_scope) is deprecated and will be removed in a future version.\n",
      "Instructions for updating:\n",
      "non-resource variables are not supported in the long term\n"
     ]
    },
    {
     "ename": "AttributeError",
     "evalue": "module 'tensorflow._api.v1.compat.v1.compat' has no attribute 'v1'",
     "output_type": "error",
     "traceback": [
      "\u001b[1;31m---------------------------------------------------------------------------\u001b[0m",
      "\u001b[1;31mAttributeError\u001b[0m                            Traceback (most recent call last)",
      "\u001b[1;32mC:\\Users\\HBARRI~1\\AppData\\Local\\Temp/ipykernel_47312/3281019368.py\u001b[0m in \u001b[0;36m<module>\u001b[1;34m\u001b[0m\n\u001b[0;32m      8\u001b[0m \u001b[1;32mimport\u001b[0m \u001b[0mseaborn\u001b[0m \u001b[1;32mas\u001b[0m \u001b[0msns\u001b[0m\u001b[1;33m\u001b[0m\u001b[1;33m\u001b[0m\u001b[0m\n\u001b[0;32m      9\u001b[0m \u001b[0mtf\u001b[0m\u001b[1;33m.\u001b[0m\u001b[0mdisable_v2_behavior\u001b[0m\u001b[1;33m(\u001b[0m\u001b[1;33m)\u001b[0m\u001b[1;33m\u001b[0m\u001b[1;33m\u001b[0m\u001b[0m\n\u001b[1;32m---> 10\u001b[1;33m \u001b[0mtf\u001b[0m\u001b[1;33m.\u001b[0m\u001b[0mcompat\u001b[0m\u001b[1;33m.\u001b[0m\u001b[0mv1\u001b[0m\u001b[1;33m.\u001b[0m\u001b[0mdisable_eager_execution\u001b[0m\u001b[1;33m(\u001b[0m\u001b[1;33m)\u001b[0m\u001b[1;33m\u001b[0m\u001b[1;33m\u001b[0m\u001b[0m\n\u001b[0m",
      "\u001b[1;31mAttributeError\u001b[0m: module 'tensorflow._api.v1.compat.v1.compat' has no attribute 'v1'"
     ]
    }
   ],
   "source": [
    "import warnings\n",
    "warnings.filterwarnings('ignore')\n",
    "import numpy as np\n",
    "import pandas as pd\n",
    "import tensorflow.compat.v1 as tf\n",
    "import matplotlib.pyplot as plt\n",
    "import datetime\n",
    "import seaborn as sns\n",
    "tf.disable_v2_behavior()\n",
    "tf.compat.v1.disable_eager_execution()"
   ]
  },
  {
   "cell_type": "markdown",
   "id": "8af2b766",
   "metadata": {},
   "source": [
    "## Preparación y exploración de los datos"
   ]
  },
  {
   "cell_type": "code",
   "execution_count": 2,
   "id": "1639914f",
   "metadata": {},
   "outputs": [
    {
     "data": {
      "text/html": [
       "<div>\n",
       "<style scoped>\n",
       "    .dataframe tbody tr th:only-of-type {\n",
       "        vertical-align: middle;\n",
       "    }\n",
       "\n",
       "    .dataframe tbody tr th {\n",
       "        vertical-align: top;\n",
       "    }\n",
       "\n",
       "    .dataframe thead th {\n",
       "        text-align: right;\n",
       "    }\n",
       "</style>\n",
       "<table border=\"1\" class=\"dataframe\">\n",
       "  <thead>\n",
       "    <tr style=\"text-align: right;\">\n",
       "      <th></th>\n",
       "      <th>Province/State</th>\n",
       "      <th>Country/Region</th>\n",
       "      <th>Lat</th>\n",
       "      <th>Long</th>\n",
       "      <th>1/22/20</th>\n",
       "      <th>1/23/20</th>\n",
       "      <th>1/24/20</th>\n",
       "      <th>1/25/20</th>\n",
       "      <th>1/26/20</th>\n",
       "      <th>1/27/20</th>\n",
       "      <th>...</th>\n",
       "      <th>6/13/22</th>\n",
       "      <th>6/14/22</th>\n",
       "      <th>6/15/22</th>\n",
       "      <th>6/16/22</th>\n",
       "      <th>6/17/22</th>\n",
       "      <th>6/18/22</th>\n",
       "      <th>6/19/22</th>\n",
       "      <th>6/20/22</th>\n",
       "      <th>6/21/22</th>\n",
       "      <th>6/22/22</th>\n",
       "    </tr>\n",
       "  </thead>\n",
       "  <tbody>\n",
       "    <tr>\n",
       "      <th>0</th>\n",
       "      <td>NaN</td>\n",
       "      <td>Afghanistan</td>\n",
       "      <td>33.939110</td>\n",
       "      <td>67.709953</td>\n",
       "      <td>0</td>\n",
       "      <td>0</td>\n",
       "      <td>0</td>\n",
       "      <td>0</td>\n",
       "      <td>0</td>\n",
       "      <td>0</td>\n",
       "      <td>...</td>\n",
       "      <td>181120</td>\n",
       "      <td>181178</td>\n",
       "      <td>181236</td>\n",
       "      <td>181465</td>\n",
       "      <td>181534</td>\n",
       "      <td>181574</td>\n",
       "      <td>181666</td>\n",
       "      <td>181725</td>\n",
       "      <td>181808</td>\n",
       "      <td>181912</td>\n",
       "    </tr>\n",
       "    <tr>\n",
       "      <th>1</th>\n",
       "      <td>NaN</td>\n",
       "      <td>Albania</td>\n",
       "      <td>41.153300</td>\n",
       "      <td>20.168300</td>\n",
       "      <td>0</td>\n",
       "      <td>0</td>\n",
       "      <td>0</td>\n",
       "      <td>0</td>\n",
       "      <td>0</td>\n",
       "      <td>0</td>\n",
       "      <td>...</td>\n",
       "      <td>276731</td>\n",
       "      <td>276821</td>\n",
       "      <td>276821</td>\n",
       "      <td>276821</td>\n",
       "      <td>277141</td>\n",
       "      <td>277141</td>\n",
       "      <td>277409</td>\n",
       "      <td>277444</td>\n",
       "      <td>277663</td>\n",
       "      <td>277940</td>\n",
       "    </tr>\n",
       "    <tr>\n",
       "      <th>2</th>\n",
       "      <td>NaN</td>\n",
       "      <td>Algeria</td>\n",
       "      <td>28.033900</td>\n",
       "      <td>1.659600</td>\n",
       "      <td>0</td>\n",
       "      <td>0</td>\n",
       "      <td>0</td>\n",
       "      <td>0</td>\n",
       "      <td>0</td>\n",
       "      <td>0</td>\n",
       "      <td>...</td>\n",
       "      <td>265937</td>\n",
       "      <td>265943</td>\n",
       "      <td>265952</td>\n",
       "      <td>265964</td>\n",
       "      <td>265968</td>\n",
       "      <td>265971</td>\n",
       "      <td>265975</td>\n",
       "      <td>265985</td>\n",
       "      <td>265993</td>\n",
       "      <td>266006</td>\n",
       "    </tr>\n",
       "    <tr>\n",
       "      <th>3</th>\n",
       "      <td>NaN</td>\n",
       "      <td>Andorra</td>\n",
       "      <td>42.506300</td>\n",
       "      <td>1.521800</td>\n",
       "      <td>0</td>\n",
       "      <td>0</td>\n",
       "      <td>0</td>\n",
       "      <td>0</td>\n",
       "      <td>0</td>\n",
       "      <td>0</td>\n",
       "      <td>...</td>\n",
       "      <td>43224</td>\n",
       "      <td>43224</td>\n",
       "      <td>43449</td>\n",
       "      <td>43449</td>\n",
       "      <td>43449</td>\n",
       "      <td>43449</td>\n",
       "      <td>43449</td>\n",
       "      <td>43449</td>\n",
       "      <td>43449</td>\n",
       "      <td>43774</td>\n",
       "    </tr>\n",
       "    <tr>\n",
       "      <th>4</th>\n",
       "      <td>NaN</td>\n",
       "      <td>Angola</td>\n",
       "      <td>-11.202700</td>\n",
       "      <td>17.873900</td>\n",
       "      <td>0</td>\n",
       "      <td>0</td>\n",
       "      <td>0</td>\n",
       "      <td>0</td>\n",
       "      <td>0</td>\n",
       "      <td>0</td>\n",
       "      <td>...</td>\n",
       "      <td>99761</td>\n",
       "      <td>99761</td>\n",
       "      <td>99761</td>\n",
       "      <td>99761</td>\n",
       "      <td>99761</td>\n",
       "      <td>99761</td>\n",
       "      <td>99761</td>\n",
       "      <td>99761</td>\n",
       "      <td>99761</td>\n",
       "      <td>99761</td>\n",
       "    </tr>\n",
       "    <tr>\n",
       "      <th>...</th>\n",
       "      <td>...</td>\n",
       "      <td>...</td>\n",
       "      <td>...</td>\n",
       "      <td>...</td>\n",
       "      <td>...</td>\n",
       "      <td>...</td>\n",
       "      <td>...</td>\n",
       "      <td>...</td>\n",
       "      <td>...</td>\n",
       "      <td>...</td>\n",
       "      <td>...</td>\n",
       "      <td>...</td>\n",
       "      <td>...</td>\n",
       "      <td>...</td>\n",
       "      <td>...</td>\n",
       "      <td>...</td>\n",
       "      <td>...</td>\n",
       "      <td>...</td>\n",
       "      <td>...</td>\n",
       "      <td>...</td>\n",
       "      <td>...</td>\n",
       "    </tr>\n",
       "    <tr>\n",
       "      <th>280</th>\n",
       "      <td>NaN</td>\n",
       "      <td>West Bank and Gaza</td>\n",
       "      <td>31.952200</td>\n",
       "      <td>35.233200</td>\n",
       "      <td>0</td>\n",
       "      <td>0</td>\n",
       "      <td>0</td>\n",
       "      <td>0</td>\n",
       "      <td>0</td>\n",
       "      <td>0</td>\n",
       "      <td>...</td>\n",
       "      <td>657879</td>\n",
       "      <td>657879</td>\n",
       "      <td>658100</td>\n",
       "      <td>658100</td>\n",
       "      <td>658100</td>\n",
       "      <td>658100</td>\n",
       "      <td>658100</td>\n",
       "      <td>658503</td>\n",
       "      <td>658503</td>\n",
       "      <td>658503</td>\n",
       "    </tr>\n",
       "    <tr>\n",
       "      <th>281</th>\n",
       "      <td>NaN</td>\n",
       "      <td>Winter Olympics 2022</td>\n",
       "      <td>39.904200</td>\n",
       "      <td>116.407400</td>\n",
       "      <td>0</td>\n",
       "      <td>0</td>\n",
       "      <td>0</td>\n",
       "      <td>0</td>\n",
       "      <td>0</td>\n",
       "      <td>0</td>\n",
       "      <td>...</td>\n",
       "      <td>535</td>\n",
       "      <td>535</td>\n",
       "      <td>535</td>\n",
       "      <td>535</td>\n",
       "      <td>535</td>\n",
       "      <td>535</td>\n",
       "      <td>535</td>\n",
       "      <td>535</td>\n",
       "      <td>535</td>\n",
       "      <td>535</td>\n",
       "    </tr>\n",
       "    <tr>\n",
       "      <th>282</th>\n",
       "      <td>NaN</td>\n",
       "      <td>Yemen</td>\n",
       "      <td>15.552727</td>\n",
       "      <td>48.516388</td>\n",
       "      <td>0</td>\n",
       "      <td>0</td>\n",
       "      <td>0</td>\n",
       "      <td>0</td>\n",
       "      <td>0</td>\n",
       "      <td>0</td>\n",
       "      <td>...</td>\n",
       "      <td>11822</td>\n",
       "      <td>11822</td>\n",
       "      <td>11822</td>\n",
       "      <td>11822</td>\n",
       "      <td>11823</td>\n",
       "      <td>11823</td>\n",
       "      <td>11823</td>\n",
       "      <td>11823</td>\n",
       "      <td>11824</td>\n",
       "      <td>11824</td>\n",
       "    </tr>\n",
       "    <tr>\n",
       "      <th>283</th>\n",
       "      <td>NaN</td>\n",
       "      <td>Zambia</td>\n",
       "      <td>-13.133897</td>\n",
       "      <td>27.849332</td>\n",
       "      <td>0</td>\n",
       "      <td>0</td>\n",
       "      <td>0</td>\n",
       "      <td>0</td>\n",
       "      <td>0</td>\n",
       "      <td>0</td>\n",
       "      <td>...</td>\n",
       "      <td>323283</td>\n",
       "      <td>323337</td>\n",
       "      <td>323654</td>\n",
       "      <td>323654</td>\n",
       "      <td>324025</td>\n",
       "      <td>324025</td>\n",
       "      <td>324288</td>\n",
       "      <td>324344</td>\n",
       "      <td>324558</td>\n",
       "      <td>324558</td>\n",
       "    </tr>\n",
       "    <tr>\n",
       "      <th>284</th>\n",
       "      <td>NaN</td>\n",
       "      <td>Zimbabwe</td>\n",
       "      <td>-19.015438</td>\n",
       "      <td>29.154857</td>\n",
       "      <td>0</td>\n",
       "      <td>0</td>\n",
       "      <td>0</td>\n",
       "      <td>0</td>\n",
       "      <td>0</td>\n",
       "      <td>0</td>\n",
       "      <td>...</td>\n",
       "      <td>254155</td>\n",
       "      <td>254155</td>\n",
       "      <td>254387</td>\n",
       "      <td>254502</td>\n",
       "      <td>254753</td>\n",
       "      <td>254753</td>\n",
       "      <td>254801</td>\n",
       "      <td>254831</td>\n",
       "      <td>254919</td>\n",
       "      <td>255049</td>\n",
       "    </tr>\n",
       "  </tbody>\n",
       "</table>\n",
       "<p>285 rows × 887 columns</p>\n",
       "</div>"
      ],
      "text/plain": [
       "    Province/State        Country/Region        Lat        Long  1/22/20  \\\n",
       "0              NaN           Afghanistan  33.939110   67.709953        0   \n",
       "1              NaN               Albania  41.153300   20.168300        0   \n",
       "2              NaN               Algeria  28.033900    1.659600        0   \n",
       "3              NaN               Andorra  42.506300    1.521800        0   \n",
       "4              NaN                Angola -11.202700   17.873900        0   \n",
       "..             ...                   ...        ...         ...      ...   \n",
       "280            NaN    West Bank and Gaza  31.952200   35.233200        0   \n",
       "281            NaN  Winter Olympics 2022  39.904200  116.407400        0   \n",
       "282            NaN                 Yemen  15.552727   48.516388        0   \n",
       "283            NaN                Zambia -13.133897   27.849332        0   \n",
       "284            NaN              Zimbabwe -19.015438   29.154857        0   \n",
       "\n",
       "     1/23/20  1/24/20  1/25/20  1/26/20  1/27/20  ...  6/13/22  6/14/22  \\\n",
       "0          0        0        0        0        0  ...   181120   181178   \n",
       "1          0        0        0        0        0  ...   276731   276821   \n",
       "2          0        0        0        0        0  ...   265937   265943   \n",
       "3          0        0        0        0        0  ...    43224    43224   \n",
       "4          0        0        0        0        0  ...    99761    99761   \n",
       "..       ...      ...      ...      ...      ...  ...      ...      ...   \n",
       "280        0        0        0        0        0  ...   657879   657879   \n",
       "281        0        0        0        0        0  ...      535      535   \n",
       "282        0        0        0        0        0  ...    11822    11822   \n",
       "283        0        0        0        0        0  ...   323283   323337   \n",
       "284        0        0        0        0        0  ...   254155   254155   \n",
       "\n",
       "     6/15/22  6/16/22  6/17/22  6/18/22  6/19/22  6/20/22  6/21/22  6/22/22  \n",
       "0     181236   181465   181534   181574   181666   181725   181808   181912  \n",
       "1     276821   276821   277141   277141   277409   277444   277663   277940  \n",
       "2     265952   265964   265968   265971   265975   265985   265993   266006  \n",
       "3      43449    43449    43449    43449    43449    43449    43449    43774  \n",
       "4      99761    99761    99761    99761    99761    99761    99761    99761  \n",
       "..       ...      ...      ...      ...      ...      ...      ...      ...  \n",
       "280   658100   658100   658100   658100   658100   658503   658503   658503  \n",
       "281      535      535      535      535      535      535      535      535  \n",
       "282    11822    11822    11823    11823    11823    11823    11824    11824  \n",
       "283   323654   323654   324025   324025   324288   324344   324558   324558  \n",
       "284   254387   254502   254753   254753   254801   254831   254919   255049  \n",
       "\n",
       "[285 rows x 887 columns]"
      ]
     },
     "execution_count": 2,
     "metadata": {},
     "output_type": "execute_result"
    }
   ],
   "source": [
    "# Obtención de datos\n",
    "dtCovid = pd.read_csv(\"https://raw.githubusercontent.com/CSSEGISandData/COVID-19/master/csse_covid_19_data/csse_covid_19_time_series/time_series_covid19_confirmed_global.csv\")\n",
    "dtCovid"
   ]
  },
  {
   "cell_type": "markdown",
   "id": "2e27f84f",
   "metadata": {},
   "source": [
    "Se puede observar que las fechas están como columnas y están incluidas las del año 2020 hasta la fecha (2022). Para este análisis se tomarán los datos del año 2020."
   ]
  },
  {
   "cell_type": "code",
   "execution_count": 3,
   "id": "7c4b701b",
   "metadata": {},
   "outputs": [
    {
     "data": {
      "text/html": [
       "<div>\n",
       "<style scoped>\n",
       "    .dataframe tbody tr th:only-of-type {\n",
       "        vertical-align: middle;\n",
       "    }\n",
       "\n",
       "    .dataframe tbody tr th {\n",
       "        vertical-align: top;\n",
       "    }\n",
       "\n",
       "    .dataframe thead th {\n",
       "        text-align: right;\n",
       "    }\n",
       "</style>\n",
       "<table border=\"1\" class=\"dataframe\">\n",
       "  <thead>\n",
       "    <tr style=\"text-align: right;\">\n",
       "      <th></th>\n",
       "      <th>Country/Region</th>\n",
       "      <th>Province/State</th>\n",
       "      <th>fecha</th>\n",
       "      <th>confirmados</th>\n",
       "    </tr>\n",
       "  </thead>\n",
       "  <tbody>\n",
       "    <tr>\n",
       "      <th>139</th>\n",
       "      <td>Guatemala</td>\n",
       "      <td>NaN</td>\n",
       "      <td>1/22/20</td>\n",
       "      <td>0</td>\n",
       "    </tr>\n",
       "    <tr>\n",
       "      <th>424</th>\n",
       "      <td>Guatemala</td>\n",
       "      <td>NaN</td>\n",
       "      <td>1/23/20</td>\n",
       "      <td>0</td>\n",
       "    </tr>\n",
       "    <tr>\n",
       "      <th>709</th>\n",
       "      <td>Guatemala</td>\n",
       "      <td>NaN</td>\n",
       "      <td>1/24/20</td>\n",
       "      <td>0</td>\n",
       "    </tr>\n",
       "    <tr>\n",
       "      <th>994</th>\n",
       "      <td>Guatemala</td>\n",
       "      <td>NaN</td>\n",
       "      <td>1/25/20</td>\n",
       "      <td>0</td>\n",
       "    </tr>\n",
       "    <tr>\n",
       "      <th>1279</th>\n",
       "      <td>Guatemala</td>\n",
       "      <td>NaN</td>\n",
       "      <td>1/26/20</td>\n",
       "      <td>0</td>\n",
       "    </tr>\n",
       "  </tbody>\n",
       "</table>\n",
       "</div>"
      ],
      "text/plain": [
       "     Country/Region Province/State    fecha  confirmados\n",
       "139       Guatemala            NaN  1/22/20            0\n",
       "424       Guatemala            NaN  1/23/20            0\n",
       "709       Guatemala            NaN  1/24/20            0\n",
       "994       Guatemala            NaN  1/25/20            0\n",
       "1279      Guatemala            NaN  1/26/20            0"
      ]
     },
     "execution_count": 3,
     "metadata": {},
     "output_type": "execute_result"
    }
   ],
   "source": [
    "# Filtrado y transformación de datos\n",
    "dtCovidGT = dtCovid.drop(['Lat','Long'], axis = 1)\n",
    "dtCovidGT = dtCovidGT.melt(id_vars=['Country/Region','Province/State'])\n",
    "dtCovidGT = dtCovidGT[dtCovidGT['Country/Region'] == 'Guatemala']\n",
    "dtCovidGT.rename(columns = {'variable':'fecha', 'value':'confirmados'}, inplace = True)\n",
    "dtCovidGT.head()"
   ]
  },
  {
   "cell_type": "code",
   "execution_count": 4,
   "id": "2f581657",
   "metadata": {},
   "outputs": [
    {
     "data": {
      "text/html": [
       "<div>\n",
       "<style scoped>\n",
       "    .dataframe tbody tr th:only-of-type {\n",
       "        vertical-align: middle;\n",
       "    }\n",
       "\n",
       "    .dataframe tbody tr th {\n",
       "        vertical-align: top;\n",
       "    }\n",
       "\n",
       "    .dataframe thead th {\n",
       "        text-align: right;\n",
       "    }\n",
       "</style>\n",
       "<table border=\"1\" class=\"dataframe\">\n",
       "  <thead>\n",
       "    <tr style=\"text-align: right;\">\n",
       "      <th></th>\n",
       "      <th>Country/Region</th>\n",
       "      <th>Province/State</th>\n",
       "      <th>fecha</th>\n",
       "      <th>confirmados</th>\n",
       "    </tr>\n",
       "  </thead>\n",
       "  <tbody>\n",
       "    <tr>\n",
       "      <th>139</th>\n",
       "      <td>Guatemala</td>\n",
       "      <td>NaN</td>\n",
       "      <td>2020-01-22</td>\n",
       "      <td>0</td>\n",
       "    </tr>\n",
       "    <tr>\n",
       "      <th>424</th>\n",
       "      <td>Guatemala</td>\n",
       "      <td>NaN</td>\n",
       "      <td>2020-01-23</td>\n",
       "      <td>0</td>\n",
       "    </tr>\n",
       "    <tr>\n",
       "      <th>709</th>\n",
       "      <td>Guatemala</td>\n",
       "      <td>NaN</td>\n",
       "      <td>2020-01-24</td>\n",
       "      <td>0</td>\n",
       "    </tr>\n",
       "    <tr>\n",
       "      <th>994</th>\n",
       "      <td>Guatemala</td>\n",
       "      <td>NaN</td>\n",
       "      <td>2020-01-25</td>\n",
       "      <td>0</td>\n",
       "    </tr>\n",
       "    <tr>\n",
       "      <th>1279</th>\n",
       "      <td>Guatemala</td>\n",
       "      <td>NaN</td>\n",
       "      <td>2020-01-26</td>\n",
       "      <td>0</td>\n",
       "    </tr>\n",
       "  </tbody>\n",
       "</table>\n",
       "</div>"
      ],
      "text/plain": [
       "     Country/Region Province/State      fecha  confirmados\n",
       "139       Guatemala            NaN 2020-01-22            0\n",
       "424       Guatemala            NaN 2020-01-23            0\n",
       "709       Guatemala            NaN 2020-01-24            0\n",
       "994       Guatemala            NaN 2020-01-25            0\n",
       "1279      Guatemala            NaN 2020-01-26            0"
      ]
     },
     "execution_count": 4,
     "metadata": {},
     "output_type": "execute_result"
    }
   ],
   "source": [
    "# Convertimos la fecha (str) a tipo de dato date\n",
    "dtCovidGT['fecha'] = pd.to_datetime(dtCovidGT['fecha'],infer_datetime_format = True)\n",
    "dtCovidGT.head()"
   ]
  },
  {
   "cell_type": "markdown",
   "id": "cacba8f6",
   "metadata": {},
   "source": [
    "**Nota**: Luego de un análisis exploratorio de los datos se pudo observar que durante los años 2021 y 2022 los casos confirmados con Covid seguían una tendencia constante y a la baja, por lo cual no generaba mayor relevancia realizar predicciones sobre el conjunto de datos de ésos años en particular, por lo cual se tomaron los datos del año 2020 ya que la tendencia es creciente (debido al inicio del evento) por lo cual se puede realizar **un modelo exponencial** de forma más adecuada y para ejemplificar mejor el ejercicio."
   ]
  },
  {
   "cell_type": "code",
   "execution_count": 5,
   "id": "cea5234d",
   "metadata": {},
   "outputs": [
    {
     "data": {
      "text/html": [
       "<div>\n",
       "<style scoped>\n",
       "    .dataframe tbody tr th:only-of-type {\n",
       "        vertical-align: middle;\n",
       "    }\n",
       "\n",
       "    .dataframe tbody tr th {\n",
       "        vertical-align: top;\n",
       "    }\n",
       "\n",
       "    .dataframe thead th {\n",
       "        text-align: right;\n",
       "    }\n",
       "</style>\n",
       "<table border=\"1\" class=\"dataframe\">\n",
       "  <thead>\n",
       "    <tr style=\"text-align: right;\">\n",
       "      <th></th>\n",
       "      <th>Country/Region</th>\n",
       "      <th>Province/State</th>\n",
       "      <th>fecha</th>\n",
       "      <th>confirmados</th>\n",
       "    </tr>\n",
       "  </thead>\n",
       "  <tbody>\n",
       "    <tr>\n",
       "      <th>14959</th>\n",
       "      <td>Guatemala</td>\n",
       "      <td>NaN</td>\n",
       "      <td>2020-03-14</td>\n",
       "      <td>1</td>\n",
       "    </tr>\n",
       "    <tr>\n",
       "      <th>15244</th>\n",
       "      <td>Guatemala</td>\n",
       "      <td>NaN</td>\n",
       "      <td>2020-03-15</td>\n",
       "      <td>1</td>\n",
       "    </tr>\n",
       "    <tr>\n",
       "      <th>15529</th>\n",
       "      <td>Guatemala</td>\n",
       "      <td>NaN</td>\n",
       "      <td>2020-03-16</td>\n",
       "      <td>2</td>\n",
       "    </tr>\n",
       "    <tr>\n",
       "      <th>15814</th>\n",
       "      <td>Guatemala</td>\n",
       "      <td>NaN</td>\n",
       "      <td>2020-03-17</td>\n",
       "      <td>6</td>\n",
       "    </tr>\n",
       "    <tr>\n",
       "      <th>16099</th>\n",
       "      <td>Guatemala</td>\n",
       "      <td>NaN</td>\n",
       "      <td>2020-03-18</td>\n",
       "      <td>6</td>\n",
       "    </tr>\n",
       "  </tbody>\n",
       "</table>\n",
       "</div>"
      ],
      "text/plain": [
       "      Country/Region Province/State      fecha  confirmados\n",
       "14959      Guatemala            NaN 2020-03-14            1\n",
       "15244      Guatemala            NaN 2020-03-15            1\n",
       "15529      Guatemala            NaN 2020-03-16            2\n",
       "15814      Guatemala            NaN 2020-03-17            6\n",
       "16099      Guatemala            NaN 2020-03-18            6"
      ]
     },
     "execution_count": 5,
     "metadata": {},
     "output_type": "execute_result"
    }
   ],
   "source": [
    "# Seleccionando fechas entre enero y diciembre y casos confirmados\n",
    "dtCovidGT = dtCovidGT[(dtCovidGT['fecha'] > '2020-01-31') &\n",
    "                      (dtCovidGT['fecha'] <= '2020-12-31') &\n",
    "                      (dtCovidGT['confirmados'] > 0)]\n",
    "dtCovidGT.head()"
   ]
  },
  {
   "cell_type": "code",
   "execution_count": 6,
   "id": "1b0094d4",
   "metadata": {},
   "outputs": [
    {
     "data": {
      "text/html": [
       "<div>\n",
       "<style scoped>\n",
       "    .dataframe tbody tr th:only-of-type {\n",
       "        vertical-align: middle;\n",
       "    }\n",
       "\n",
       "    .dataframe tbody tr th {\n",
       "        vertical-align: top;\n",
       "    }\n",
       "\n",
       "    .dataframe thead th {\n",
       "        text-align: right;\n",
       "    }\n",
       "</style>\n",
       "<table border=\"1\" class=\"dataframe\">\n",
       "  <thead>\n",
       "    <tr style=\"text-align: right;\">\n",
       "      <th></th>\n",
       "      <th>Country/Region</th>\n",
       "      <th>Province/State</th>\n",
       "      <th>fecha</th>\n",
       "      <th>confirmados</th>\n",
       "      <th>no_dia</th>\n",
       "    </tr>\n",
       "  </thead>\n",
       "  <tbody>\n",
       "    <tr>\n",
       "      <th>14959</th>\n",
       "      <td>Guatemala</td>\n",
       "      <td>NaN</td>\n",
       "      <td>2020-03-14</td>\n",
       "      <td>1</td>\n",
       "      <td>0</td>\n",
       "    </tr>\n",
       "    <tr>\n",
       "      <th>15244</th>\n",
       "      <td>Guatemala</td>\n",
       "      <td>NaN</td>\n",
       "      <td>2020-03-15</td>\n",
       "      <td>1</td>\n",
       "      <td>1</td>\n",
       "    </tr>\n",
       "    <tr>\n",
       "      <th>15529</th>\n",
       "      <td>Guatemala</td>\n",
       "      <td>NaN</td>\n",
       "      <td>2020-03-16</td>\n",
       "      <td>2</td>\n",
       "      <td>2</td>\n",
       "    </tr>\n",
       "    <tr>\n",
       "      <th>15814</th>\n",
       "      <td>Guatemala</td>\n",
       "      <td>NaN</td>\n",
       "      <td>2020-03-17</td>\n",
       "      <td>6</td>\n",
       "      <td>3</td>\n",
       "    </tr>\n",
       "    <tr>\n",
       "      <th>16099</th>\n",
       "      <td>Guatemala</td>\n",
       "      <td>NaN</td>\n",
       "      <td>2020-03-18</td>\n",
       "      <td>6</td>\n",
       "      <td>4</td>\n",
       "    </tr>\n",
       "  </tbody>\n",
       "</table>\n",
       "</div>"
      ],
      "text/plain": [
       "      Country/Region Province/State      fecha  confirmados  no_dia\n",
       "14959      Guatemala            NaN 2020-03-14            1       0\n",
       "15244      Guatemala            NaN 2020-03-15            1       1\n",
       "15529      Guatemala            NaN 2020-03-16            2       2\n",
       "15814      Guatemala            NaN 2020-03-17            6       3\n",
       "16099      Guatemala            NaN 2020-03-18            6       4"
      ]
     },
     "execution_count": 6,
     "metadata": {},
     "output_type": "execute_result"
    }
   ],
   "source": [
    "# Conversión de cada fecha a un numero\n",
    "dtCovidGT['no_dia'] = np.linspace(start = 0,\n",
    "                                 stop = len(dtCovidGT['fecha']),\n",
    "                                 num = len(dtCovidGT['fecha']),\n",
    "                                 dtype = int)\n",
    "dtCovidGT.head()"
   ]
  },
  {
   "cell_type": "code",
   "execution_count": 7,
   "id": "c449bae5",
   "metadata": {},
   "outputs": [
    {
     "data": {
      "image/png": "[encoded data removed]",
      "text/plain": [
       "<Figure size 432x288 with 1 Axes>"
      ]
     },
     "metadata": {
      "needs_background": "light"
     },
     "output_type": "display_data"
    }
   ],
   "source": [
    "# Revisión de los resultados para ver la tendencia de confirmados\n",
    "dtCovidGT.plot.scatter(x = 'no_dia', y = 'confirmados')\n",
    "plt.title('Casos confirmados año 2020 GT')\n",
    "plt.show()"
   ]
  },
  {
   "cell_type": "markdown",
   "id": "d6a6d474",
   "metadata": {},
   "source": [
    "Para la creación de un modelo exponencial es necesario cambiar la escala de los valores de confirmados y convertirlos a logaritmo"
   ]
  },
  {
   "cell_type": "code",
   "execution_count": 8,
   "id": "81fbe0f1",
   "metadata": {},
   "outputs": [
    {
     "data": {
      "image/png": "[encoded data removed]",
      "text/plain": [
       "<Figure size 432x288 with 1 Axes>"
      ]
     },
     "metadata": {
      "needs_background": "light"
     },
     "output_type": "display_data"
    }
   ],
   "source": [
    "dtCovidGT[\"ln_confirmados\"] = np.log(dtCovidGT['confirmados'])\n",
    "dtCovidGT.plot.scatter(x = 'no_dia', y = 'ln_confirmados')\n",
    "plt.title('Casos confirmados año 2020 GT (exponencial)')\n",
    "plt.xlabel('Día')\n",
    "plt.show()"
   ]
  },
  {
   "cell_type": "markdown",
   "id": "a0439c24",
   "metadata": {},
   "source": [
    "## Modelo de regresión lineal\n",
    "\n",
    "Como parte de la reutilización de herramientas, a continuación hacemos uso de los aprendido en el laboratorio 1, para implementar un modelo de regresión lineal basado en gradient descent con tensorflow."
   ]
  },
  {
   "cell_type": "code",
   "execution_count": 9,
   "id": "2d4a61f5",
   "metadata": {},
   "outputs": [],
   "source": [
    "class MRL:\n",
    "\n",
    "    def __init__ (self):\n",
    "        self.parameters = tf.get_variable(\"parametros\", dtype = tf.float32, shape = [1,2], initializer = tf.zeros_initializer())\n",
    "    \n",
    "    def gradient_descent(self, x, y, lr):\n",
    "        mse = 1/2 * tf.reduce_mean(tf.math.square(y - tf.matmul(self.parameters,x)))\n",
    "        error_summary = tf.summary.scalar(\"mse_summary\", mse)\n",
    "        gradient = tf.gradients(mse, [self.parameters])\n",
    "        new_w = tf.assign(self.parameters, self.parameters - lr * gradient[0])\n",
    "        return new_w, mse, error_summary\n"
   ]
  },
  {
   "cell_type": "code",
   "execution_count": 10,
   "id": "e1bdd5b5",
   "metadata": {},
   "outputs": [],
   "source": [
    "def training_model(x, y, lr, epochs, printl):\n",
    "    # Experimento\n",
    "    string = './logs/' + datetime.datetime.now().strftime(\"%Y%m%d-%H%M%S\") + \"_epochs=\" + str(epochs) + \"_lr=\" + str(lr)\n",
    "\n",
    "    graph = tf.Graph()\n",
    "    with graph.as_default():\n",
    "        \n",
    "        # Creación de los tensores input\n",
    "        tx = tf.placeholder(tf.float32, [2,None], \"tx\")\n",
    "        ty = tf.placeholder(tf.float32, [None], \"ty\")\n",
    "        \n",
    "        # Creación del nodo para el cálculo de los nuevos parámetros según gradient_descent\n",
    "        mrl = MRL()\n",
    "        new_parameters = mrl.gradient_descent(tx, ty, lr)\n",
    "        \n",
    "        writer = tf.summary.FileWriter(string, graph)\n",
    "        \n",
    "        # Ejecución del grafo\n",
    "        with tf.train.MonitoredSession() as session:\n",
    "            # Paso de valores a los tensores input\n",
    "            tensor_dict = {tx:x, ty:y}\n",
    "            for i in range(epochs + 1):\n",
    "                # Entrenamiento del modelo para cálculo de los nuevos parámetros\n",
    "                entrenamiento = session.run(new_parameters, feed_dict = tensor_dict)\n",
    "                # Imprimiendo los epoch según el printl\n",
    "                if (i % printl == 0):\n",
    "                    parametros = session.run(mrl.parameters, feed_dict = tensor_dict)\n",
    "\n",
    "                    writer.add_summary(entrenamiento[2], i)\n",
    "                    print(\"Epoch: \", i, \"Parámetros: \", parametros, \"mse: \", entrenamiento[1])\n",
    "                    \n",
    "            writer.close()\n",
    "    return entrenamiento"
   ]
  },
  {
   "cell_type": "markdown",
   "id": "413652dd",
   "metadata": {},
   "source": [
    "### Experimentos"
   ]
  },
  {
   "cell_type": "code",
   "execution_count": 11,
   "id": "5ee81a98",
   "metadata": {},
   "outputs": [],
   "source": [
    "# Se define X y Y para entrenar modelo\n",
    "x = dtCovidGT['no_dia']\n",
    "# Es necesario agregar un 1 a x para poder iniciar los cálculos del gradiente descent\n",
    "x = np.array([x, np.ones_like(x)], dtype = \"float64\")\n",
    "y = dtCovidGT['ln_confirmados']"
   ]
  },
  {
   "cell_type": "code",
   "execution_count": 12,
   "id": "763f6664",
   "metadata": {},
   "outputs": [
    {
     "name": "stdout",
     "output_type": "stream",
     "text": [
      "WARNING:tensorflow:From C:\\Users\\hbarrientosg\\Anaconda3\\envs\\TareasSLII\\lib\\site-packages\\tensorflow\\python\\ops\\array_ops.py:1354: add_dispatch_support.<locals>.wrapper (from tensorflow.python.ops.array_ops) is deprecated and will be removed in a future version.\n",
      "Instructions for updating:\n",
      "Use tf.where in 2.0, which has the same broadcast rule as np.where\n",
      "INFO:tensorflow:Graph was finalized.\n",
      "INFO:tensorflow:Running local_init_op.\n",
      "INFO:tensorflow:Done running local_init_op.\n",
      "Epoch:  0 Parámetros:  [[15.944151    0.09505626]] mse:  49.03856\n",
      "Epoch:  100 Parámetros:  [[nan nan]] mse:  nan\n",
      "Epoch:  200 Parámetros:  [[nan nan]] mse:  nan\n",
      "Epoch:  300 Parámetros:  [[nan nan]] mse:  nan\n",
      "Epoch:  400 Parámetros:  [[nan nan]] mse:  nan\n",
      "Epoch:  500 Parámetros:  [[nan nan]] mse:  nan\n",
      "Epoch:  600 Parámetros:  [[nan nan]] mse:  nan\n",
      "Epoch:  700 Parámetros:  [[nan nan]] mse:  nan\n",
      "Epoch:  800 Parámetros:  [[nan nan]] mse:  nan\n",
      "Epoch:  900 Parámetros:  [[nan nan]] mse:  nan\n",
      "Epoch:  1000 Parámetros:  [[nan nan]] mse:  nan\n"
     ]
    },
    {
     "data": {
      "text/plain": [
       "(array([[nan, nan]], dtype=float32),\n",
       " nan,\n",
       " b'\\n\\x12\\n\\x0bmse_summary\\x15\\x00\\x00\\xc0\\xff')"
      ]
     },
     "execution_count": 12,
     "metadata": {},
     "output_type": "execute_result"
    }
   ],
   "source": [
    "# Iteración de experimento 01\n",
    "training_model(x, y, 0.01, 1000, 100)"
   ]
  },
  {
   "cell_type": "code",
   "execution_count": 13,
   "id": "878cfb57",
   "metadata": {},
   "outputs": [
    {
     "name": "stdout",
     "output_type": "stream",
     "text": [
      "INFO:tensorflow:Graph was finalized.\n",
      "INFO:tensorflow:Running local_init_op.\n",
      "INFO:tensorflow:Done running local_init_op.\n",
      "Epoch:  0 Parámetros:  [[15.944151    0.09505626]] mse:  49.03856\n",
      "Epoch:  10 Parámetros:  [[5.3714129e+25 2.7544664e+23]] mse:  inf\n",
      "Epoch:  20 Parámetros:  [[nan nan]] mse:  nan\n",
      "Epoch:  30 Parámetros:  [[nan nan]] mse:  nan\n",
      "Epoch:  40 Parámetros:  [[nan nan]] mse:  nan\n",
      "Epoch:  50 Parámetros:  [[nan nan]] mse:  nan\n",
      "Epoch:  60 Parámetros:  [[nan nan]] mse:  nan\n",
      "Epoch:  70 Parámetros:  [[nan nan]] mse:  nan\n",
      "Epoch:  80 Parámetros:  [[nan nan]] mse:  nan\n",
      "Epoch:  90 Parámetros:  [[nan nan]] mse:  nan\n",
      "Epoch:  100 Parámetros:  [[nan nan]] mse:  nan\n"
     ]
    },
    {
     "data": {
      "text/plain": [
       "(array([[nan, nan]], dtype=float32),\n",
       " nan,\n",
       " b'\\n\\x12\\n\\x0bmse_summary\\x15\\x00\\x00\\xc0\\xff')"
      ]
     },
     "execution_count": 13,
     "metadata": {},
     "output_type": "execute_result"
    }
   ],
   "source": [
    "# Iteración de experimento 02\n",
    "training_model(x, y, 0.01, 100, 10)"
   ]
  },
  {
   "cell_type": "code",
   "execution_count": 14,
   "id": "25baa7ac",
   "metadata": {},
   "outputs": [
    {
     "name": "stdout",
     "output_type": "stream",
     "text": [
      "INFO:tensorflow:Graph was finalized.\n",
      "INFO:tensorflow:Running local_init_op.\n",
      "INFO:tensorflow:Done running local_init_op.\n",
      "Epoch:  0 Parámetros:  [[1.5944152  0.00950563]] mse:  49.03856\n",
      "Epoch:  10 Parámetros:  [[3.7678765e+14 1.9321710e+12]] mse:  2.6779348e+30\n",
      "Epoch:  20 Parámetros:  [[9.2282115e+28 4.7322362e+26]] mse:  inf\n",
      "Epoch:  30 Parámetros:  [[nan nan]] mse:  nan\n",
      "Epoch:  40 Parámetros:  [[nan nan]] mse:  nan\n",
      "Epoch:  50 Parámetros:  [[nan nan]] mse:  nan\n",
      "Epoch:  60 Parámetros:  [[nan nan]] mse:  nan\n",
      "Epoch:  70 Parámetros:  [[nan nan]] mse:  nan\n",
      "Epoch:  80 Parámetros:  [[nan nan]] mse:  nan\n",
      "Epoch:  90 Parámetros:  [[nan nan]] mse:  nan\n",
      "Epoch:  100 Parámetros:  [[nan nan]] mse:  nan\n"
     ]
    },
    {
     "data": {
      "text/plain": [
       "(array([[nan, nan]], dtype=float32),\n",
       " nan,\n",
       " b'\\n\\x12\\n\\x0bmse_summary\\x15\\x00\\x00\\xc0\\xff')"
      ]
     },
     "execution_count": 14,
     "metadata": {},
     "output_type": "execute_result"
    }
   ],
   "source": [
    "# Iteración de experimento 03\n",
    "training_model(x, y, 0.001, 100, 10)"
   ]
  },
  {
   "cell_type": "code",
   "execution_count": 15,
   "id": "ba1e8cf8",
   "metadata": {},
   "outputs": [
    {
     "name": "stdout",
     "output_type": "stream",
     "text": [
      "INFO:tensorflow:Graph was finalized.\n",
      "INFO:tensorflow:Running local_init_op.\n",
      "INFO:tensorflow:Done running local_init_op.\n",
      "Epoch:  0 Parámetros:  [[0.15944152 0.00095056]] mse:  49.03856\n",
      "Epoch:  10 Parámetros:  [[47.921124    0.24720219]] mse:  9558434.0\n",
      "Epoch:  20 Parámetros:  [[22147.988     113.57792]] mse:  2046512500000.0\n",
      "Epoch:  30 Parámetros:  [[10248194.       52552.844]] mse:  4.3817002e+17\n",
      "Epoch:  40 Parámetros:  [[4.7419996e+09 2.4317018e+07]] mse:  9.381468e+22\n",
      "Epoch:  50 Parámetros:  [[2.1941959e+12 1.1251862e+10]] mse:  2.008625e+28\n",
      "Epoch:  60 Parámetros:  [[1.0152879e+15 5.2064069e+12]] mse:  4.3005734e+33\n",
      "Epoch:  70 Parámetros:  [[4.6978964e+17 2.4090869e+15]] mse:  inf\n",
      "Epoch:  80 Parámetros:  [[2.1737883e+20 1.1147209e+18]] mse:  inf\n",
      "Epoch:  90 Parámetros:  [[1.0058453e+23 5.1579874e+20]] mse:  inf\n",
      "Epoch:  100 Parámetros:  [[4.6542012e+25 2.3866794e+23]] mse:  inf\n"
     ]
    },
    {
     "data": {
      "text/plain": [
       "(array([[4.6542012e+25, 2.3866794e+23]], dtype=float32),\n",
       " inf,\n",
       " b'\\n\\x12\\n\\x0bmse_summary\\x15\\x00\\x00\\x80\\x7f')"
      ]
     },
     "execution_count": 15,
     "metadata": {},
     "output_type": "execute_result"
    }
   ],
   "source": [
    "# Iteración de experimento 04\n",
    "training_model(x, y, 0.0001, 100, 10)"
   ]
  },
  {
   "cell_type": "code",
   "execution_count": 16,
   "id": "4859c522",
   "metadata": {},
   "outputs": [
    {
     "name": "stdout",
     "output_type": "stream",
     "text": [
      "INFO:tensorflow:Graph was finalized.\n",
      "INFO:tensorflow:Running local_init_op.\n",
      "INFO:tensorflow:Done running local_init_op.\n",
      "Epoch:  0 Parámetros:  [[0.11160906 0.00066539]] mse:  49.03856\n",
      "Epoch:  50000 Parámetros:  [[0.04012698 3.0952637 ]] mse:  1.4840043\n",
      "Epoch:  100000 Parámetros:  [[0.03354119 4.3795676 ]] mse:  0.9827124\n",
      "Epoch:  150000 Parámetros:  [[0.03080897 4.9123707 ]] mse:  0.8964009\n",
      "Epoch:  200000 Parámetros:  [[0.02967542 5.1334233 ]] mse:  0.8815309\n",
      "Epoch:  250000 Parámetros:  [[0.02920408 5.2253385 ]] mse:  0.8789623\n",
      "Epoch:  300000 Parámetros:  [[0.0290188 5.261468 ]] mse:  0.8785341\n",
      "Epoch:  350000 Parámetros:  [[0.02893852 5.2771177 ]] mse:  0.87845033\n",
      "Epoch:  400000 Parámetros:  [[0.02893852 5.2771177 ]] mse:  0.87845033\n"
     ]
    }
   ],
   "source": [
    "# Iteración de experimento 05\n",
    "model_params = training_model(x, y, 0.00007, 400000, 50000)"
   ]
  },
  {
   "cell_type": "markdown",
   "id": "28fcb115",
   "metadata": {},
   "source": [
    "Despues de la experimentación realizada con los datos obtenidos y transformados, podemos concluir que los mejores datos para definir un modelo y sus parámetros, son los definidos por los valores de: **lr = 0.00007** y **epochs = 400000**. Los parámetros son los definidos a continuación:"
   ]
  },
  {
   "cell_type": "code",
   "execution_count": 17,
   "id": "b169af0e",
   "metadata": {},
   "outputs": [
    {
     "name": "stdout",
     "output_type": "stream",
     "text": [
      "w =  0.02893852\n",
      "b =  5.2771177\n",
      "h(x) =  0.02893852 x + 5.2771177\n"
     ]
    }
   ],
   "source": [
    "# Modelo\n",
    "print('w = ', model_params[0][0][0])\n",
    "print('b = ', model_params[0][0][1])\n",
    "print('h(x) = ', model_params[0][0][0], 'x +', model_params[0][0][1])"
   ]
  },
  {
   "cell_type": "code",
   "execution_count": 18,
   "id": "7f376de8",
   "metadata": {},
   "outputs": [],
   "source": [
    "# Cálculo de predicciones\n",
    "predicciones = model_params[0][0][0] * dtCovidGT['no_dia'] + model_params[0][0][1]"
   ]
  },
  {
   "cell_type": "code",
   "execution_count": 19,
   "id": "aa1b1015",
   "metadata": {},
   "outputs": [
    {
     "data": {
      "image/png": "[encoded data removed]",
      "text/plain": [
       "<Figure size 432x288 with 1 Axes>"
      ]
     },
     "metadata": {
      "needs_background": "light"
     },
     "output_type": "display_data"
    }
   ],
   "source": [
    "# Visualizando el conjunto original vs las predicciones (exponencial)\n",
    "dtCovidGT.plot.scatter(x = 'no_dia', y = 'ln_confirmados')\n",
    "plt.scatter(x = dtCovidGT['no_dia'], y = predicciones, color = 'red', alpha = 0.1)\n",
    "plt.title('Casos confirmados año 2022 GT (exponencial)')\n",
    "plt.xlabel('Día')\n",
    "plt.show()"
   ]
  },
  {
   "cell_type": "code",
   "execution_count": 20,
   "id": "21856914",
   "metadata": {},
   "outputs": [
    {
     "data": {
      "image/png": "[encoded data removed]",
      "text/plain": [
       "<Figure size 432x288 with 1 Axes>"
      ]
     },
     "metadata": {
      "needs_background": "light"
     },
     "output_type": "display_data"
    }
   ],
   "source": [
    "# Visualizando el conjunto original vs las predicciones (sin exponencial)\n",
    "dtCovidGT.plot.scatter(x = 'no_dia', y = 'confirmados')\n",
    "plt.scatter(x = dtCovidGT['no_dia'], y = np.exp(predicciones), color = 'red', alpha = 0.1)\n",
    "plt.title('Casos confirmados año 2022 GT')\n",
    "plt.xlabel('Día')\n",
    "plt.show()"
   ]
  },
  {
   "cell_type": "markdown",
   "id": "d75d3edd",
   "metadata": {},
   "source": [
    "**Nota:** para la predicción del día 30 de mayo, se establece que el número de día a partir del día **0 es el 442**"
   ]
  },
  {
   "cell_type": "code",
   "execution_count": 21,
   "id": "eacd50fb",
   "metadata": {},
   "outputs": [
    {
     "data": {
      "text/plain": [
       "2.6280724163587114e+190"
      ]
     },
     "execution_count": 21,
     "metadata": {},
     "output_type": "execute_result"
    }
   ],
   "source": [
    "# Calculando predicciones para 30 de mayo\n",
    "rango = np.linspace(0, 442, 442)\n",
    "predicciones_may = model_params[0][0][0] * np.exp(rango) + model_params[0][0][1]\n",
    "\n",
    "predicciones_may[-1]"
   ]
  },
  {
   "cell_type": "markdown",
   "id": "46f46039",
   "metadata": {},
   "source": [
    "### Conclusiones\n",
    "\n",
    "1. Basados en el análisis de los datos seleccionados del año 2020, es visible una clara tendencia no lineal, por lo cual predecir datos a través del establecimiento de un modelo de regresión lineal no es la mejor solución.\n",
    "\n",
    "2. El mejor modelo dimensional es el **h(x) =  0.02893852 x + 5.2771177** con lr =0.00007 y epoch = 400000\n",
    "\n",
    "3. Extendiendo el primer punto, observamos que al verificar la curva de predicciones comparada con los datos originales es claro que las predicciones siguen una distribución distinta a los datos originales, por lo tanto éste no es el mejor modelo para predecir la cantidad de persona confirmadas de covid en Guatemala.\n",
    "\n",
    "4. De los datos análizados observamos que los casos confirmados de Covid-19 entre el 2020 y 2021 siguen distribuciones diferentes, dado esto, podemos decir que predecir datos para el año actual con datos de años anteriores quizá no sea la mejor opción.\n",
    "\n",
    "5. Según el modelo la predicción de infectados para el 30 de mayo es 2.6280724163587114e+190, que a simple vista es un número sin sentido tomando en cuenta la cantidad de población de nuestro país."
   ]
  }
 ],
 "metadata": {
  "kernelspec": {
   "display_name": "Python 3 (ipykernel)",
   "language": "python",
   "name": "python3"
  },
  "language_info": {
   "codemirror_mode": {
    "name": "ipython",
    "version": 3
   },
   "file_extension": ".py",
   "mimetype": "text/x-python",
   "name": "python",
   "nbconvert_exporter": "python",
   "pygments_lexer": "ipython3",
   "version": "3.7.11"
  }
 },
 "nbformat": 4,
 "nbformat_minor": 5
}
