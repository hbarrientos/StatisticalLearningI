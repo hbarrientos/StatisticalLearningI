{
 "cells": [
  {
   "cell_type": "markdown",
   "id": "e7c1aae2",
   "metadata": {},
   "source": [
    "Universidad Galileo  \n",
    "Maestría en Data Science  \n",
    "Statistical Learning I\n",
    "Sección U  \n",
    "\n",
    "\n",
    "   # **Tarea 1: Gradient descent en Tensorflow vectorizado**\n",
    "\n",
    "\n",
    "<p style=\"text-align: right;\">\n",
    "Henry Giovanni<br/>\n",
    "Barrientos García<br/>\n",
    "21001538<br/>\n",
    "Guatemala, 27 de mayo de 2022<br/>\n",
    "</p>"
   ]
  },
  {
   "cell_type": "code",
   "execution_count": 1,
   "id": "6bc98838",
   "metadata": {},
   "outputs": [
    {
     "name": "stdout",
     "output_type": "stream",
     "text": [
      "WARNING:tensorflow:From C:\\Users\\hbarrientosg\\Anaconda3\\envs\\TareasSLII\\lib\\site-packages\\tensorflow\\python\\compat\\v2_compat.py:61: disable_resource_variables (from tensorflow.python.ops.variable_scope) is deprecated and will be removed in a future version.\n",
      "Instructions for updating:\n",
      "non-resource variables are not supported in the long term\n"
     ]
    },
    {
     "ename": "AttributeError",
     "evalue": "module 'tensorflow._api.v1.compat.v1.compat' has no attribute 'v1'",
     "output_type": "error",
     "traceback": [
      "\u001b[1;31m---------------------------------------------------------------------------\u001b[0m",
      "\u001b[1;31mAttributeError\u001b[0m                            Traceback (most recent call last)",
      "\u001b[1;32mC:\\Users\\HBARRI~1\\AppData\\Local\\Temp/ipykernel_37844/3243671329.py\u001b[0m in \u001b[0;36m<module>\u001b[1;34m\u001b[0m\n\u001b[0;32m      8\u001b[0m \u001b[0mget_ipython\u001b[0m\u001b[1;33m(\u001b[0m\u001b[1;33m)\u001b[0m\u001b[1;33m.\u001b[0m\u001b[0mrun_line_magic\u001b[0m\u001b[1;33m(\u001b[0m\u001b[1;34m'load_ext'\u001b[0m\u001b[1;33m,\u001b[0m \u001b[1;34m'tensorboard'\u001b[0m\u001b[1;33m)\u001b[0m\u001b[1;33m\u001b[0m\u001b[1;33m\u001b[0m\u001b[0m\n\u001b[0;32m      9\u001b[0m \u001b[0mtf\u001b[0m\u001b[1;33m.\u001b[0m\u001b[0mdisable_v2_behavior\u001b[0m\u001b[1;33m(\u001b[0m\u001b[1;33m)\u001b[0m\u001b[1;33m\u001b[0m\u001b[1;33m\u001b[0m\u001b[0m\n\u001b[1;32m---> 10\u001b[1;33m \u001b[0mtf\u001b[0m\u001b[1;33m.\u001b[0m\u001b[0mcompat\u001b[0m\u001b[1;33m.\u001b[0m\u001b[0mv1\u001b[0m\u001b[1;33m.\u001b[0m\u001b[0mdisable_eager_execution\u001b[0m\u001b[1;33m(\u001b[0m\u001b[1;33m)\u001b[0m\u001b[1;33m\u001b[0m\u001b[1;33m\u001b[0m\u001b[0m\n\u001b[0m",
      "\u001b[1;31mAttributeError\u001b[0m: module 'tensorflow._api.v1.compat.v1.compat' has no attribute 'v1'"
     ]
    }
   ],
   "source": [
    "import warnings\n",
    "warnings.filterwarnings('ignore')\n",
    "import datetime, os\n",
    "import matplotlib.pyplot as plt\n",
    "import numpy as np\n",
    "import pandas as pd\n",
    "import tensorflow.compat.v1 as tf\n",
    "%load_ext tensorboard\n",
    "tf.disable_v2_behavior()\n",
    "tf.compat.v1.disable_eager_execution()"
   ]
  },
  {
   "cell_type": "code",
   "execution_count": 2,
   "id": "a7f75dde",
   "metadata": {},
   "outputs": [
    {
     "data": {
      "text/html": [
       "<div>\n",
       "<style scoped>\n",
       "    .dataframe tbody tr th:only-of-type {\n",
       "        vertical-align: middle;\n",
       "    }\n",
       "\n",
       "    .dataframe tbody tr th {\n",
       "        vertical-align: top;\n",
       "    }\n",
       "\n",
       "    .dataframe thead th {\n",
       "        text-align: right;\n",
       "    }\n",
       "</style>\n",
       "<table border=\"1\" class=\"dataframe\">\n",
       "  <thead>\n",
       "    <tr style=\"text-align: right;\">\n",
       "      <th></th>\n",
       "      <th>SalePrice</th>\n",
       "      <th>OverallQual</th>\n",
       "      <th>1stFlrSF</th>\n",
       "      <th>TotRmsAbvGrd</th>\n",
       "      <th>YearBuilt</th>\n",
       "      <th>LotFrontage</th>\n",
       "    </tr>\n",
       "  </thead>\n",
       "  <tbody>\n",
       "    <tr>\n",
       "      <th>count</th>\n",
       "      <td>1460.000000</td>\n",
       "      <td>1460.000000</td>\n",
       "      <td>1460.000000</td>\n",
       "      <td>1460.000000</td>\n",
       "      <td>1460.000000</td>\n",
       "      <td>1201.000000</td>\n",
       "    </tr>\n",
       "    <tr>\n",
       "      <th>mean</th>\n",
       "      <td>180921.195890</td>\n",
       "      <td>6.099315</td>\n",
       "      <td>1162.626712</td>\n",
       "      <td>6.517808</td>\n",
       "      <td>1971.267808</td>\n",
       "      <td>70.049958</td>\n",
       "    </tr>\n",
       "    <tr>\n",
       "      <th>std</th>\n",
       "      <td>79442.502883</td>\n",
       "      <td>1.382997</td>\n",
       "      <td>386.587738</td>\n",
       "      <td>1.625393</td>\n",
       "      <td>30.202904</td>\n",
       "      <td>24.284752</td>\n",
       "    </tr>\n",
       "    <tr>\n",
       "      <th>min</th>\n",
       "      <td>34900.000000</td>\n",
       "      <td>1.000000</td>\n",
       "      <td>334.000000</td>\n",
       "      <td>2.000000</td>\n",
       "      <td>1872.000000</td>\n",
       "      <td>21.000000</td>\n",
       "    </tr>\n",
       "    <tr>\n",
       "      <th>25%</th>\n",
       "      <td>129975.000000</td>\n",
       "      <td>5.000000</td>\n",
       "      <td>882.000000</td>\n",
       "      <td>5.000000</td>\n",
       "      <td>1954.000000</td>\n",
       "      <td>59.000000</td>\n",
       "    </tr>\n",
       "    <tr>\n",
       "      <th>50%</th>\n",
       "      <td>163000.000000</td>\n",
       "      <td>6.000000</td>\n",
       "      <td>1087.000000</td>\n",
       "      <td>6.000000</td>\n",
       "      <td>1973.000000</td>\n",
       "      <td>69.000000</td>\n",
       "    </tr>\n",
       "    <tr>\n",
       "      <th>75%</th>\n",
       "      <td>214000.000000</td>\n",
       "      <td>7.000000</td>\n",
       "      <td>1391.250000</td>\n",
       "      <td>7.000000</td>\n",
       "      <td>2000.000000</td>\n",
       "      <td>80.000000</td>\n",
       "    </tr>\n",
       "    <tr>\n",
       "      <th>max</th>\n",
       "      <td>755000.000000</td>\n",
       "      <td>10.000000</td>\n",
       "      <td>4692.000000</td>\n",
       "      <td>14.000000</td>\n",
       "      <td>2010.000000</td>\n",
       "      <td>313.000000</td>\n",
       "    </tr>\n",
       "  </tbody>\n",
       "</table>\n",
       "</div>"
      ],
      "text/plain": [
       "           SalePrice  OverallQual     1stFlrSF  TotRmsAbvGrd    YearBuilt  \\\n",
       "count    1460.000000  1460.000000  1460.000000   1460.000000  1460.000000   \n",
       "mean   180921.195890     6.099315  1162.626712      6.517808  1971.267808   \n",
       "std     79442.502883     1.382997   386.587738      1.625393    30.202904   \n",
       "min     34900.000000     1.000000   334.000000      2.000000  1872.000000   \n",
       "25%    129975.000000     5.000000   882.000000      5.000000  1954.000000   \n",
       "50%    163000.000000     6.000000  1087.000000      6.000000  1973.000000   \n",
       "75%    214000.000000     7.000000  1391.250000      7.000000  2000.000000   \n",
       "max    755000.000000    10.000000  4692.000000     14.000000  2010.000000   \n",
       "\n",
       "       LotFrontage  \n",
       "count  1201.000000  \n",
       "mean     70.049958  \n",
       "std      24.284752  \n",
       "min      21.000000  \n",
       "25%      59.000000  \n",
       "50%      69.000000  \n",
       "75%      80.000000  \n",
       "max     313.000000  "
      ]
     },
     "execution_count": 2,
     "metadata": {},
     "output_type": "execute_result"
    }
   ],
   "source": [
    "# Carga de datos\n",
    "data = np.load('data/proyecto_training_data.npy')\n",
    "data = pd.DataFrame(data)\n",
    "data.columns = [\"SalePrice\", \"OverallQual\", \"1stFlrSF\", \"TotRmsAbvGrd\", \"YearBuilt\", \"LotFrontage\"]\n",
    "data.describe()"
   ]
  },
  {
   "cell_type": "code",
   "execution_count": 3,
   "id": "4dcb5d35",
   "metadata": {},
   "outputs": [],
   "source": [
    "# Division de datos para entrenamiento y pruebas\n",
    "data = data.sample(frac = 1)\n",
    "index = int(0.8 * len(data))\n",
    "df_train = data[:index]\n",
    "df_test = data[:-index]"
   ]
  },
  {
   "cell_type": "markdown",
   "id": "b2e1f67f",
   "metadata": {},
   "source": [
    "# Modelo de regresión lineal con Tensorflow"
   ]
  },
  {
   "cell_type": "markdown",
   "id": "2860d734",
   "metadata": {
    "tags": []
   },
   "source": [
    "A continuación crearemos una clase que será útil para la realización del modelo determinado, esta clase realiza las ejecuciones basadas en operaciones con Tensorflow.\n"
   ]
  },
  {
   "cell_type": "code",
   "execution_count": 4,
   "id": "d521478f",
   "metadata": {},
   "outputs": [],
   "source": [
    "class MRL:\n",
    "\n",
    "    def __init__ (self):\n",
    "        self.parameters = tf.get_variable(\"parametros\", dtype = tf.float32, shape = [1,2], initializer = tf.zeros_initializer())\n",
    "    \n",
    "    # Ejecución de Gradient descent.\n",
    "    # Devuelve el conjunto de valores útiles para una iteración de experimento\n",
    "    def gradient_descent(self, x, y, lr):\n",
    "        mse = 1/2 * tf.reduce_mean(tf.math.square(y - tf.matmul(self.parameters,x)))\n",
    "        error_summary = tf.summary.scalar(\"mse_summary\", mse)\n",
    "        gradient = tf.gradients(mse, [self.parameters])\n",
    "        new_w = tf.assign(self.parameters, self.parameters -lr * gradient[0])\n",
    "        return new_w, mse, error_summary"
   ]
  },
  {
   "cell_type": "markdown",
   "id": "30c4a062",
   "metadata": {},
   "source": [
    "A continuación implementaremos el entrenamiento del modelo y sus calculos.\n",
    "\n",
    "**OverallQual** es la variable que utilicé en mi proyecto anterior, ésa fue con la que encontré una mayor conrrelación con la variable a predecir: **SalePrice**."
   ]
  },
  {
   "cell_type": "code",
   "execution_count": 5,
   "id": "6a019bdf",
   "metadata": {},
   "outputs": [],
   "source": [
    "#Modelo de entrenamiento con sus hiperparametros\n",
    "def training_model(x, y, lr, epochs, printl):\n",
    "    # Experimento\n",
    "    exp_string = './logs/' + datetime.datetime.now().strftime(\"%Y%m%d-%H%M%S\") + \"_epochs=\" + str(epochs) + \"_lr=\" + str(lr)\n",
    "\n",
    "    graph = tf.Graph()\n",
    "    with graph.as_default():\n",
    "        # tensores input\n",
    "        tx = tf.placeholder(tf.float32, [2, len(df_train[\"OverallQual\"])], \"tx\")\n",
    "        ty = tf.placeholder(tf.float32, [len(df_train[\"SalePrice\"])], \"ty\")\n",
    "        \n",
    "        # Nodo para cálculo de nuevos parámetros para GD\n",
    "        mrl = MRL()\n",
    "        current_parameters = mrl.gradient_descent(tx, ty, lr)\n",
    "        \n",
    "        # Writer para utilizacion de tensorboard\n",
    "        file_writer = tf.summary.FileWriter(exp_string, graph)\n",
    "        \n",
    "        with tf.train.MonitoredSession() as session:\n",
    "            # Paso de valores a los tensores input\n",
    "            tensor_dict = {tx:x, ty:y}\n",
    "            \n",
    "            # Ejecución de epochs + 1 veces del algoritmo\n",
    "            for i in range(epochs + 1):\n",
    "                # Entrenamiento del modelo para cálculo de los nuevos parámetros\n",
    "                model_training = session.run(current_parameters, feed_dict = tensor_dict)\n",
    "                # Impresión de epochs\n",
    "                if (i % printl == 0):\n",
    "                    parameters = session.run(mrl.parameters, feed_dict = tensor_dict)\n",
    "                    # Agregar datos a writer para poder visualizarlos en tensorboard\n",
    "                    file_writer.add_summary(model_training[2], i)\n",
    "                    print(\"Epoch: \", i, \"Parámetros: \", parameters, \"mse: \", model_training[1])\n",
    "                    \n",
    "            file_writer.close()"
   ]
  },
  {
   "cell_type": "markdown",
   "id": "e2667243",
   "metadata": {},
   "source": [
    "## Cálculo de experimentos\n",
    "\n",
    "### Hipótesis\n",
    "\n",
    "Según el algoritmo de Gradient Descent para alcanzar el error mínino (MSE) se depende del Learning rate, lo cual define la cantidad de epochs que son necesarios para alcanzar la convergencia.\n",
    "\n",
    "Se estima que el lr debe estar comprendido entre alguno de los valores siguientes: 0.01, 0.02, 0.03, 0.04, 0.05, 0.06"
   ]
  },
  {
   "cell_type": "code",
   "execution_count": 6,
   "id": "12aa51b1",
   "metadata": {},
   "outputs": [],
   "source": [
    "x = df_train[\"OverallQual\"]\n",
    "x = np.array([x, np.ones_like(x)], dtype = \"float64\")\n",
    "y = df_train[\"SalePrice\"]"
   ]
  },
  {
   "cell_type": "markdown",
   "id": "720357c7",
   "metadata": {},
   "source": [
    "## Ejecución de experimentos\n",
    "A continuación realizaremos las llamadas de ejecución al modelo de entrenamiento definido anteriormente para los calculos que serán utiles para trabajar con Tensorboard."
   ]
  },
  {
   "cell_type": "code",
   "execution_count": 7,
   "id": "416dbe2f",
   "metadata": {},
   "outputs": [
    {
     "name": "stdout",
     "output_type": "stream",
     "text": [
      "\n",
      "*** EXPERIMENT 0: lr=0.01, epochs=24000, println=1500***\n",
      "--------------------------------------------------------\n",
      "WARNING:tensorflow:From C:\\Users\\hbarrientosg\\Anaconda3\\envs\\TareasSLII\\lib\\site-packages\\tensorflow\\python\\ops\\array_ops.py:1354: add_dispatch_support.<locals>.wrapper (from tensorflow.python.ops.array_ops) is deprecated and will be removed in a future version.\n",
      "Instructions for updating:\n",
      "Use tf.where in 2.0, which has the same broadcast rule as np.where\n",
      "INFO:tensorflow:Graph was finalized.\n",
      "INFO:tensorflow:Running local_init_op.\n",
      "INFO:tensorflow:Done running local_init_op.\n",
      "Epoch:  0 Parámetros:  [[11865.893   1805.6418]] mse:  19392436000.0\n",
      "Epoch:  1500 Parámetros:  [[ 37543.207 -46382.832]] mse:  1244141300.0\n",
      "Epoch:  3000 Parámetros:  [[ 41548.156 -72018.39 ]] mse:  1197476200.0\n",
      "Epoch:  4500 Parámetros:  [[ 43562.973 -84915.195]] mse:  1185665900.0\n",
      "Epoch:  6000 Parámetros:  [[ 44576.613 -91403.48 ]] mse:  1182676600.0\n",
      "Epoch:  7500 Parámetros:  [[ 45086.562 -94667.625]] mse:  1181920000.0\n",
      "Epoch:  9000 Parámetros:  [[ 45343.11 -96309.77]] mse:  1181728500.0\n",
      "Epoch:  10500 Parámetros:  [[ 45472.17 -97135.91]] mse:  1181679900.0\n",
      "Epoch:  12000 Parámetros:  [[ 45537.105 -97551.53 ]] mse:  1181667700.0\n",
      "Epoch:  13500 Parámetros:  [[ 45569.78  -97760.695]] mse:  1181664800.0\n",
      "Epoch:  15000 Parámetros:  [[ 45586.2   -97865.766]] mse:  1181664000.0\n",
      "Epoch:  16500 Parámetros:  [[ 45594.42 -97918.42]] mse:  1181663500.0\n",
      "Epoch:  18000 Parámetros:  [[ 45598.69 -97945.75]] mse:  1181663600.0\n",
      "Epoch:  19500 Parámetros:  [[ 45600.613 -97958.055]] mse:  1181663500.0\n",
      "Epoch:  21000 Parámetros:  [[ 45601.473 -97963.58 ]] mse:  1181663500.0\n",
      "Epoch:  22500 Parámetros:  [[ 45601.473 -97963.58 ]] mse:  1181663500.0\n",
      "Epoch:  24000 Parámetros:  [[ 45601.473 -97963.58 ]] mse:  1181663500.0\n",
      "\n",
      "*** EXPERIMENT 1: lr=0.02, epochs=22000, println=1500***\n",
      "--------------------------------------------------------\n",
      "INFO:tensorflow:Graph was finalized.\n",
      "INFO:tensorflow:Running local_init_op.\n",
      "INFO:tensorflow:Done running local_init_op.\n",
      "Epoch:  0 Parámetros:  [[23731.785   3611.2837]] mse:  19392436000.0\n",
      "Epoch:  1500 Parámetros:  [[ 41551.28  -72038.414]] mse:  1197466500.0\n",
      "Epoch:  3000 Parámetros:  [[ 44577.75  -91410.734]] mse:  1182675000.0\n",
      "Epoch:  4500 Parámetros:  [[ 45343.492 -96312.25 ]] mse:  1181728500.0\n",
      "Epoch:  6000 Parámetros:  [[ 45537.242 -97552.41 ]] mse:  1181667600.0\n",
      "Epoch:  7500 Parámetros:  [[ 45586.27  -97866.234]] mse:  1181664000.0\n",
      "Epoch:  9000 Parámetros:  [[ 45598.64  -97945.414]] mse:  1181663700.0\n",
      "Epoch:  10500 Parámetros:  [[ 45601.746 -97965.305]] mse:  1181663500.0\n",
      "Epoch:  12000 Parámetros:  [[ 45602.176 -97968.07 ]] mse:  1181663500.0\n",
      "Epoch:  13500 Parámetros:  [[ 45602.176 -97968.07 ]] mse:  1181663500.0\n",
      "Epoch:  15000 Parámetros:  [[ 45602.176 -97968.07 ]] mse:  1181663500.0\n",
      "Epoch:  16500 Parámetros:  [[ 45602.176 -97968.07 ]] mse:  1181663500.0\n",
      "Epoch:  18000 Parámetros:  [[ 45602.176 -97968.07 ]] mse:  1181663500.0\n",
      "Epoch:  19500 Parámetros:  [[ 45602.176 -97968.07 ]] mse:  1181663500.0\n",
      "Epoch:  21000 Parámetros:  [[ 45602.176 -97968.07 ]] mse:  1181663500.0\n",
      "\n",
      "*** EXPERIMENT 2: lr=0.03, epochs=10000, println=1000***\n",
      "--------------------------------------------------------\n",
      "INFO:tensorflow:Graph was finalized.\n",
      "INFO:tensorflow:Running local_init_op.\n",
      "INFO:tensorflow:Done running local_init_op.\n",
      "Epoch:  0 Parámetros:  [[35597.676   5416.9253]] mse:  19392436000.0\n",
      "Epoch:  1000 Parámetros:  [[ 41554.414 -72058.45 ]] mse:  1197456600.0\n",
      "Epoch:  2000 Parámetros:  [[ 44578.86 -91417.85]] mse:  1182673900.0\n",
      "Epoch:  3000 Parámetros:  [[ 45343.855 -96314.56 ]] mse:  1181728100.0\n",
      "Epoch:  4000 Parámetros:  [[ 45537.355 -97553.15 ]] mse:  1181667700.0\n",
      "Epoch:  5000 Parámetros:  [[ 45586.293 -97866.39 ]] mse:  1181663900.0\n",
      "Epoch:  6000 Parámetros:  [[ 45598.668 -97945.61 ]] mse:  1181663600.0\n",
      "Epoch:  7000 Parámetros:  [[ 45601.766 -97965.445]] mse:  1181663700.0\n",
      "Epoch:  8000 Parámetros:  [[ 45602.41 -97969.57]] mse:  1181663700.0\n",
      "Epoch:  9000 Parámetros:  [[ 45602.41 -97969.57]] mse:  1181663700.0\n",
      "Epoch:  10000 Parámetros:  [[ 45602.41 -97969.57]] mse:  1181663700.0\n",
      "\n",
      "*** EXPERIMENT 3: lr=0.04, epochs=10000, println=1000***\n",
      "--------------------------------------------------------\n",
      "INFO:tensorflow:Graph was finalized.\n",
      "INFO:tensorflow:Running local_init_op.\n",
      "INFO:tensorflow:Done running local_init_op.\n",
      "Epoch:  0 Parámetros:  [[47463.57    7222.5674]] mse:  19392436000.0\n",
      "Epoch:  1000 Parámetros:  [[ 43044.8  -81598.37]] mse:  1187974800.0\n",
      "Epoch:  2000 Parámetros:  [[ 45193.85 -95354.4 ]] mse:  1181824800.0\n",
      "Epoch:  3000 Parámetros:  [[ 45537.473 -97553.9  ]] mse:  1181667700.0\n",
      "Epoch:  4000 Parámetros:  [[ 45592.41 -97905.55]] mse:  1181663700.0\n",
      "Epoch:  5000 Parámetros:  [[ 45601.203 -97961.85 ]] mse:  1181663600.0\n",
      "Epoch:  6000 Parámetros:  [[ 45602.523 -97970.29 ]] mse:  1181663500.0\n",
      "Epoch:  7000 Parámetros:  [[ 45602.523 -97970.29 ]] mse:  1181663500.0\n",
      "Epoch:  8000 Parámetros:  [[ 45602.523 -97970.29 ]] mse:  1181663500.0\n",
      "Epoch:  9000 Parámetros:  [[ 45602.523 -97970.29 ]] mse:  1181663500.0\n",
      "Epoch:  10000 Parámetros:  [[ 45602.523 -97970.29 ]] mse:  1181663500.0\n",
      "\n",
      "*** EXPERIMENT 4: lr=0.05, epochs=10000, println=1000***\n",
      "--------------------------------------------------------\n",
      "INFO:tensorflow:Graph was finalized.\n",
      "INFO:tensorflow:Running local_init_op.\n",
      "INFO:tensorflow:Done running local_init_op.\n",
      "Epoch:  0 Parámetros:  [[59329.465  9028.21 ]] mse:  19392436000.0\n",
      "Epoch:  1000 Parámetros:  [[3673719.8   479429.75]] mse:  267993610000000.0\n",
      "Epoch:  2000 Parámetros:  [[4.433819e+08 6.916406e+07]] mse:  3.9979777e+18\n",
      "Epoch:  3000 Parámetros:  [[5.4148735e+10 8.4594381e+09]] mse:  5.9641544e+22\n",
      "Epoch:  4000 Parámetros:  [[6.6136713e+12 1.0332104e+12]] mse:  8.897345e+26\n",
      "Epoch:  5000 Parámetros:  [[8.0780047e+14 1.2620003e+14]] mse:  1.3273418e+31\n",
      "Epoch:  6000 Parámetros:  [[9.8666205e+16 1.5414431e+16]] mse:  inf\n",
      "Epoch:  7000 Parámetros:  [[1.2051226e+19 1.8827373e+18]] mse:  inf\n",
      "Epoch:  8000 Parámetros:  [[1.4719987e+21 2.2996275e+20]] mse:  inf\n",
      "Epoch:  9000 Parámetros:  [[1.7978894e+23 2.8087571e+22]] mse:  inf\n",
      "Epoch:  10000 Parámetros:  [[2.1959255e+25 3.4306099e+24]] mse:  inf\n",
      "\n",
      "*** EXPERIMENT 5: lr=0.06, epochs=10000, println=1000***\n",
      "--------------------------------------------------------\n",
      "INFO:tensorflow:Graph was finalized.\n",
      "INFO:tensorflow:Running local_init_op.\n",
      "INFO:tensorflow:Done running local_init_op.\n",
      "Epoch:  0 Parámetros:  [[71195.35  10833.851]] mse:  19392436000.0\n",
      "Epoch:  1000 Parámetros:  [[nan nan]] mse:  nan\n",
      "Epoch:  2000 Parámetros:  [[nan nan]] mse:  nan\n",
      "Epoch:  3000 Parámetros:  [[nan nan]] mse:  nan\n",
      "Epoch:  4000 Parámetros:  [[nan nan]] mse:  nan\n",
      "Epoch:  5000 Parámetros:  [[nan nan]] mse:  nan\n",
      "Epoch:  6000 Parámetros:  [[nan nan]] mse:  nan\n",
      "Epoch:  7000 Parámetros:  [[nan nan]] mse:  nan\n",
      "Epoch:  8000 Parámetros:  [[nan nan]] mse:  nan\n",
      "Epoch:  9000 Parámetros:  [[nan nan]] mse:  nan\n",
      "Epoch:  10000 Parámetros:  [[nan nan]] mse:  nan\n"
     ]
    }
   ],
   "source": [
    "iterations = 6\n",
    "lrs = [0.01, 0.02, 0.03, 0.04, 0.05, 0.06]\n",
    "epochss = [24000, 22000, 10000, 10000, 10000, 10000]\n",
    "printls = [1500, 1500, 1000, 1000, 1000, 1000]\n",
    "for k in range(iterations):\n",
    "    print(\"\\n*** EXPERIMENT {}: lr={}, epochs={}, println={}***\".format(k, lrs[k], epochss[k], printls[k]))\n",
    "    print(\"--------------------------------------------------------\")\n",
    "    training_model(x, y, lrs[k], epochss[k], printls[k])"
   ]
  },
  {
   "cell_type": "code",
   "execution_count": 8,
   "id": "cb39aeb9",
   "metadata": {},
   "outputs": [
    {
     "data": {
      "text/plain": [
       "Reusing TensorBoard on port 6006 (pid 98544), started 4 days, 23:00:49 ago. (Use '!kill 98544' to kill it.)"
      ]
     },
     "metadata": {},
     "output_type": "display_data"
    },
    {
     "data": {
      "text/html": [
       "\n",
       "        <iframe\n",
       "            width=\"100%\"\n",
       "            height=\"800\"\n",
       "            src=\"http://localhost:6006\"\n",
       "            frameborder=\"0\"\n",
       "            allowfullscreen\n",
       "        ></iframe>\n",
       "        "
      ],
      "text/plain": [
       "<IPython.lib.display.IFrame at 0x1f682a89488>"
      ]
     },
     "metadata": {},
     "output_type": "display_data"
    }
   ],
   "source": [
    "%tensorboard --logdir ./logs"
   ]
  },
  {
   "cell_type": "markdown",
   "id": "5640ed91",
   "metadata": {},
   "source": [
    "## Conclusiones\n",
    "\n",
    "1. Se puede observar que el error mínimo se alcanza cuanto más grande es el _Learning rate_, esto basandonos en las observaciones del comportamiento del MSE respecto del _Learning rate_.\n",
    "\n",
    "2. Luego de la ejecución de los experimentos, se observa que el Learning rate tiene una relación directamente proporcional con los pasos de _Gradient descent_, lo que implica tener que utilizar menos _epochs_.\n",
    "\n",
    "3. Al avanzar con los experimentos y hacer más grande el valor del _Learning rate_, podemos observar cómo el algortimo _Gradient descent_ llega a un resultado indefinido, esto seguramente porque no logra alcanzar la convergencia.\n",
    "\n",
    "4. Como conclusión para nuestra experimentación vemos cómo para alcanzar la convergencia de forma rápida y con menos epochs, es requerido definir los hiperparámetros como: **lr = 0.04**, con lo cual obtenemos el error minímo aproximadamente en el **epoch = 4000**."
   ]
  }
 ],
 "metadata": {
  "kernelspec": {
   "display_name": "Python 3 (ipykernel)",
   "language": "python",
   "name": "python3"
  },
  "language_info": {
   "codemirror_mode": {
    "name": "ipython",
    "version": 3
   },
   "file_extension": ".py",
   "mimetype": "text/x-python",
   "name": "python",
   "nbconvert_exporter": "python",
   "pygments_lexer": "ipython3",
   "version": "3.7.11"
  }
 },
 "nbformat": 4,
 "nbformat_minor": 5
}
