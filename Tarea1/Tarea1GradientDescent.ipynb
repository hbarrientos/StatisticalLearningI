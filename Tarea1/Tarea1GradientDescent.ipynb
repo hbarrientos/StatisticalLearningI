{
 "cells": [
  {
   "cell_type": "markdown",
   "id": "3e9230b8",
   "metadata": {},
   "source": [
    "Universidad Galileo  \n",
    "Maestría en Data Science  \n",
    "Statistical Learning I\n",
    "Sección U  \n",
    "\n",
    "\n",
    "   # **Tarea 1: Gradient descent en Tensorflow vectorizado**\n",
    "\n",
    "\n",
    "<p style=\"text-align: right;\">\n",
    "Henry Giovanni<br/>\n",
    "Barrientos García<br/>\n",
    "21001538<br/>\n",
    "Guatemala, 27 de mayo de 2022<br/>\n",
    "</p>"
   ]
  },
  {
   "cell_type": "code",
   "execution_count": 1,
   "id": "000483ca",
   "metadata": {},
   "outputs": [
    {
     "name": "stdout",
     "output_type": "stream",
     "text": [
      "WARNING:tensorflow:From C:\\Users\\hbarrientosg\\Anaconda3\\envs\\TareasSLII\\lib\\site-packages\\tensorflow\\python\\compat\\v2_compat.py:61: disable_resource_variables (from tensorflow.python.ops.variable_scope) is deprecated and will be removed in a future version.\n",
      "Instructions for updating:\n",
      "non-resource variables are not supported in the long term\n"
     ]
    },
    {
     "ename": "AttributeError",
     "evalue": "module 'tensorflow._api.v1.compat.v1.compat' has no attribute 'v1'",
     "output_type": "error",
     "traceback": [
      "\u001b[1;31m---------------------------------------------------------------------------\u001b[0m",
      "\u001b[1;31mAttributeError\u001b[0m                            Traceback (most recent call last)",
      "\u001b[1;32mC:\\Users\\HBARRI~1\\AppData\\Local\\Temp/ipykernel_18832/3243671329.py\u001b[0m in \u001b[0;36m<module>\u001b[1;34m\u001b[0m\n\u001b[0;32m      8\u001b[0m \u001b[0mget_ipython\u001b[0m\u001b[1;33m(\u001b[0m\u001b[1;33m)\u001b[0m\u001b[1;33m.\u001b[0m\u001b[0mrun_line_magic\u001b[0m\u001b[1;33m(\u001b[0m\u001b[1;34m'load_ext'\u001b[0m\u001b[1;33m,\u001b[0m \u001b[1;34m'tensorboard'\u001b[0m\u001b[1;33m)\u001b[0m\u001b[1;33m\u001b[0m\u001b[1;33m\u001b[0m\u001b[0m\n\u001b[0;32m      9\u001b[0m \u001b[0mtf\u001b[0m\u001b[1;33m.\u001b[0m\u001b[0mdisable_v2_behavior\u001b[0m\u001b[1;33m(\u001b[0m\u001b[1;33m)\u001b[0m\u001b[1;33m\u001b[0m\u001b[1;33m\u001b[0m\u001b[0m\n\u001b[1;32m---> 10\u001b[1;33m \u001b[0mtf\u001b[0m\u001b[1;33m.\u001b[0m\u001b[0mcompat\u001b[0m\u001b[1;33m.\u001b[0m\u001b[0mv1\u001b[0m\u001b[1;33m.\u001b[0m\u001b[0mdisable_eager_execution\u001b[0m\u001b[1;33m(\u001b[0m\u001b[1;33m)\u001b[0m\u001b[1;33m\u001b[0m\u001b[1;33m\u001b[0m\u001b[0m\n\u001b[0m",
      "\u001b[1;31mAttributeError\u001b[0m: module 'tensorflow._api.v1.compat.v1.compat' has no attribute 'v1'"
     ]
    }
   ],
   "source": [
    "import warnings\n",
    "warnings.filterwarnings('ignore')\n",
    "import datetime, os\n",
    "import matplotlib.pyplot as plt\n",
    "import numpy as np\n",
    "import pandas as pd\n",
    "import tensorflow.compat.v1 as tf\n",
    "%load_ext tensorboard\n",
    "tf.disable_v2_behavior()\n",
    "tf.compat.v1.disable_eager_execution()"
   ]
  },
  {
   "cell_type": "code",
   "execution_count": 2,
   "id": "e37cbc0c",
   "metadata": {},
   "outputs": [
    {
     "data": {
      "text/html": [
       "<div>\n",
       "<style scoped>\n",
       "    .dataframe tbody tr th:only-of-type {\n",
       "        vertical-align: middle;\n",
       "    }\n",
       "\n",
       "    .dataframe tbody tr th {\n",
       "        vertical-align: top;\n",
       "    }\n",
       "\n",
       "    .dataframe thead th {\n",
       "        text-align: right;\n",
       "    }\n",
       "</style>\n",
       "<table border=\"1\" class=\"dataframe\">\n",
       "  <thead>\n",
       "    <tr style=\"text-align: right;\">\n",
       "      <th></th>\n",
       "      <th>SalePrice</th>\n",
       "      <th>OverallQual</th>\n",
       "      <th>1stFlrSF</th>\n",
       "      <th>TotRmsAbvGrd</th>\n",
       "      <th>YearBuilt</th>\n",
       "      <th>LotFrontage</th>\n",
       "    </tr>\n",
       "  </thead>\n",
       "  <tbody>\n",
       "    <tr>\n",
       "      <th>count</th>\n",
       "      <td>1460.000000</td>\n",
       "      <td>1460.000000</td>\n",
       "      <td>1460.000000</td>\n",
       "      <td>1460.000000</td>\n",
       "      <td>1460.000000</td>\n",
       "      <td>1201.000000</td>\n",
       "    </tr>\n",
       "    <tr>\n",
       "      <th>mean</th>\n",
       "      <td>180921.195890</td>\n",
       "      <td>6.099315</td>\n",
       "      <td>1162.626712</td>\n",
       "      <td>6.517808</td>\n",
       "      <td>1971.267808</td>\n",
       "      <td>70.049958</td>\n",
       "    </tr>\n",
       "    <tr>\n",
       "      <th>std</th>\n",
       "      <td>79442.502883</td>\n",
       "      <td>1.382997</td>\n",
       "      <td>386.587738</td>\n",
       "      <td>1.625393</td>\n",
       "      <td>30.202904</td>\n",
       "      <td>24.284752</td>\n",
       "    </tr>\n",
       "    <tr>\n",
       "      <th>min</th>\n",
       "      <td>34900.000000</td>\n",
       "      <td>1.000000</td>\n",
       "      <td>334.000000</td>\n",
       "      <td>2.000000</td>\n",
       "      <td>1872.000000</td>\n",
       "      <td>21.000000</td>\n",
       "    </tr>\n",
       "    <tr>\n",
       "      <th>25%</th>\n",
       "      <td>129975.000000</td>\n",
       "      <td>5.000000</td>\n",
       "      <td>882.000000</td>\n",
       "      <td>5.000000</td>\n",
       "      <td>1954.000000</td>\n",
       "      <td>59.000000</td>\n",
       "    </tr>\n",
       "    <tr>\n",
       "      <th>50%</th>\n",
       "      <td>163000.000000</td>\n",
       "      <td>6.000000</td>\n",
       "      <td>1087.000000</td>\n",
       "      <td>6.000000</td>\n",
       "      <td>1973.000000</td>\n",
       "      <td>69.000000</td>\n",
       "    </tr>\n",
       "    <tr>\n",
       "      <th>75%</th>\n",
       "      <td>214000.000000</td>\n",
       "      <td>7.000000</td>\n",
       "      <td>1391.250000</td>\n",
       "      <td>7.000000</td>\n",
       "      <td>2000.000000</td>\n",
       "      <td>80.000000</td>\n",
       "    </tr>\n",
       "    <tr>\n",
       "      <th>max</th>\n",
       "      <td>755000.000000</td>\n",
       "      <td>10.000000</td>\n",
       "      <td>4692.000000</td>\n",
       "      <td>14.000000</td>\n",
       "      <td>2010.000000</td>\n",
       "      <td>313.000000</td>\n",
       "    </tr>\n",
       "  </tbody>\n",
       "</table>\n",
       "</div>"
      ],
      "text/plain": [
       "           SalePrice  OverallQual     1stFlrSF  TotRmsAbvGrd    YearBuilt  \\\n",
       "count    1460.000000  1460.000000  1460.000000   1460.000000  1460.000000   \n",
       "mean   180921.195890     6.099315  1162.626712      6.517808  1971.267808   \n",
       "std     79442.502883     1.382997   386.587738      1.625393    30.202904   \n",
       "min     34900.000000     1.000000   334.000000      2.000000  1872.000000   \n",
       "25%    129975.000000     5.000000   882.000000      5.000000  1954.000000   \n",
       "50%    163000.000000     6.000000  1087.000000      6.000000  1973.000000   \n",
       "75%    214000.000000     7.000000  1391.250000      7.000000  2000.000000   \n",
       "max    755000.000000    10.000000  4692.000000     14.000000  2010.000000   \n",
       "\n",
       "       LotFrontage  \n",
       "count  1201.000000  \n",
       "mean     70.049958  \n",
       "std      24.284752  \n",
       "min      21.000000  \n",
       "25%      59.000000  \n",
       "50%      69.000000  \n",
       "75%      80.000000  \n",
       "max     313.000000  "
      ]
     },
     "execution_count": 2,
     "metadata": {},
     "output_type": "execute_result"
    }
   ],
   "source": [
    "# Carga de datos\n",
    "data = np.load('data/proyecto_training_data.npy')\n",
    "data = pd.DataFrame(data)\n",
    "data.columns = [\"SalePrice\", \"OverallQual\", \"1stFlrSF\", \"TotRmsAbvGrd\", \"YearBuilt\", \"LotFrontage\"]\n",
    "data.describe()"
   ]
  },
  {
   "cell_type": "code",
   "execution_count": 3,
   "id": "31f6ff3e",
   "metadata": {},
   "outputs": [],
   "source": [
    "# Division de datos para entrenamiento y pruebas\n",
    "data = data.sample(frac = 1)\n",
    "index = int(0.8 * len(data))\n",
    "df_train = data[:index]\n",
    "df_test = data[:-index]"
   ]
  },
  {
   "cell_type": "markdown",
   "id": "cfa0a3ce",
   "metadata": {},
   "source": [
    "# Modelo de regresión lineal con Tensorflow"
   ]
  },
  {
   "cell_type": "markdown",
   "id": "031a0668",
   "metadata": {
    "tags": []
   },
   "source": [
    "A continuación crearemos una clase que será útil para la realización del modelo determinado, esta clase realiza las ejecuciones basadas en operaciones con Tensorflow.\n"
   ]
  },
  {
   "cell_type": "code",
   "execution_count": 4,
   "id": "8e27aa79",
   "metadata": {},
   "outputs": [],
   "source": [
    "class MRL:\n",
    "\n",
    "    def __init__ (self):\n",
    "        self.parameters = tf.get_variable(\"parametros\", dtype = tf.float32, shape = [1,2], initializer = tf.zeros_initializer())\n",
    "    \n",
    "    # Ejecución de Gradient descent.\n",
    "    # Devuelve el conjunto de valores útiles para una iteración de experimento\n",
    "    def gradient_descent(self, x, y, lr):\n",
    "        mse = 1/2 * tf.reduce_mean(tf.math.square(y - tf.matmul(self.parameters,x)))\n",
    "        error_summary = tf.summary.scalar(\"mse_summary\", mse)\n",
    "        gradient = tf.gradients(mse, [self.parameters])\n",
    "        new_w = tf.assign(self.parameters, self.parameters -lr * gradient[0])\n",
    "        return new_w, mse, error_summary"
   ]
  },
  {
   "cell_type": "markdown",
   "id": "8ca861f6",
   "metadata": {},
   "source": [
    "A continuación implementaremos el entrenamiento del modelo y sus calculos.\n",
    "\n",
    "**OverallQual** es la variable que utilicé en mi proyecto anterior, ésa fue con la que encontré una mayor conrrelación con la variable a predecir: **SalePrice**."
   ]
  },
  {
   "cell_type": "code",
   "execution_count": 5,
   "id": "7fb757e1",
   "metadata": {},
   "outputs": [],
   "source": [
    "#Modelo de entrenamiento con sus hiperparametros\n",
    "def training_model(x, y, lr, epochs, printl):\n",
    "    # Experimento\n",
    "    exp_string = './logs/' + datetime.datetime.now().strftime(\"%Y%m%d-%H%M%S\") + \"_epochs=\" + str(epochs) + \"_lr=\" + str(lr)\n",
    "\n",
    "    graph = tf.Graph()\n",
    "    with graph.as_default():\n",
    "        # tensores input\n",
    "        tx = tf.placeholder(tf.float32, [2, len(df_train[\"OverallQual\"])], \"tx\")\n",
    "        ty = tf.placeholder(tf.float32, [len(df_train[\"SalePrice\"])], \"ty\")\n",
    "        \n",
    "        # Nodo para cálculo de nuevos parámetros para GD\n",
    "        mrl = MRL()\n",
    "        current_parameters = mrl.gradient_descent(tx, ty, lr)\n",
    "        \n",
    "        # Writer para utilizacion de tensorboard\n",
    "        file_writer = tf.summary.FileWriter(exp_string, graph)\n",
    "        \n",
    "        with tf.train.MonitoredSession() as session:\n",
    "            # Paso de valores a los tensores input\n",
    "            tensor_dict = {tx:x, ty:y}\n",
    "            \n",
    "            # Ejecución de epochs + 1 veces del algoritmo\n",
    "            for i in range(epochs + 1):\n",
    "                # Entrenamiento del modelo para cálculo de los nuevos parámetros\n",
    "                model_training = session.run(current_parameters, feed_dict = tensor_dict)\n",
    "                # Impresión de epochs\n",
    "                if (i % printl == 0):\n",
    "                    parameters = session.run(mrl.parameters, feed_dict = tensor_dict)\n",
    "                    # Agregar datos a writer para poder visualizarlos en tensorboard\n",
    "                    file_writer.add_summary(model_training[2], i)\n",
    "                    print(\"Epoch: \", i, \"Parámetros: \", parameters, \"mse: \", model_training[1])\n",
    "                    \n",
    "            file_writer.close()"
   ]
  },
  {
   "cell_type": "markdown",
   "id": "4b2dd745",
   "metadata": {},
   "source": [
    "## Cálculo de experimentos\n",
    "\n",
    "### Hipótesis\n",
    "\n",
    "Según el algoritmo de Gradient Descent para alcanzar el error mínino (MSE) se depende del Learning rate, lo cual define la cantidad de epochs que son necesarios para alcanzar la convergencia.\n",
    "\n",
    "Se estima que el lr debe estar comprendido entre alguno de los valores siguientes: 0.01, 0.02, 0.03, 0.04, 0.05, 0.06"
   ]
  },
  {
   "cell_type": "code",
   "execution_count": 6,
   "id": "07e98a8b",
   "metadata": {},
   "outputs": [],
   "source": [
    "x = df_train[\"OverallQual\"]\n",
    "x = np.array([x, np.ones_like(x)], dtype = \"float64\")\n",
    "y = df_train[\"SalePrice\"]"
   ]
  },
  {
   "cell_type": "markdown",
   "id": "2de49a6c",
   "metadata": {},
   "source": [
    "## Ejecución de experimentos\n",
    "A continuación realizaremos las llamadas de ejecución al modelo de entrenamiento definido anteriormente para los calculos que serán utiles para trabajar con Tensorboard."
   ]
  },
  {
   "cell_type": "code",
   "execution_count": 7,
   "id": "fa313f4d",
   "metadata": {},
   "outputs": [
    {
     "name": "stdout",
     "output_type": "stream",
     "text": [
      "\n",
      "*** EXPERIMENT 0: lr=0.01, epochs=24000, println=1500***\n",
      "--------------------------------------------------------\n",
      "WARNING:tensorflow:From C:\\Users\\hbarrientosg\\Anaconda3\\envs\\TareasSLII\\lib\\site-packages\\tensorflow\\python\\ops\\array_ops.py:1354: add_dispatch_support.<locals>.wrapper (from tensorflow.python.ops.array_ops) is deprecated and will be removed in a future version.\n",
      "Instructions for updating:\n",
      "Use tf.where in 2.0, which has the same broadcast rule as np.where\n",
      "INFO:tensorflow:Graph was finalized.\n",
      "INFO:tensorflow:Running local_init_op.\n",
      "INFO:tensorflow:Done running local_init_op.\n",
      "Epoch:  0 Parámetros:  [[11933.457   1812.6871]] mse:  19629758000.0\n",
      "Epoch:  1500 Parámetros:  [[ 38161.332 -49265.496]] mse:  1256514300.0\n",
      "Epoch:  3000 Parámetros:  [[ 42357.625 -76134.164]] mse:  1205205000.0\n",
      "Epoch:  4500 Parámetros:  [[ 44450.97  -89537.734]] mse:  1192436500.0\n",
      "Epoch:  6000 Parámetros:  [[ 45495.234 -96224.13 ]] mse:  1189259100.0\n",
      "Epoch:  7500 Parámetros:  [[ 46016.17 -99559.67]] mse:  1188468100.0\n",
      "Epoch:  9000 Parámetros:  [[  46276.047 -101223.6  ]] mse:  1188271400.0\n",
      "Epoch:  10500 Parámetros:  [[  46405.676 -102053.64 ]] mse:  1188222200.0\n",
      "Epoch:  12000 Parámetros:  [[  46470.355 -102467.77 ]] mse:  1188210200.0\n",
      "Epoch:  13500 Parámetros:  [[  46502.61 -102674.29]] mse:  1188207200.0\n",
      "Epoch:  15000 Parámetros:  [[  46518.688 -102777.22 ]] mse:  1188206300.0\n",
      "Epoch:  16500 Parámetros:  [[  46526.68 -102828.41]] mse:  1188206100.0\n",
      "Epoch:  18000 Parámetros:  [[  46530.83  -102854.984]] mse:  1188206200.0\n",
      "Epoch:  19500 Parámetros:  [[  46532.66  -102866.734]] mse:  1188206300.0\n",
      "Epoch:  21000 Parámetros:  [[  46533.383 -102871.36 ]] mse:  1188206500.0\n",
      "Epoch:  22500 Parámetros:  [[  46533.383 -102871.36 ]] mse:  1188206500.0\n",
      "Epoch:  24000 Parámetros:  [[  46533.383 -102871.36 ]] mse:  1188206500.0\n",
      "\n",
      "*** EXPERIMENT 1: lr=0.02, epochs=22000, println=1500***\n",
      "--------------------------------------------------------\n",
      "INFO:tensorflow:Graph was finalized.\n",
      "INFO:tensorflow:Running local_init_op.\n",
      "INFO:tensorflow:Done running local_init_op.\n",
      "Epoch:  0 Parámetros:  [[23866.914   3625.3743]] mse:  19629758000.0\n",
      "Epoch:  1500 Parámetros:  [[ 42360.926 -76155.28 ]] mse:  1205194000.0\n",
      "Epoch:  3000 Parámetros:  [[ 45496.4   -96231.586]] mse:  1189257300.0\n",
      "Epoch:  4500 Parámetros:  [[  46276.44  -101226.164]] mse:  1188271200.0\n",
      "Epoch:  6000 Parámetros:  [[  46470.477 -102468.56 ]] mse:  1188210200.0\n",
      "Epoch:  7500 Parámetros:  [[  46518.758 -102777.68 ]] mse:  1188206300.0\n",
      "Epoch:  9000 Parámetros:  [[  46530.742 -102854.42 ]] mse:  1188206100.0\n",
      "Epoch:  10500 Parámetros:  [[  46533.72 -102873.5 ]] mse:  1188206200.0\n",
      "Epoch:  12000 Parámetros:  [[  46534.07 -102875.76]] mse:  1188206300.0\n",
      "Epoch:  13500 Parámetros:  [[  46534.07 -102875.76]] mse:  1188206300.0\n",
      "Epoch:  15000 Parámetros:  [[  46534.07 -102875.76]] mse:  1188206300.0\n",
      "Epoch:  16500 Parámetros:  [[  46534.07 -102875.76]] mse:  1188206300.0\n",
      "Epoch:  18000 Parámetros:  [[  46534.07 -102875.76]] mse:  1188206300.0\n",
      "Epoch:  19500 Parámetros:  [[  46534.07 -102875.76]] mse:  1188206300.0\n",
      "Epoch:  21000 Parámetros:  [[  46534.07 -102875.76]] mse:  1188206300.0\n",
      "\n",
      "*** EXPERIMENT 2: lr=0.03, epochs=10000, println=1000***\n",
      "--------------------------------------------------------\n",
      "INFO:tensorflow:Graph was finalized.\n",
      "INFO:tensorflow:Running local_init_op.\n",
      "INFO:tensorflow:Done running local_init_op.\n",
      "Epoch:  0 Parámetros:  [[35800.37    5438.0615]] mse:  19629758000.0\n",
      "Epoch:  1000 Parámetros:  [[ 42364.195 -76176.21 ]] mse:  1205183200.0\n",
      "Epoch:  2000 Parámetros:  [[ 45497.547 -96238.92 ]] mse:  1189256300.0\n",
      "Epoch:  3000 Parámetros:  [[  46276.797 -101228.42 ]] mse:  1188271100.0\n",
      "Epoch:  4000 Parámetros:  [[  46470.598 -102469.32 ]] mse:  1188210200.0\n",
      "Epoch:  5000 Parámetros:  [[  46518.797 -102777.94 ]] mse:  1188206300.0\n",
      "Epoch:  6000 Parámetros:  [[  46530.797 -102854.78 ]] mse:  1188206100.0\n",
      "Epoch:  7000 Parámetros:  [[  46533.72  -102873.484]] mse:  1188206200.0\n",
      "Epoch:  8000 Parámetros:  [[  46534.3  -102877.23]] mse:  1188206200.0\n",
      "Epoch:  9000 Parámetros:  [[  46534.3  -102877.23]] mse:  1188206200.0\n",
      "Epoch:  10000 Parámetros:  [[  46534.3  -102877.23]] mse:  1188206200.0\n",
      "\n",
      "*** EXPERIMENT 3: lr=0.04, epochs=10000, println=1000***\n",
      "--------------------------------------------------------\n",
      "INFO:tensorflow:Graph was finalized.\n",
      "INFO:tensorflow:Running local_init_op.\n",
      "INFO:tensorflow:Done running local_init_op.\n",
      "Epoch:  0 Parámetros:  [[47733.83    7250.7485]] mse:  19629758000.0\n",
      "Epoch:  1000 Parámetros:  [[ 43914.383 -86102.016]] mse:  1194914400.0\n",
      "Epoch:  2000 Parámetros:  [[  46125.113 -100257.2  ]] mse:  1188370200.0\n",
      "Epoch:  3000 Parámetros:  [[  46470.707 -102470.055]] mse:  1188210200.0\n",
      "Epoch:  4000 Parámetros:  [[  46524.746 -102816.016]] mse:  1188206300.0\n",
      "Epoch:  5000 Parámetros:  [[  46533.195 -102870.14 ]] mse:  1188206300.0\n",
      "Epoch:  6000 Parámetros:  [[  46534.418 -102877.98 ]] mse:  1188206300.0\n",
      "Epoch:  7000 Parámetros:  [[  46534.418 -102877.98 ]] mse:  1188206300.0\n",
      "Epoch:  8000 Parámetros:  [[  46534.418 -102877.98 ]] mse:  1188206300.0\n",
      "Epoch:  9000 Parámetros:  [[  46534.418 -102877.98 ]] mse:  1188206300.0\n",
      "Epoch:  10000 Parámetros:  [[  46534.418 -102877.98 ]] mse:  1188206300.0\n",
      "\n",
      "*** EXPERIMENT 4: lr=0.05, epochs=10000, println=1000***\n",
      "--------------------------------------------------------\n",
      "INFO:tensorflow:Graph was finalized.\n",
      "INFO:tensorflow:Running local_init_op.\n",
      "INFO:tensorflow:Done running local_init_op.\n",
      "Epoch:  0 Parámetros:  [[59667.29   9063.437]] mse:  19629758000.0\n",
      "Epoch:  1000 Parámetros:  [[3910132.5  511324.3]] mse:  303867960000000.0\n",
      "Epoch:  2000 Parámetros:  [[4.999399e+08 7.797045e+07]] mse:  5.0825876e+18\n",
      "Epoch:  3000 Parámetros:  [[6.465187e+10 1.009699e+10]] mse:  8.501429e+22\n",
      "Epoch:  4000 Parámetros:  [[8.3614625e+12 1.3058850e+12]] mse:  1.4219817e+27\n",
      "Epoch:  5000 Parámetros:  [[1.0813642e+15 1.6888311e+14]] mse:  2.378335e+31\n",
      "Epoch:  6000 Parámetros:  [[1.3984750e+17 2.1841068e+16]] mse:  inf\n",
      "Epoch:  7000 Parámetros:  [[1.8086476e+19 2.8246311e+18]] mse:  inf\n",
      "Epoch:  8000 Parámetros:  [[2.3390230e+21 3.6530305e+20]] mse:  inf\n",
      "Epoch:  9000 Parámetros:  [[3.0250282e+23 4.7244935e+22]] mse:  inf\n",
      "Epoch:  10000 Parámetros:  [[3.9123787e+25 6.1102476e+24]] mse:  inf\n",
      "\n",
      "*** EXPERIMENT 5: lr=0.06, epochs=10000, println=1000***\n",
      "--------------------------------------------------------\n",
      "INFO:tensorflow:Graph was finalized.\n",
      "INFO:tensorflow:Running local_init_op.\n",
      "INFO:tensorflow:Done running local_init_op.\n",
      "Epoch:  0 Parámetros:  [[71600.74  10876.123]] mse:  19629758000.0\n",
      "Epoch:  1000 Parámetros:  [[nan nan]] mse:  nan\n",
      "Epoch:  2000 Parámetros:  [[nan nan]] mse:  nan\n",
      "Epoch:  3000 Parámetros:  [[nan nan]] mse:  nan\n",
      "Epoch:  4000 Parámetros:  [[nan nan]] mse:  nan\n",
      "Epoch:  5000 Parámetros:  [[nan nan]] mse:  nan\n",
      "Epoch:  6000 Parámetros:  [[nan nan]] mse:  nan\n",
      "Epoch:  7000 Parámetros:  [[nan nan]] mse:  nan\n",
      "Epoch:  8000 Parámetros:  [[nan nan]] mse:  nan\n",
      "Epoch:  9000 Parámetros:  [[nan nan]] mse:  nan\n",
      "Epoch:  10000 Parámetros:  [[nan nan]] mse:  nan\n"
     ]
    }
   ],
   "source": [
    "iterations = 6\n",
    "lrs = [0.01, 0.02, 0.03, 0.04, 0.05, 0.06]\n",
    "epochss = [24000, 22000, 10000, 10000, 10000, 10000]\n",
    "printls = [1500, 1500, 1000, 1000, 1000, 1000]\n",
    "for k in range(iterations):\n",
    "    print(\"\\n*** EXPERIMENT {}: lr={}, epochs={}, println={}***\".format(k, lrs[k], epochss[k], printls[k]))\n",
    "    print(\"--------------------------------------------------------\")\n",
    "    training_model(x, y, lrs[k], epochss[k], printls[k])"
   ]
  },
  {
   "cell_type": "code",
   "execution_count": 8,
   "id": "59528611",
   "metadata": {},
   "outputs": [
    {
     "data": {
      "text/plain": [
       "Reusing TensorBoard on port 6006 (pid 98544), started 3 days, 10:01:33 ago. (Use '!kill 98544' to kill it.)"
      ]
     },
     "metadata": {},
     "output_type": "display_data"
    },
    {
     "data": {
      "text/html": [
       "\n",
       "        <iframe\n",
       "            width=\"100%\"\n",
       "            height=\"800\"\n",
       "            src=\"http://localhost:6006\"\n",
       "            frameborder=\"0\"\n",
       "            allowfullscreen\n",
       "        ></iframe>\n",
       "        "
      ],
      "text/plain": [
       "<IPython.lib.display.IFrame at 0x1e2150dbfc8>"
      ]
     },
     "metadata": {},
     "output_type": "display_data"
    }
   ],
   "source": [
    "%tensorboard --logdir ./logs"
   ]
  },
  {
   "cell_type": "markdown",
   "id": "1689fc6d",
   "metadata": {},
   "source": [
    "## Conclusiones\n",
    "\n",
    "1. Se puede observar que el error mínimo se alcanza cuanto más grande es el _Learning rate_, esto basandonos en las observaciones del comportamiento del MSE respecto del _Learning rate_.\n",
    "\n",
    "2. Luego de la ejecución de los experimentos, se observa que el Learning rate tiene una relación directamente proporcional con los pasos de _Gradient descent_, lo que implica tener que utilizar menos _epochs_.\n",
    "\n",
    "3. Al avanzar con los experimentos y hacer más grande el valor del _Learning rate_, podemos observar cómo el algortimo _Gradient descent_ llega a un resultado indefinido, esto seguramente porque no logra alcanzar la convergencia.\n",
    "\n",
    "4. Como conclusión para nuestra experimentación vemos cómo para alcanzar la convergencia de forma rápida y con menos epochs, es requerido definir los hiperparámetros como: **lr = 0.04**, con lo cual obtenemos el error minímo aproximadamente en el **epoch = 4000**."
   ]
  }
 ],
 "metadata": {
  "kernelspec": {
   "display_name": "Python 3 (ipykernel)",
   "language": "python",
   "name": "python3"
  },
  "language_info": {
   "codemirror_mode": {
    "name": "ipython",
    "version": 3
   },
   "file_extension": ".py",
   "mimetype": "text/x-python",
   "name": "python",
   "nbconvert_exporter": "python",
   "pygments_lexer": "ipython3",
   "version": "3.7.11"
  }
 },
 "nbformat": 4,
 "nbformat_minor": 5
}
